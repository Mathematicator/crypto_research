{
 "cells": [
  {
   "cell_type": "code",
   "execution_count": 1,
   "id": "c1b3aab9",
   "metadata": {
    "ExecuteTime": {
     "end_time": "2021-11-28T13:29:38.496480Z",
     "start_time": "2021-11-28T13:29:37.536661Z"
    },
    "_kg_hide-input": true,
    "_kg_hide-output": true,
    "execution": {
     "iopub.execute_input": "2021-11-27T09:16:19.188870Z",
     "iopub.status.busy": "2021-11-27T09:16:19.187545Z",
     "iopub.status.idle": "2021-11-27T09:16:19.227887Z",
     "shell.execute_reply": "2021-11-27T09:16:19.228781Z",
     "shell.execute_reply.started": "2021-11-27T09:09:02.244068Z"
    },
    "papermill": {
     "duration": 0.091053,
     "end_time": "2021-11-27T09:16:19.229133",
     "exception": false,
     "start_time": "2021-11-27T09:16:19.138080",
     "status": "completed"
    },
    "tags": []
   },
   "outputs": [
    {
     "ename": "FileNotFoundError",
     "evalue": "[WinError 3] Le chemin d’accès spécifié est introuvable: '/t/Datasets/kaggle_crypto/internal'",
     "output_type": "error",
     "traceback": [
      "\u001b[1;31m---------------------------------------------------------------------------\u001b[0m",
      "\u001b[1;31mFileNotFoundError\u001b[0m                         Traceback (most recent call last)",
      "\u001b[1;32m~\\AppData\\Local\\Temp/ipykernel_25368/612802622.py\u001b[0m in \u001b[0;36m<module>\u001b[1;34m\u001b[0m\n\u001b[0;32m     46\u001b[0m \u001b[1;33m\u001b[0m\u001b[0m\n\u001b[0;32m     47\u001b[0m \u001b[1;32mimport\u001b[0m \u001b[0mos\u001b[0m\u001b[1;33m\u001b[0m\u001b[1;33m\u001b[0m\u001b[0m\n\u001b[1;32m---> 48\u001b[1;33m \u001b[1;32mif\u001b[0m \u001b[1;32mnot\u001b[0m \u001b[0mos\u001b[0m\u001b[1;33m.\u001b[0m\u001b[0mpath\u001b[0m\u001b[1;33m.\u001b[0m\u001b[0mexists\u001b[0m\u001b[1;33m(\u001b[0m\u001b[1;34m\"../input/g-research-crypto-forecasting/\"\u001b[0m\u001b[1;33m)\u001b[0m\u001b[1;33m:\u001b[0m \u001b[0mos\u001b[0m\u001b[1;33m.\u001b[0m\u001b[0mchdir\u001b[0m\u001b[1;33m(\u001b[0m\u001b[1;34m'/t/Datasets/kaggle_crypto/internal'\u001b[0m\u001b[1;33m)\u001b[0m\u001b[1;33m\u001b[0m\u001b[1;33m\u001b[0m\u001b[0m\n\u001b[0m\u001b[0;32m     49\u001b[0m \u001b[0mHTML\u001b[0m\u001b[1;33m(\u001b[0m\u001b[0mhtml_contents\u001b[0m\u001b[1;33m)\u001b[0m\u001b[1;33m\u001b[0m\u001b[1;33m\u001b[0m\u001b[0m\n",
      "\u001b[1;31mFileNotFoundError\u001b[0m: [WinError 3] Le chemin d’accès spécifié est introuvable: '/t/Datasets/kaggle_crypto/internal'"
     ]
    }
   ],
   "source": [
    "from IPython.core.display import display, HTML, Javascript\n",
    "\n",
    "# ----- Notebook Theme -----\n",
    "\n",
    "notebook_theme = 'carrot'\n",
    "color_maps = {'turquoise': ['#1abc9c', '#e8f8f5', '#d1f2eb', '#a3e4d7', '#76d7c4', '#48c9b0', '#1abc9c', '#17a589', '#148f77', '#117864', '#0e6251'], 'green': ['#16a085', '#e8f6f3', '#d0ece7', '#a2d9ce', '#73c6b6', '#45b39d', '#16a085', '#138d75', '#117a65', '#0e6655', '#0b5345'], 'emerald': ['#2ecc71', '#eafaf1', '#d5f5e3', '#abebc6', '#82e0aa', '#58d68d', '#2ecc71', '#28b463', '#239b56', '#1d8348', '#186a3b'], 'nephritis': ['#27ae60', '#e9f7ef', '#d4efdf', '#a9dfbf', '#7dcea0', '#52be80', '#27ae60', '#229954', '#1e8449', '#196f3d', '#145a32'], 'peter': ['#3498db', '#ebf5fb', '#d6eaf8', '#aed6f1', '#85c1e9', '#5dade2', '#3498db', '#2e86c1', '#2874a6', '#21618c', '#1b4f72'], 'belize': ['#2980b9', '#eaf2f8', '#d4e6f1', '#a9cce3', '#7fb3d5', '#5499c7', '#2980b9', '#2471a3', '#1f618d', '#1a5276', '#154360'], 'amethyst': ['#9b59b6', '#f5eef8', '#ebdef0', '#d7bde2', '#c39bd3', '#af7ac5', '#9b59b6', '#884ea0', '#76448a', '#633974', '#512e5f'], 'wisteria': ['#8e44ad', '#f4ecf7', '#e8daef', '#d2b4de', '#bb8fce', '#a569bd', '#8e44ad', '#7d3c98', '#6c3483', '#5b2c6f', '#4a235a'], 'wet': ['#34495e', '#ebedef', '#d6dbdf', '#aeb6bf', '#85929e', '#5d6d7e', '#34495e', '#2e4053', '#283747', '#212f3c', '#1b2631'], 'midnight': ['#2c3e50', '#eaecee', '#d5d8dc', '#abb2b9', '#808b96', '#566573', '#2c3e50', '#273746', '#212f3d', '#1c2833', '#17202a'], 'sunflower': ['#f1c40f', '#fef9e7', '#fcf3cf', '#f9e79f', '#f7dc6f', '#f4d03f', '#f1c40f', '#d4ac0d', '#b7950b', '#9a7d0a', '#7d6608'], 'orange': ['#f39c12', '#fef5e7', '#fdebd0', '#fad7a0', '#f8c471', '#f5b041', '#f39c12', '#d68910', '#b9770e', '#9c640c', '#7e5109'], 'carrot': ['#e67e22', '#fdf2e9', '#fae5d3', '#f5cba7', '#f0b27a', '#eb984e', '#e67e22', '#ca6f1e', '#af601a', '#935116', '#784212'], 'pumpkin': ['#d35400', '#fbeee6', '#f6ddcc', '#edbb99', '#e59866', '#dc7633', '#d35400', '#ba4a00', '#a04000', '#873600', '#6e2c00'], 'alizarin': ['#e74c3c', '#fdedec', '#fadbd8', '#f5b7b1', '#f1948a', '#ec7063', '#e74c3c', '#cb4335', '#b03a2e', '#943126', '#78281f'], 'pomegranate': ['#c0392b', '#f9ebea', '#f2d7d5', '#e6b0aa', '#d98880', '#cd6155', '#c0392b', '#a93226', '#922b21', '#7b241c', '#641e16'], 'clouds': ['#ecf0f1', '#fdfefe', '#fbfcfc', '#f7f9f9', '#f4f6f7', '#f0f3f4', '#ecf0f1', '#d0d3d4', '#b3b6b7', '#979a9a', '#7b7d7d'], 'silver': ['#bdc3c7', '#f8f9f9', '#f2f3f4', '#e5e7e9', '#d7dbdd', '#cacfd2', '#bdc3c7', '#a6acaf', '#909497', '#797d7f', '#626567'], 'concrete': ['#95a5a6', '#f4f6f6', '#eaeded', '#d5dbdb', '#bfc9ca', '#aab7b8', '#95a5a6', '#839192', '#717d7e', '#5f6a6a', '#4d5656'], 'asbestos': ['#7f8c8d', '#f2f4f4', '#e5e8e8', '#ccd1d1', '#b2babb', '#99a3a4', '#7f8c8d', '#707b7c', '#616a6b', '#515a5a', '#424949']}\n",
    "# color_maps = {'red': ['#f44336', '#ffebee', '#ffcdd2', '#ef9a9a', '#e57373', '#ef5350', '#f44336', '#e53935', '#d32f2f', '#c62828', '#b71c1c', '#ff8a80', '#ff5252', '#ff1744', '#d50000'], 'pink': ['#e91e63', '#fce4ec', '#f8bbd0', '#f48fb1', '#f06292', '#ec407a', '#e91e63', '#d81b60', '#c2185b', '#ad1457', '#880e4f', '#ff80ab', '#ff4081', '#f50057', '#c51162'], 'purple': ['#9c27b0', '#f3e5f5', '#e1bee7', '#ce93d8', '#ba68c8', '#ab47bc', '#9c27b0', '#8e24aa', '#7b1fa2', '#6a1b9a', '#4a148c', '#ea80fc', '#e040fb', '#d500f9', '#aa00ff'], 'deep': ['#673ab7', '#ede7f6', '#d1c4e9', '#b39ddb', '#9575cd', '#7e57c2', '#673ab7', '#5e35b1', '#512da8', '#4527a0', '#311b92', '#b388ff', '#7c4dff', '#651fff', '#6200ea', '#ff5722', '#fbe9e7', '#ffccbc', '#ffab91', '#ff8a65', '#ff7043', '#ff5722', '#f4511e', '#e64a19', '#d84315', '#bf360c', '#ff9e80', '#ff6e40', '#ff3d00', '#dd2c00'], 'indigo': ['#3f51b5', '#e8eaf6', '#c5cae9', '#9fa8da', '#7986cb', '#5c6bc0', '#3f51b5', '#3949ab', '#303f9f', '#283593', '#1a237e', '#8c9eff', '#536dfe', '#3d5afe', '#304ffe'], 'blue': ['#2196f3', '#e3f2fd', '#bbdefb', '#90caf9', '#64b5f6', '#42a5f5', '#2196f3', '#1e88e5', '#1976d2', '#1565c0', '#0d47a1', '#82b1ff', '#448aff', '#2979ff', '#2962ff', '#607d8b', '#eceff1', '#cfd8dc', '#b0bec5', '#90a4ae', '#78909c', '#607d8b', '#546e7a', '#455a64', '#37474f', '#263238'], 'light': ['#03a9f4', '#e1f5fe', '#b3e5fc', '#81d4fa', '#4fc3f7', '#29b6f6', '#03a9f4', '#039be5', '#0288d1', '#0277bd', '#01579b', '#80d8ff', '#40c4ff', '#00b0ff', '#0091ea', '#8bc34a', '#f1f8e9', '#dcedc8', '#c5e1a5', '#aed581', '#9ccc65', '#8bc34a', '#7cb342', '#689f38', '#558b2f', '#33691e', '#ccff90', '#b2ff59', '#76ff03', '#64dd17'], 'cyan': ['#00bcd4', '#e0f7fa', '#b2ebf2', '#80deea', '#4dd0e1', '#26c6da', '#00bcd4', '#00acc1', '#0097a7', '#00838f', '#006064', '#84ffff', '#18ffff', '#00e5ff', '#00b8d4'], 'teal': ['#009688', '#e0f2f1', '#b2dfdb', '#80cbc4', '#4db6ac', '#26a69a', '#009688', '#00897b', '#00796b', '#00695c', '#004d40', '#a7ffeb', '#64ffda', '#1de9b6', '#00bfa5'], 'green': ['#4caf50', '#e8f5e9', '#c8e6c9', '#a5d6a7', '#81c784', '#66bb6a', '#4caf50', '#43a047', '#388e3c', '#2e7d32', '#1b5e20', '#b9f6ca', '#69f0ae', '#00e676', '#00c853'], 'lime': ['#cddc39', '#f9fbe7', '#f0f4c3', '#e6ee9c', '#dce775', '#d4e157', '#cddc39', '#c0ca33', '#afb42b', '#9e9d24', '#827717', '#f4ff81', '#eeff41', '#c6ff00', '#aeea00'], 'yellow': ['#ffeb3b', '#fffde7', '#fff9c4', '#fff59d', '#fff176', '#ffee58', '#ffeb3b', '#fdd835', '#fbc02d', '#f9a825', '#f57f17', '#ffff8d', '#ffff00', '#ffea00', '#ffd600'], 'amber': ['#ffc107', '#fff8e1', '#ffecb3', '#ffe082', '#ffd54f', '#ffca28', '#ffc107', '#ffb300', '#ffa000', '#ff8f00', '#ff6f00', '#ffe57f', '#ffd740', '#ffc400', '#ffab00'], 'orange': ['#ff9800', '#fff3e0', '#ffe0b2', '#ffcc80', '#ffb74d', '#ffa726', '#ff9800', '#fb8c00', '#f57c00', '#ef6c00', '#e65100', '#ffd180', '#ffab40', '#ff9100', '#ff6d00'], 'brown': ['#795548', '#efebe9', '#d7ccc8', '#bcaaa4', '#a1887f', '#8d6e63', '#795548', '#6d4c41', '#5d4037', '#4e342e', '#3e2723'], 'grey': ['#9e9e9e', '#fafafa', '#f5f5f5', '#eeeeee', '#e0e0e0', '#bdbdbd', '#9e9e9e', '#757575', '#616161', '#424242', '#212121'], 'white': ['#ffffff'], 'black': ['#000000']}\n",
    "\n",
    "color_maps = {i: color_maps[i] for i in color_maps if i not in ['clouds', 'silver', 'concrete', 'asbestos', 'wet asphalt', 'midnight blue', 'wet']}\n",
    "\n",
    "CMAP = 'Oranges'\n",
    "prompt = '#1DBCCD'\n",
    "main_color = '#E58F65' # color_maps[notebook_theme]\n",
    "strong_main_color = '#EB9514' # = color_maps[notebook_theme] \n",
    "custom_colors = [strong_main_color, main_color]\n",
    "\n",
    "# ----- Notebook Theme -----\n",
    "\n",
    "html_contents =\"\"\"\n",
    "<!DOCTYPE html>\n",
    "<html lang=\"en\">\n",
    "    <head>\n",
    "        <link rel=\"stylesheet\" href=\"https://www.w3schools.com/w3css/4/w3.css\">\n",
    "        <link rel=\"stylesheet\" href=\"https://fonts.googleapis.com/css?family=Raleway\">\n",
    "        <link rel=\"stylesheet\" href=\"https://fonts.googleapis.com/css?family=Oswald\">\n",
    "        <link rel=\"stylesheet\" href=\"https://fonts.googleapis.com/css?family=Open Sans\">\n",
    "        <link rel=\"stylesheet\" href=\"https://cdnjs.cloudflare.com/ajax/libs/font-awesome/4.7.0/css/font-awesome.min.css\">\n",
    "        <style>\n",
    "        .title-section{\n",
    "            font-family: \"Oswald\", Arial, sans-serif;\n",
    "            font-weight: bold;\n",
    "            color: \"#6A8CAF\";\n",
    "            letter-spacing: 6px;\n",
    "        }\n",
    "        hr { border: 1px solid #E58F65 !important;\n",
    "             color: #E58F65 !important;\n",
    "             background: #E58F65 !important;\n",
    "           }\n",
    "        body {\n",
    "            font-family: \"Open Sans\", sans-serif;\n",
    "            }        \n",
    "        </style>\n",
    "    </head>    \n",
    "</html>\n",
    "\"\"\"\n",
    "\n",
    "import os\n",
    "if not os.path.exists(\"../input/g-research-crypto-forecasting/\"): os.chdir('/t/Datasets/kaggle_crypto/internal')\n",
    "HTML(html_contents)"
   ]
  },
  {
   "cell_type": "markdown",
   "id": "71e85acf",
   "metadata": {
    "_cell_guid": "42a2c92b-00e6-4c13-b99e-408266d1b964",
    "_uuid": "9b3904ae-5fd7-432b-a10a-1a2446fbcc4b",
    "papermill": {
     "duration": 0.045512,
     "end_time": "2021-11-27T09:16:19.326487",
     "exception": false,
     "start_time": "2021-11-27T09:16:19.280975",
     "status": "completed"
    },
    "tags": []
   },
   "source": [
    "<br><br>\n",
    "<div>    \n",
    "<!--     <div style = \"float:left; width:55%; overflow:hidden;\">         -->\n",
    "        <center><img src=\"https://i.ibb.co/hHpTy3c/g-research-logo6.png\" style = \"max-height:300px;\"></center> \n",
    "<!--     </div> -->\n",
    "<!--     <div style = \"float:right; width:35%; overflow:hidden;\"> -->\n",
    "<!--         <img src=\"img/meditation/Meditation3.gif\">  -->\n",
    "<!--     </div> -->\n",
    "</div>"
   ]
  },
  {
   "cell_type": "markdown",
   "id": "ece4c573",
   "metadata": {
    "_cell_guid": "3208562a-4f7a-45d5-b8e2-67da427cd906",
    "_uuid": "d7276e81-829f-4be5-967d-0a641fb1adbf",
    "papermill": {
     "duration": 0.041608,
     "end_time": "2021-11-27T09:16:19.409940",
     "exception": false,
     "start_time": "2021-11-27T09:16:19.368332",
     "status": "completed"
    },
    "tags": []
   },
   "source": [
    "<hr>"
   ]
  },
  {
   "cell_type": "markdown",
   "id": "16600edc",
   "metadata": {
    "_cell_guid": "241ce292-edca-4688-a665-c6321e80b438",
    "_uuid": "79576405-5d2f-465f-bb01-10eee623172c",
    "papermill": {
     "duration": 0.041724,
     "end_time": "2021-11-27T09:16:19.493590",
     "exception": false,
     "start_time": "2021-11-27T09:16:19.451866",
     "status": "completed"
    },
    "tags": []
   },
   "source": [
    "<div>    \n",
    "    <div style = \"float:left; width:55%; overflow:hidden;\">        \n",
    "        <br><br><br><br>        \n",
    "        <span style = \"float:right;\">\n",
    "        <h2>Transformer-based Multivariate Time Series Representation Learning</h2>\n",
    "        <p>G-Research Crypto Forecasting Competition</p>\n",
    "        <br>\n",
    "        <b></b>\n",
    "        <b>\n",
    "        - 🌎 <a href=\"https://www.kaggle.com/c/g-research-crypto-forecasting/discussion/284903\">Discussion Thread</a>\n",
    "        <br>\n",
    "        - 🇰 <a href=\"https://www.kaggle.com/c/g-research-crypto-forecasting/discussion/285726\">The dataset</a>\n",
    "        </b>            \n",
    "        </span>\n",
    "    </div>\n",
    "    <div style=\"float:right; width:35%; max-height:300px; overflow: hidden;\">        \n",
    "        <img src=\"https://i.ibb.co/9YFyhT8/Bitcoin2.gif\" style = \"max-height: 300px;\">         \n",
    "    </div>\n",
    "</div>"
   ]
  },
  {
   "cell_type": "markdown",
   "id": "22550fa9",
   "metadata": {
    "_cell_guid": "ca79faf7-ca73-4e9b-8552-be96bdc881f9",
    "_uuid": "4e428101-c977-488b-aa10-fe96d228224f",
    "papermill": {
     "duration": 0.041759,
     "end_time": "2021-11-27T09:16:19.577336",
     "exception": false,
     "start_time": "2021-11-27T09:16:19.535577",
     "status": "completed"
    },
    "tags": []
   },
   "source": [
    "<span id=\"introduction\"></span>\n",
    "<hr>"
   ]
  },
  {
   "cell_type": "markdown",
   "id": "3664363a",
   "metadata": {
    "_cell_guid": "8af163ff-915a-4fae-aefe-6447e64952e5",
    "_uuid": "b328cc9e-a536-4347-beed-d033e9f5ac6a",
    "papermill": {
     "duration": 0.04166,
     "end_time": "2021-11-27T09:16:19.661036",
     "exception": false,
     "start_time": "2021-11-27T09:16:19.619376",
     "status": "completed"
    },
    "tags": []
   },
   "source": [
    "\n",
    ">### Transformer-based Multivariate Time Series Representation Learning<br>\n",
    ">This is a simple starter notebook for Kaggle's Crypto Comp showing the usage of Time Series Transformer model from the paper \"Transformer-based Multivariate Time Series Representation Learning\" with Keras. There are many configuration variables below to allow you to experiment. Use either GPU or TPU. You can control which years are loaded, which neural networks are used, and whether to use feature engineering. You can experiment with different data preprocessing, model architecture, loss, optimizers, and learning rate schedules. The extra datasets contain the full history of the assets at the same format of the competition, so you can input that into your model too.\n",
    ">\n",
    ">This notebook follows the ideas presented in my \"Initial Thoughts\" [here][1].\n",
    "\n",
    "[1]: https://www.kaggle.com/c/g-research-crypto-forecasting/discussion/284903\n",
    "[2]: https://www.kaggle.com/yamqwe/let-s-talk-validation-grouptimeseriessplit\n",
    "\n",
    "<div class=\"alert alert-block alert-warning\">\n",
    "<b>References:</b>\n",
    "<ul>\n",
    "    <li><a href = \"https://www.kaggle.com/c/g-research-crypto-forecasting/discussion/285726\">Dataset Thread</a></li>\n",
    "    <li><a href = \"https://www.kaggle.com/c/g-research-crypto-forecasting/discussion/284903\">Initial Thoughts Thread\n",
    "</a></li>\n",
    "    <li><a href = \"https://www.kaggle.com/yamqwe/let-s-talk-validation-grouptimeseriessplit\">Validation Thread\n",
    "</a></li>\n",
    "</ul>\n",
    "</div>"
   ]
  },
  {
   "cell_type": "markdown",
   "id": "52970126",
   "metadata": {
    "papermill": {
     "duration": 0.04134,
     "end_time": "2021-11-27T09:16:19.744376",
     "exception": false,
     "start_time": "2021-11-27T09:16:19.703036",
     "status": "completed"
    },
    "tags": []
   },
   "source": [
    "____\n",
    "\n",
    "#### <center>All notebooks in the series 👇</center>\n",
    "\n",
    "| CV + Model | Hyperparam Optimization  | Time Series Models | Feature Engineering |\n",
    "| --- | --- | --- | --- |\n",
    "| [Neural Network Starter](https://www.kaggle.com/yamqwe/purgedgrouptimeseries-cv-with-extra-data-nn) | [MLP + AE](https://www.kaggle.com/yamqwe/bottleneck-encoder-mlp-keras-tuner)        | [LSTM](https://www.kaggle.com/yamqwe/time-series-modeling-lstm) | [Technical Analysis #1](https://www.kaggle.com/yamqwe/crypto-prediction-technical-analysis-features) |\n",
    "| [LightGBM Starter](https://www.kaggle.com/yamqwe/purgedgrouptimeseries-cv-with-extra-data-lgbm)     | [LightGBM](https://www.kaggle.com/yamqwe/purged-time-series-cv-lightgbm-optuna)     | [Wavenet](https://www.kaggle.com/yamqwe/time-series-modeling-wavenet)  | [Technical Analysis #2](https://www.kaggle.com/yamqwe/crypto-prediction-technical-analysis-feats-2) |\n",
    "| [Catboost Starter](https://www.kaggle.com/yamqwe/purgedgrouptimeseries-cv-extra-data-catboost)      | [Catboost](https://www.kaggle.com/yamqwe/purged-time-series-cv-catboost-gpu-optuna) | [Multivariate-Transformer [written from scratch]](https://www.kaggle.com/yamqwe/time-series-modeling-multivariate-transformer) | [Time Series Agg](https://www.kaggle.com/yamqwe/features-all-time-series-aggregations-ever) | \n",
    "| [XGBoost Starter](https://www.kaggle.com/yamqwe/xgb-extra-data)                                            | [XGboost](https://www.kaggle.com/yamqwe/purged-time-series-cv-xgboost-gpu-optuna) | [N-BEATS](https://www.kaggle.com/yamqwe/crypto-forecasting-n-beats) |  [Neutralization](https://www.kaggle.com/yamqwe/g-research-avoid-overfit-feature-neutralization/) |\n",
    "| [Supervised AE [Janestreet 1st]](https://www.kaggle.com/yamqwe/1st-place-of-jane-street-adapted-to-crypto) | [Supervised AE [Janestreet 1st]](https://www.kaggle.com/yamqwe/1st-place-of-jane-street-keras-tuner) | [DeepAR](https://www.kaggle.com/yamqwe/probabilistic-forecasting-deepar/) | [Quant's Volatility Features](https://www.kaggle.com/yamqwe/crypto-prediction-volatility-features) |\n",
    "| [Transformer)](https://www.kaggle.com/yamqwe/let-s-test-a-transformer)                                     | [Transformer](https://www.kaggle.com/yamqwe/sh-tcoins-transformer-baseline)  |  | ⏳Target Engineering |\n",
    "| [TabNet Starter](https://www.kaggle.com/yamqwe/tabnet-cv-extra-data)                                       |  |  |⏳Fourier Analysis | \n",
    "| [Reinforcement Learning (PPO) Starter](https://www.kaggle.com/yamqwe/g-research-reinforcement-learning-starter) | | | ⏳Wavelets | \n",
    "\n",
    "____"
   ]
  },
  {
   "cell_type": "markdown",
   "id": "784a0d58",
   "metadata": {
    "_cell_guid": "3208562a-4f7a-45d5-b8e2-67da427cd906",
    "_uuid": "d7276e81-829f-4be5-967d-0a641fb1adbf",
    "papermill": {
     "duration": 0.041525,
     "end_time": "2021-11-27T09:16:19.828590",
     "exception": false,
     "start_time": "2021-11-27T09:16:19.787065",
     "status": "completed"
    },
    "tags": []
   },
   "source": [
    "# <span class=\"title-section w3-xxlarge\" id=\"outline\">Table Of Content 📑</span>\n",
    "<hr >"
   ]
  },
  {
   "cell_type": "markdown",
   "id": "dc99313c",
   "metadata": {
    "_cell_guid": "d70815a1-3398-43b2-be85-2230fffd89a9",
    "_uuid": "e9b980c5-036c-4e25-992b-115169a95ba4",
    "papermill": {
     "duration": 0.041953,
     "end_time": "2021-11-27T09:16:19.913956",
     "exception": false,
     "start_time": "2021-11-27T09:16:19.872003",
     "status": "completed"
    },
    "tags": []
   },
   "source": [
    "#### Table Of Content\n",
    "\n",
    "1. [📝 Introduction](#introduction)\n",
    "\n",
    "2. [📑 Table Of Content](#outline) \n",
    "\n",
    "3. [🤿 Diving into the Data](#diving) \n",
    "\n",
    "4. [📚 Imports](#imports) \n",
    "\n",
    "5. [🎚️ Configurations](#config) \n",
    "\n",
    "6. [🗃️ Data Loading](#loading)  \n",
    "\n",
    "7. [🔬 Feature Engineering](#features)  \n",
    "\n",
    "8. [⚙️ Configure The Model](#modelconf)\n",
    "\n",
    "9. [🏋️ Training](#training)\n",
    "\n",
    "10. [🇰 Submit to Kaggle](#submit)"
   ]
  },
  {
   "cell_type": "markdown",
   "id": "b16d998d",
   "metadata": {
    "_cell_guid": "310c5bce-3fab-4a82-b70e-d5e8a0e5e594",
    "_uuid": "ce509f90-2ae9-4ea3-94ad-39479b72ca12",
    "papermill": {
     "duration": 0.041618,
     "end_time": "2021-11-27T09:16:19.997305",
     "exception": false,
     "start_time": "2021-11-27T09:16:19.955687",
     "status": "completed"
    },
    "tags": []
   },
   "source": [
    "# <span class=\"title-section w3-xxlarge\" id=\"outline\">Diving into the Data 🤿</span>\n",
    "<hr >"
   ]
  },
  {
   "cell_type": "markdown",
   "id": "bdebf680",
   "metadata": {
    "_cell_guid": "ca6da936-954f-427b-af0c-f04517c4d4ed",
    "_uuid": "a91494a0-a071-49e5-bcc0-9c7b7566ad75",
    "papermill": {
     "duration": 0.041389,
     "end_time": "2021-11-27T09:16:20.080842",
     "exception": false,
     "start_time": "2021-11-27T09:16:20.039453",
     "status": "completed"
    },
    "tags": []
   },
   "source": [
    "\n",
    "#### **<span>Dataset Structure</span>**\n",
    "\n",
    "> **train.csv** - The training set\n",
    "> \n",
    "> 1.  timestamp - A timestamp for the minute covered by the row.\n",
    "> 2.  Asset_ID - An ID code for the cryptoasset.\n",
    "> 3.  Count - The number of trades that took place this minute.\n",
    "> 4.  Open - The USD price at the beginning of the minute.\n",
    "> 5.  High - The highest USD price during the minute.\n",
    "> 6.  Low - The lowest USD price during the minute.\n",
    "> 7.  Close - The USD price at the end of the minute.\n",
    "> 8.  Volume - The number of cryptoasset u units traded during the minute.\n",
    "> 9.  VWAP - The volume-weighted average price for the minute.\n",
    "> 10. Target - 15 minute residualized returns. See the 'Prediction and Evaluation section of this notebook for details of how the target is calculated.\n",
    "> 11. Weight - Weight, defined by the competition hosts [here](https://www.kaggle.com/cstein06/tutorial-to-the-g-research-crypto-competition)\n",
    "> 12. Asset_Name - Human readable Asset name.\n",
    "> \n",
    ">\n",
    "> **example_test.csv** - An example of the data that will be delivered by the time series API.\n",
    "> \n",
    "> **example_sample_submission.csv** - An example of the data that will be delivered by the time series API. The data is just copied from train.csv.\n",
    "> \n",
    "> **asset_details.csv** - Provides the real name and of the cryptoasset for each Asset_ID and the weight each cryptoasset receives in the metric.\n",
    "> \n",
    "> **supplemental_train.csv** - After the submission period is over this file's data will be replaced with cryptoasset prices from the submission period. In the Evaluation phase, the train, train supplement, and test set will be contiguous in time, apart from any missing data. The current copy, which is just filled approximately the right amount of data from train.csv is provided as a placeholder.\n",
    ">\n",
    "> - 📌 There are 14 coins in the dataset\n",
    ">\n",
    "> - 📌 There are 4 years  in the [full] dataset"
   ]
  },
  {
   "cell_type": "code",
   "execution_count": 2,
   "id": "6b09a077",
   "metadata": {
    "_cell_guid": "75405d52-594f-4791-a45a-16354bc24cfa",
    "_kg_hide-input": true,
    "_kg_hide-output": true,
    "_uuid": "775496bb-f633-46f4-a642-10e6cd29c1bb",
    "execution": {
     "iopub.execute_input": "2021-11-27T09:16:20.173072Z",
     "iopub.status.busy": "2021-11-27T09:16:20.167106Z",
     "iopub.status.idle": "2021-11-27T09:16:20.181295Z",
     "shell.execute_reply": "2021-11-27T09:16:20.180587Z",
     "shell.execute_reply.started": "2021-11-27T09:09:02.422057Z"
    },
    "jupyter": {
     "outputs_hidden": false
    },
    "papermill": {
     "duration": 0.05885,
     "end_time": "2021-11-27T09:16:20.181440",
     "exception": false,
     "start_time": "2021-11-27T09:16:20.122590",
     "status": "completed"
    },
    "tags": []
   },
   "outputs": [
    {
     "data": {
      "text/html": [
       "<style>\n",
       "div #notebook {\n",
       "background-color: white;\n",
       "font-family: 'Open Sans', Helvetica, sans-serif;\n",
       "line-height: 20px;\n",
       "}\n",
       "\n",
       "#notebook-container {\n",
       "margin-top: 2em;\n",
       "padding-top: 2em;\n",
       "border-top: 4px solid #E58F65; /* light orange */\n",
       "-webkit-box-shadow: 0px 0px 8px 2px rgba(224, 212, 226, 0.5); /* pink */\n",
       "    box-shadow: 0px 0px 8px 2px rgba(224, 212, 226, 0.5); /* pink */\n",
       "}\n",
       "\n",
       "div .input {\n",
       "margin-bottom: 1em;\n",
       "}\n",
       "\n",
       ".rendered_html h1, .rendered_html h2, .rendered_html h3, .rendered_html h4, .rendered_html h5, .rendered_html h6 {\n",
       "color: #E58F65; /* light orange */\n",
       "font-weight: 600;\n",
       "}\n",
       "\n",
       ".rendered_html code {\n",
       "    background-color: #efefef; /* light gray */\n",
       "}\n",
       "\n",
       ".CodeMirror {\n",
       "color: #8c8c8c; /* dark gray */\n",
       "padding: 0.7em;\n",
       "}\n",
       "\n",
       "div.input_area {\n",
       "border: none;\n",
       "    background-color: rgba(229, 143, 101, 0.1); /* rgba(229, 143, 101, 0.1); light orange [exactly #E58F65] */\n",
       "    border-top: 2px solid #E58F65; /* light orange */\n",
       "}\n",
       "\n",
       "div.input_prompt {\n",
       "color: #1DBCCD; /* light blue */\n",
       "}\n",
       "\n",
       "div.output_prompt {\n",
       "color: #EB9514; /* strong orange */\n",
       "}\n",
       "\n",
       "div.cell.selected:before, div.cell.selected.jupyter-soft-selected:before {\n",
       "background: #E58F65; /* light orange */\n",
       "}\n",
       "\n",
       "div.cell.selected, div.cell.selected.jupyter-soft-selected {\n",
       "    border-color: #E58F65; /* light orange */\n",
       "}\n",
       "\n",
       ".edit_mode div.cell.selected:before {\n",
       "background: #E58F65; /* light orange */\n",
       "}\n",
       "\n",
       ".edit_mode div.cell.selected {\n",
       "border-color: #E58F65; /* light orange */\n",
       "\n",
       "}\n",
       "</style>"
      ],
      "text/plain": [
       "<IPython.core.display.HTML object>"
      ]
     },
     "execution_count": 2,
     "metadata": {},
     "output_type": "execute_result"
    }
   ],
   "source": [
    "css_file = '''\n",
    "div #notebook {\n",
    "background-color: white;\n",
    "font-family: 'Open Sans', Helvetica, sans-serif;\n",
    "line-height: 20px;\n",
    "}\n",
    "\n",
    "#notebook-container {\n",
    "margin-top: 2em;\n",
    "padding-top: 2em;\n",
    "border-top: 4px solid %s; /* light orange */\n",
    "-webkit-box-shadow: 0px 0px 8px 2px rgba(224, 212, 226, 0.5); /* pink */\n",
    "    box-shadow: 0px 0px 8px 2px rgba(224, 212, 226, 0.5); /* pink */\n",
    "}\n",
    "\n",
    "div .input {\n",
    "margin-bottom: 1em;\n",
    "}\n",
    "\n",
    ".rendered_html h1, .rendered_html h2, .rendered_html h3, .rendered_html h4, .rendered_html h5, .rendered_html h6 {\n",
    "color: %s; /* light orange */\n",
    "font-weight: 600;\n",
    "}\n",
    "\n",
    ".rendered_html code {\n",
    "    background-color: #efefef; /* light gray */\n",
    "}\n",
    "\n",
    ".CodeMirror {\n",
    "color: #8c8c8c; /* dark gray */\n",
    "padding: 0.7em;\n",
    "}\n",
    "\n",
    "div.input_area {\n",
    "border: none;\n",
    "    background-color: %s; /* rgba(229, 143, 101, 0.1); light orange [exactly #E58F65] */\n",
    "    border-top: 2px solid %s; /* light orange */\n",
    "}\n",
    "\n",
    "div.input_prompt {\n",
    "color: %s; /* light blue */\n",
    "}\n",
    "\n",
    "div.output_prompt {\n",
    "color: %s; /* strong orange */\n",
    "}\n",
    "\n",
    "div.cell.selected:before, div.cell.selected.jupyter-soft-selected:before {\n",
    "background: %s; /* light orange */\n",
    "}\n",
    "\n",
    "div.cell.selected, div.cell.selected.jupyter-soft-selected {\n",
    "    border-color: %s; /* light orange */\n",
    "}\n",
    "\n",
    ".edit_mode div.cell.selected:before {\n",
    "background: %s; /* light orange */\n",
    "}\n",
    "\n",
    ".edit_mode div.cell.selected {\n",
    "border-color: %s; /* light orange */\n",
    "\n",
    "}\n",
    "'''\n",
    "def to_rgb(h): return tuple(int(h[i:i+2], 16) for i in (0, 2, 4))\n",
    "main_color_rgba = 'rgba(%s, %s, %s, 0.1)' % (to_rgb(main_color[1:])[0], to_rgb(main_color[1:])[1], to_rgb(main_color[1:])[2])\n",
    "open('notebook.css', 'w').write(css_file % (main_color, main_color, main_color_rgba, main_color,  prompt, strong_main_color, main_color, main_color, main_color, main_color))\n",
    "from IPython.core.display import display, HTML, Javascript\n",
    "def nb(): return HTML(\"<style>\" + open(\"notebook.css\", \"r\").read() + \"</style>\")\n",
    "nb()"
   ]
  },
  {
   "cell_type": "code",
   "execution_count": 3,
   "id": "ff498302",
   "metadata": {
    "_cell_guid": "75d3e80e-0c31-48f5-88dd-5b6a3c79cf38",
    "_kg_hide-input": true,
    "_kg_hide-output": true,
    "_uuid": "968efaca-ede8-4817-b3aa-baedaba3205e",
    "execution": {
     "iopub.execute_input": "2021-11-27T09:16:20.273190Z",
     "iopub.status.busy": "2021-11-27T09:16:20.272481Z",
     "iopub.status.idle": "2021-11-27T09:16:20.277931Z",
     "shell.execute_reply": "2021-11-27T09:16:20.277398Z",
     "shell.execute_reply.started": "2021-11-27T09:09:02.437504Z"
    },
    "jupyter": {
     "outputs_hidden": false
    },
    "papermill": {
     "duration": 0.053932,
     "end_time": "2021-11-27T09:16:20.278076",
     "exception": false,
     "start_time": "2021-11-27T09:16:20.224144",
     "status": "completed"
    },
    "tags": []
   },
   "outputs": [
    {
     "data": {
      "text/html": [
       "<style>\n",
       "div #notebook {\n",
       "background-color: white;\n",
       "font-family: 'Open Sans', Helvetica, sans-serif;\n",
       "line-height: 20px;\n",
       "}\n",
       "\n",
       "#notebook-container {\n",
       "margin-top: 2em;\n",
       "padding-top: 2em;\n",
       "border-top: 4px solid #E58F65; /* light orange */\n",
       "-webkit-box-shadow: 0px 0px 8px 2px rgba(224, 212, 226, 0.5); /* pink */\n",
       "    box-shadow: 0px 0px 8px 2px rgba(224, 212, 226, 0.5); /* pink */\n",
       "}\n",
       "\n",
       "div .input {\n",
       "margin-bottom: 1em;\n",
       "}\n",
       "\n",
       ".rendered_html h1, .rendered_html h2, .rendered_html h3, .rendered_html h4, .rendered_html h5, .rendered_html h6 {\n",
       "color: #E58F65; /* light orange */\n",
       "font-weight: 600;\n",
       "}\n",
       "\n",
       ".rendered_html code {\n",
       "    background-color: #efefef; /* light gray */\n",
       "}\n",
       "\n",
       ".CodeMirror {\n",
       "color: #8c8c8c; /* dark gray */\n",
       "padding: 0.7em;\n",
       "}\n",
       "\n",
       "div.input_area {\n",
       "border: none;\n",
       "    background-color: rgba(229, 143, 101, 0.1); /* rgba(229, 143, 101, 0.1); light orange [exactly #E58F65] */\n",
       "    border-top: 2px solid #E58F65; /* light orange */\n",
       "}\n",
       "\n",
       "div.input_prompt {\n",
       "color: #1DBCCD; /* light blue */\n",
       "}\n",
       "\n",
       "div.output_prompt {\n",
       "color: #EB9514; /* strong orange */\n",
       "}\n",
       "\n",
       "div.cell.selected:before, div.cell.selected.jupyter-soft-selected:before {\n",
       "background: #E58F65; /* light orange */\n",
       "}\n",
       "\n",
       "div.cell.selected, div.cell.selected.jupyter-soft-selected {\n",
       "    border-color: #E58F65; /* light orange */\n",
       "}\n",
       "\n",
       ".edit_mode div.cell.selected:before {\n",
       "background: #E58F65; /* light orange */\n",
       "}\n",
       "\n",
       ".edit_mode div.cell.selected {\n",
       "border-color: #E58F65; /* light orange */\n",
       "\n",
       "}\n",
       "</style>"
      ],
      "text/plain": [
       "<IPython.core.display.HTML object>"
      ]
     },
     "execution_count": 3,
     "metadata": {},
     "output_type": "execute_result"
    }
   ],
   "source": [
    "from IPython.core.display import display, HTML, Javascript\n",
    "# def nb(): return HTML(\"<style>\" + open(\"../input/starter-utils/css_oranges.css\", \"r\").read() + \"</style>\")\n",
    "def nb(): return HTML(\"<style>\" + open(\"notebook.css\", \"r\").read() + \"</style>\")\n",
    "nb()"
   ]
  },
  {
   "cell_type": "markdown",
   "id": "5cbc24c8",
   "metadata": {
    "papermill": {
     "duration": 0.052441,
     "end_time": "2021-11-27T09:16:20.373741",
     "exception": false,
     "start_time": "2021-11-27T09:16:20.321300",
     "status": "completed"
    },
    "tags": []
   },
   "source": [
    "\n",
    "<center>\n",
    "    <span class=\"title-section w3-xxlarge\" id=\"codebook\"> Transformer-based Multivariate Time Series Representation Learning </span>\n",
    "    <h4> https://arxiv.org/abs/2010.02803</h4>\n",
    "    <hr>\n",
    "</center>\n",
    "\n",
    "\n",
    "This is a simple starter notebook for Kaggle's Crypto Comp showing the usage of Time Series Transformer model from the paper \"Transformer-based Multivariate Time Series Representation Learning\" with Keras. There are many configuration variables below to allow you to experiment. Use either GPU or TPU. You can control which years are loaded, which neural networks are used, and whether to use feature engineering. You can experiment with different data preprocessing, model architecture, loss, optimizers, and learning rate schedules. The extra datasets contain the full history of the assets at the same format of the competition, so you can input that into your model too.\n",
    "\n",
    "\n",
    "The main difference is that this notebook supports training end2end and, well.. that it uses tf-keras rather then pytroch-lightning of the original implementation.\n",
    "\n",
    "This notebook implements Transformer Encoder model for learning the representation of time series dataset in G-Research Crypto prediction competition. A **masking probability of 15%** is applied to sampled sequences features independently at random in geometric distribution. It learns to attend both to preceding and succeeding segments in individual features, as well as the inter-dependencies between features.\n",
    "\n",
    "The model is trained with keras for about 1,000 epochs using combined training and test sets. The loss function is **masked MSE loss** trained with masking noise end2end to the targets. \n",
    "You could play around the hyperparameters for a larger model or using more hand-crafted features as the input.\n",
    "\n",
    "\n",
    "<!-- ![Multivariate Time Series Transformer Framework](https://storage.googleapis.com/kaggle-markpeng/GoogleBrainVentilator/mvts_transformer_architecture.png) -->\n",
    "\n",
    "<img src=\"https://storage.googleapis.com/kaggle-markpeng/GoogleBrainVentilator/mvts_transformer_architecture.png\" alt=\"Multivariate Time Series Transformer Framework\" width=\"800\"/>\n",
    "\n",
    "<div align=\"center\">\n",
    "    Source: <a href=\"https://arxiv.org/abs/2010.02803\" target=\"_blank\">https://arxiv.org/abs/2010.02803</a>\n",
    "</div>\n",
    "\n",
    "<br/>\n",
    "\n",
    "**Reference:**\n",
    "\n",
    "George Zerveas _et al._ (2021). \"_A Transformer-based Framework for Multivariate Time Series Representation Learning_,\" Proceedings of the 27th ACM SIGKDD Conference on Knowledge Discovery and Data Mining (KDD '21).\n",
    "\n",
    "**ArXiV paper:** https://arxiv.org/abs/2010.02803\n",
    "\n",
    "**Github Repository:** https://github.com/gzerveas/mvts_transformer\n",
    "\n",
    "**The Sequence Model:**\n",
    "\n",
    "This notebook follows the ideas presented in my \"Initial Thoughts\" [here][1].\n",
    "\n",
    "[1]: https://www.kaggle.com/c/g-research-crypto-forecasting/discussion/284903\n",
    "\n",
    "\n",
    "**Time Series Modeling**:\n",
    "\n",
    "The Basic idea of Time Series modeling with Deep learning  is to re-arrange the data into windows of sequences, and labels. \n",
    "For this example, we will use a window or a sequence of `WINDOW_SIZE` samples (`WINDOW_SIZE` minutes).\n",
    "So the data should look like this series.\n"
   ]
  },
  {
   "cell_type": "markdown",
   "id": "a9223904",
   "metadata": {
    "papermill": {
     "duration": 0.102566,
     "end_time": "2021-11-27T09:16:20.532795",
     "exception": false,
     "start_time": "2021-11-27T09:16:20.430229",
     "status": "completed"
    },
    "tags": []
   },
   "source": [
    "![TS3.JPG](data:image/jpeg;base64,/9j/4AAQSkZJRgABAQEAYABgAAD/4RDQRXhpZgAATU0AKgAAAAgABAE7AAIAAAADSFAAAIdpAAQAAAABAAAISpydAAEAAAAGAAAQwuocAAcAAAgMAAAAPgAAAAAc6gAAAAgAAAAAAAAAAAAAAAAAAAAAAAAAAAAAAAAAAAAAAAAAAAAAAAAAAAAAAAAAAAAAAAAAAAAAAAAAAAAAAAAAAAAAAAAAAAAAAAAAAAAAAAAAAAAAAAAAAAAAAAAAAAAAAAAAAAAAAAAAAAAAAAAAAAAAAAAAAAAAAAAAAAAAAAAAAAAAAAAAAAAAAAAAAAAAAAAAAAAAAAAAAAAAAAAAAAAAAAAAAAAAAAAAAAAAAAAAAAAAAAAAAAAAAAAAAAAAAAAAAAAAAAAAAAAAAAAAAAAAAAAAAAAAAAAAAAAAAAAAAAAAAAAAAAAAAAAAAAAAAAAAAAAAAAAAAAAAAAAAAAAAAAAAAAAAAAAAAAAAAAAAAAAAAAAAAAAAAAAAAAAAAAAAAAAAAAAAAAAAAAAAAAAAAAAAAAAAAAAAAAAAAAAAAAAAAAAAAAAAAAAAAAAAAAAAAAAAAAAAAAAAAAAAAAAAAAAAAAAAAAAAAAAAAAAAAAAAAAAAAAAAAAAAAAAAAAAAAAAAAAAAAAAAAAAAAAAAAAAAAAAAAAAAAAAAAAAAAAAAAAAAAAAAAAAAAAAAAAAAAAAAAAAAAAAAAAAAAAAAAAAAAAAAAAAAAAAAAAAAAAAAAAAAAAAAAAAAAAAAAAAAAAAAAAAAAAAAAAAAAAAAAAAAAAAAAAAAAAAAAAAAAAAAAAAAAAAAAAAAAAAAAAAAAAAAAAAAAAAAAAAAAAAAAAAAAAAAAAAAAAAAAAAAAAAAAAAAAAAAAAAAAAAAAAAAAAAAAAAAAAAAAAAAAAAAAAAAAAAAAAAAAAAAAAAAAAAAAAAAAAAAAAAAAAAAAAAAAAAAAAAAAAAAAAAAAAAAAAAAAAAAAAAAAAAAAAAAAAAAAAAAAAAAAAAAAAAAAAAAAAAAAAAAAAAAAAAAAAAAAAAAAAAAAAAAAAAAAAAAAAAAAAAAAAAAAAAAAAAAAAAAAAAAAAAAAAAAAAAAAAAAAAAAAAAAAAAAAAAAAAAAAAAAAAAAAAAAAAAAAAAAAAAAAAAAAAAAAAAAAAAAAAAAAAAAAAAAAAAAAAAAAAAAAAAAAAAAAAAAAAAAAAAAAAAAAAAAAAAAAAAAAAAAAAAAAAAAAAAAAAAAAAAAAAAAAAAAAAAAAAAAAAAAAAAAAAAAAAAAAAAAAAAAAAAAAAAAAAAAAAAAAAAAAAAAAAAAAAAAAAAAAAAAAAAAAAAAAAAAAAAAAAAAAAAAAAAAAAAAAAAAAAAAAAAAAAAAAAAAAAAAAAAAAAAAAAAAAAAAAAAAAAAAAAAAAAAAAAAAAAAAAAAAAAAAAAAAAAAAAAAAAAAAAAAAAAAAAAAAAAAAAAAAAAAAAAAAAAAAAAAAAAAAAAAAAAAAAAAAAAAAAAAAAAAAAAAAAAAAAAAAAAAAAAAAAAAAAAAAAAAAAAAAAAAAAAAAAAAAAAAAAAAAAAAAAAAAAAAAAAAAAAAAAAAAAAAAAAAAAAAAAAAAAAAAAAAAAAAAAAAAAAAAAAAAAAAAAAAAAAAAAAAAAAAAAAAAAAAAAAAAAAAAAAAAAAAAAAAAAAAAAAAAAAAAAAAAAAAAAAAAAAAAAAAAAAAAAAAAAAAAAAAAAAAAAAAAAAAAAAAAAAAAAAAAAAAAAAAAAAAAAAAAAAAAAAAAAAAAAAAAAAAAAAAAAAAAAAAAAAAAAAAAAAAAAAAAAAAAAAAAAAAAAAAAAAAAAAAAAAAAAAAAAAAAAAAAAAAAAAAAAAAAAAAAAAAAAAAAAAAAAAAAAAAAAAAAAAAAAAAAAAAAAAAAAAAAAAAAAAAAAAAAAAAAAAAAAAAAAAAAAAAAAAAAAAAAAAAAAAAAAAAAAAAAAAAAAAAAAAAAAAAAAAAAAAAAAAAAAAAAAAAAAAAAAAAAAAAAAAAAAAAAAAAAAAAAAAAAAAAAAAAAAAAAAAAAAAAAAAAAAAAAAAAAAAAAAAAAAAAAAAAAAAAAAAAAAAAAAAAAAAAAAAAAAAAAAAAAAAAAAAAAAAAAAAAAAAAAAAAAAAAAAAAAAAAAAAAAAAAAAAAAAAAAAAAAAAAAAAAAAAAAAAAAAAAAAAAAAAAAAAAAAAAAAAAAAAAAAAAAAAAAAAAAAAAAAAAAAAAAAAAAAAAAAAAAAAAAAAAAAAAAAAAAAAAAAAAAAAAAAAAAAAAAAAAAAAAAAAAAAAAAAAAAAAAAAAAAAAAAAAAAAAAAAAAAAAAAAAAAAAAAAAAAAAAAAAAAAAAAAAAAAAAAAAAAAAAAAAAAAAAAAAAAAAAAAAAAAAAAAAAAAAAAAAAAAAAAAAAAAAAAAAAAAAAAAAAAAAAAAAAAAAAAAAAAAAAAAAAAAAAAAAAAAAAAAAAAAAAAAAAAAAAAAAAAAAAAAAAAAAAAAAAAAAAAAAAAAAAAAAAAAAAAAAAAAAAAAAAAAAAAAAAAAAAAAAAAAAAAAAAAAAAAAAAAAAAAAAAAAAAAAAAAAAAAAAAAAAAAAAAAAAAAAAAAAAAAAAAAAAAAAAAAAAAAAAAAAAAAAAAAAAAAAAAAAAAAAAAAAAAAAAAAAAAAAAAAAAAAAAAAAAAAAAAAAAAAAAAAAAAAAAAAAAAAAAAAAAAAAAAAAAAAAAAAAAAAAAAAAAAAAAAAAAAAAAAAAAAAAAAAAAAAAAAAAAAAAAAAAAAAAAAAAAAAAAAAAAAAAAAAAAAAAAAAAAAAAAAAAAAAAAAAAAAAAAAAAAAAAAAAAAAAAAAAAAAAAAAFkAMAAgAAABQAABCYkAQAAgAAABQAABCskpEAAgAAAAMxOQAAkpIAAgAAAAMxOQAA6hwABwAACAwAAAiMAAAAABzqAAAACAAAAAAAAAAAAAAAAAAAAAAAAAAAAAAAAAAAAAAAAAAAAAAAAAAAAAAAAAAAAAAAAAAAAAAAAAAAAAAAAAAAAAAAAAAAAAAAAAAAAAAAAAAAAAAAAAAAAAAAAAAAAAAAAAAAAAAAAAAAAAAAAAAAAAAAAAAAAAAAAAAAAAAAAAAAAAAAAAAAAAAAAAAAAAAAAAAAAAAAAAAAAAAAAAAAAAAAAAAAAAAAAAAAAAAAAAAAAAAAAAAAAAAAAAAAAAAAAAAAAAAAAAAAAAAAAAAAAAAAAAAAAAAAAAAAAAAAAAAAAAAAAAAAAAAAAAAAAAAAAAAAAAAAAAAAAAAAAAAAAAAAAAAAAAAAAAAAAAAAAAAAAAAAAAAAAAAAAAAAAAAAAAAAAAAAAAAAAAAAAAAAAAAAAAAAAAAAAAAAAAAAAAAAAAAAAAAAAAAAAAAAAAAAAAAAAAAAAAAAAAAAAAAAAAAAAAAAAAAAAAAAAAAAAAAAAAAAAAAAAAAAAAAAAAAAAAAAAAAAAAAAAAAAAAAAAAAAAAAAAAAAAAAAAAAAAAAAAAAAAAAAAAAAAAAAAAAAAAAAAAAAAAAAAAAAAAAAAAAAAAAAAAAAAAAAAAAAAAAAAAAAAAAAAAAAAAAAAAAAAAAAAAAAAAAAAAAAAAAAAAAAAAAAAAAAAAAAAAAAAAAAAAAAAAAAAAAAAAAAAAAAAAAAAAAAAAAAAAAAAAAAAAAAAAAAAAAAAAAAAAAAAAAAAAAAAAAAAAAAAAAAAAAAAAAAAAAAAAAAAAAAAAAAAAAAAAAAAAAAAAAAAAAAAAAAAAAAAAAAAAAAAAAAAAAAAAAAAAAAAAAAAAAAAAAAAAAAAAAAAAAAAAAAAAAAAAAAAAAAAAAAAAAAAAAAAAAAAAAAAAAAAAAAAAAAAAAAAAAAAAAAAAAAAAAAAAAAAAAAAAAAAAAAAAAAAAAAAAAAAAAAAAAAAAAAAAAAAAAAAAAAAAAAAAAAAAAAAAAAAAAAAAAAAAAAAAAAAAAAAAAAAAAAAAAAAAAAAAAAAAAAAAAAAAAAAAAAAAAAAAAAAAAAAAAAAAAAAAAAAAAAAAAAAAAAAAAAAAAAAAAAAAAAAAAAAAAAAAAAAAAAAAAAAAAAAAAAAAAAAAAAAAAAAAAAAAAAAAAAAAAAAAAAAAAAAAAAAAAAAAAAAAAAAAAAAAAAAAAAAAAAAAAAAAAAAAAAAAAAAAAAAAAAAAAAAAAAAAAAAAAAAAAAAAAAAAAAAAAAAAAAAAAAAAAAAAAAAAAAAAAAAAAAAAAAAAAAAAAAAAAAAAAAAAAAAAAAAAAAAAAAAAAAAAAAAAAAAAAAAAAAAAAAAAAAAAAAAAAAAAAAAAAAAAAAAAAAAAAAAAAAAAAAAAAAAAAAAAAAAAAAAAAAAAAAAAAAAAAAAAAAAAAAAAAAAAAAAAAAAAAAAAAAAAAAAAAAAAAAAAAAAAAAAAAAAAAAAAAAAAAAAAAAAAAAAAAAAAAAAAAAAAAAAAAAAAAAAAAAAAAAAAAAAAAAAAAAAAAAAAAAAAAAAAAAAAAAAAAAAAAAAAAAAAAAAAAAAAAAAAAAAAAAAAAAAAAAAAAAAAAAAAAAAAAAAAAAAAAAAAAAAAAAAAAAAAAAAAAAAAAAAAAAAAAAAAAAAAAAAAAAAAAAAAAAAAAAAAAAAAAAAAAAAAAAAAAAAAAAAAAAAAAAAAAAAAAAAAAAAAAAAAAAAAAAAAAAAAAAAAAAAAAAAAAAAAAAAAAAAAAAAAAAAAAAAAAAAAAAAAAAAAAAAAAAAAAAAAAAAAAAAAAAAAAAAAAAAAAAAAAAAAAAAAAAAAAAAAAAAAAAAAAAAAAAAAAAAAAAAAAAAAAAAAAAAAAAAAAAAAAAAAAAAAAAAAAAAAAAAAAAAAAAAAAAAAAAAAAAAAAAAAAAAAAAAAAAAAAAAAAAAAAAAAAAAAAAAAAAAAAAAAAAAAAAAAAAAAAAAAAAAAAAAAAAAAAAAAAAAAAAAAAAAAAAAAAAAAAAAAAAAAAAAAAAAAAAAAAAAAAAAAAAAAAAAAAAAAAAAAAAAAAAAAAAAAAAAAAAAAAAAAAAAAAAAAAAAAAAAAAAAAAAAAAAAAAAAAAAAAAAAAAAAAAAAAAAAAAAAAAAAAAAAAAAAAAAAAAAAAAAAAAAAAAAAAAAAAAAAAAAAAAAAAAAAAAAAAAAAAAAAAAAAAAAAAAAAAAAAAAAAAAAAAAAAAAAAAAAAAAAAAAAAAAAAAAAAAAAAAAAAAAAAAAAAAAAAAAAAAAAAAAAAAAAAAAAAAAAAAAAAAAAAAAAAAAAAAAAAAAAAAAAAAAAAAAAAAAAAAAAAAAAAAAAAAAAAAAAAAAAAAAAAAAAAAAAAAAAAAAAAAAAAAAAAAAAAAAAAAAAAAAAAAAAAAAAAAAAAAAAAAAAAAAAAAAAAAAAAAAAAAAAAAAAAAAAAAAAAAAAAAAAAAAAAAAAAAAAAAAAAAAAAAAAAAAAAAAAAAAAAAAAAAAAAAAAAAAAAAAAAAAAAAAAAAAAAAAAAAAAAAAAAAAAAAAAAAAAAAAAAAAAAAAAAAAAAAAAAAAAAAAAAAAAAAAAAAAAAAAAAAAAAAAAAAAAAAAAAAAAAAAAAAAAAAAAAAAAAAAAAAAAAAAAAAAAAAAAAAAAAAAAAAAAAAAAAAAAAAAAAAAAAAAAAAAAAAAAAAAAAAAAAAAAAAAAAAAAAAAAAAAAAAAAAAAAAAAAMjAyMDowNDoyMyAxMzoyODo1MgAyMDIwOjA0OjIzIDEzOjI4OjUyAAAASABQAAAA/+ELFWh0dHA6Ly9ucy5hZG9iZS5jb20veGFwLzEuMC8APD94cGFja2V0IGJlZ2luPSfvu78nIGlkPSdXNU0wTXBDZWhpSHpyZVN6TlRjemtjOWQnPz4NCjx4OnhtcG1ldGEgeG1sbnM6eD0iYWRvYmU6bnM6bWV0YS8iPjxyZGY6UkRGIHhtbG5zOnJkZj0iaHR0cDovL3d3dy53My5vcmcvMTk5OS8wMi8yMi1yZGYtc3ludGF4LW5zIyI+PHJkZjpEZXNjcmlwdGlvbiByZGY6YWJvdXQ9InV1aWQ6ZmFmNWJkZDUtYmEzZC0xMWRhLWFkMzEtZDMzZDc1MTgyZjFiIiB4bWxuczpkYz0iaHR0cDovL3B1cmwub3JnL2RjL2VsZW1lbnRzLzEuMS8iLz48cmRmOkRlc2NyaXB0aW9uIHJkZjphYm91dD0idXVpZDpmYWY1YmRkNS1iYTNkLTExZGEtYWQzMS1kMzNkNzUxODJmMWIiIHhtbG5zOnhtcD0iaHR0cDovL25zLmFkb2JlLmNvbS94YXAvMS4wLyI+PHhtcDpDcmVhdGVEYXRlPjIwMjAtMDQtMjNUMTM6Mjg6NTIuMTg1PC94bXA6Q3JlYXRlRGF0ZT48L3JkZjpEZXNjcmlwdGlvbj48cmRmOkRlc2NyaXB0aW9uIHJkZjphYm91dD0idXVpZDpmYWY1YmRkNS1iYTNkLTExZGEtYWQzMS1kMzNkNzUxODJmMWIiIHhtbG5zOmRjPSJodHRwOi8vcHVybC5vcmcvZGMvZWxlbWVudHMvMS4xLyI+PGRjOmNyZWF0b3I+PHJkZjpTZXEgeG1sbnM6cmRmPSJodHRwOi8vd3d3LnczLm9yZy8xOTk5LzAyLzIyLXJkZi1zeW50YXgtbnMjIj48cmRmOmxpPkhQPC9yZGY6bGk+PC9yZGY6U2VxPg0KCQkJPC9kYzpjcmVhdG9yPjwvcmRmOkRlc2NyaXB0aW9uPjwvcmRmOlJERj48L3g6eG1wbWV0YT4NCiAgICAgICAgICAgICAgICAgICAgICAgICAgICAgICAgICAgICAgICAgICAgICAgICAgICAgICAgICAgICAgICAgICAgICAgICAgICAgICAgICAgICAgICAgICAgICAgICAgICAKICAgICAgICAgICAgICAgICAgICAgICAgICAgICAgICAgICAgICAgICAgICAgICAgICAgICAgICAgICAgICAgICAgICAgICAgICAgICAgICAgICAgICAgICAgICAgICAgICAgIAogICAgICAgICAgICAgICAgICAgICAgICAgICAgICAgICAgICAgICAgICAgICAgICAgICAgICAgICAgICAgICAgICAgICAgICAgICAgICAgICAgICAgICAgICAgICAgICAgICAgCiAgICAgICAgICAgICAgICAgICAgICAgICAgICAgICAgICAgICAgICAgICAgICAgICAgICAgICAgICAgICAgICAgICAgICAgICAgICAgICAgICAgICAgICAgICAgICAgICAgICAKICAgICAgICAgICAgICAgICAgICAgICAgICAgICAgICAgICAgICAgICAgICAgICAgICAgICAgICAgICAgICAgICAgICAgICAgICAgICAgICAgICAgICAgICAgICAgICAgICAgIAogICAgICAgICAgICAgICAgICAgICAgICAgICAgICAgICAgICAgICAgICAgICAgICAgICAgICAgICAgICAgICAgICAgICAgICAgICAgICAgICAgICAgICAgICAgICAgICAgICAgCiAgICAgICAgICAgICAgICAgICAgICAgICAgICAgICAgICAgICAgICAgICAgICAgICAgICAgICAgICAgICAgICAgICAgICAgICAgICAgICAgICAgICAgICAgICAgICAgICAgICAKICAgICAgICAgICAgICAgICAgICAgICAgICAgICAgICAgICAgICAgICAgICAgICAgICAgICAgICAgICAgICAgICAgICAgICAgICAgICAgICAgICAgICAgICAgICAgICAgICAgIAogICAgICAgICAgICAgICAgICAgICAgICAgICAgICAgICAgICAgICAgICAgICAgICAgICAgICAgICAgICAgICAgICAgICAgICAgICAgICAgICAgICAgICAgICAgICAgICAgICAgCiAgICAgICAgICAgICAgICAgICAgICAgICAgICAgICAgICAgICAgICAgICAgICAgICAgICAgICAgICAgICAgICAgICAgICAgICAgICAgICAgICAgICAgICAgICAgICAgICAgICAKICAgICAgICAgICAgICAgICAgICAgICAgICAgICAgICAgICAgICAgICAgICAgICAgICAgICAgICAgICAgICAgICAgICAgICAgICAgICAgICAgICAgICAgICAgICAgICAgICAgIAogICAgICAgICAgICAgICAgICAgICAgICAgICAgICAgICAgICAgICAgICAgICAgICAgICAgICAgICAgICAgICAgICAgICAgICAgICAgICAgICAgICAgICAgICAgICAgICAgICAgCiAgICAgICAgICAgICAgICAgICAgICAgICAgICAgICAgICAgICAgICAgICAgICAgICAgICAgICAgICAgICAgICAgICAgICAgICAgICAgICAgICAgICAgICAgICAgICAgICAgICAKICAgICAgICAgICAgICAgICAgICAgICAgICAgICAgICAgICAgICAgICAgICAgICAgICAgICAgICAgICAgICAgICAgICAgICAgICAgICAgICAgICAgICAgICAgICAgICAgICAgIAogICAgICAgICAgICAgICAgICAgICAgICAgICAgICAgICAgICAgICAgICAgICAgICAgICAgICAgICAgICAgICAgICAgICAgICAgICAgICAgICAgICAgICAgICAgICAgICAgICAgCiAgICAgICAgICAgICAgICAgICAgICAgICAgICAgICAgICAgICAgICAgICAgICAgICAgICAgICAgICAgICAgICAgICAgICAgICAgICAgICAgICAgICAgICAgICAgICAgICAgICAKICAgICAgICAgICAgICAgICAgICAgICAgICAgICAgICAgICAgICAgICAgICAgICAgICAgICAgICAgICAgICAgICAgICAgICAgICAgICAgICAgICAgICAgICAgICAgICAgICAgIAogICAgICAgICAgICAgICAgICAgICAgICAgICAgICAgICAgICAgICAgICAgICAgICAgICAgICAgICAgICAgICAgICAgICAgICAgICAgICAgICAgICAgICAgICAgICAgICAgICAgCiAgICAgICAgICAgICAgICAgICAgICAgICAgICAgICAgICAgICAgICAgICAgICAgICAgICAgICAgICAgICAgICAgICAgICAgICAgICAgICAgICAgICAgICAgICAgICAgICAgICAKICAgICAgICAgICAgICAgICAgICAgICAgICAgICAgICAgICAgICAgICAgICAgICAgICAgICAgICAgICAgICAgICAgICAgICAgICAgICAgICAgICAgICAgICAgICAgICAgICAgIAogICAgICAgICAgICAgICAgICAgICAgICAgICAgPD94cGFja2V0IGVuZD0ndyc/Pv/bAEMABwUFBgUEBwYFBggHBwgKEQsKCQkKFQ8QDBEYFRoZGBUYFxseJyEbHSUdFxgiLiIlKCkrLCsaIC8zLyoyJyorKv/bAEMBBwgICgkKFAsLFCocGBwqKioqKioqKioqKioqKioqKioqKioqKioqKioqKioqKioqKioqKioqKioqKioqKioqKv/AABEIAeIDbAMBIgACEQEDEQH/xAAfAAABBQEBAQEBAQAAAAAAAAAAAQIDBAUGBwgJCgv/xAC1EAACAQMDAgQDBQUEBAAAAX0BAgMABBEFEiExQQYTUWEHInEUMoGRoQgjQrHBFVLR8CQzYnKCCQoWFxgZGiUmJygpKjQ1Njc4OTpDREVGR0hJSlNUVVZXWFlaY2RlZmdoaWpzdHV2d3h5eoOEhYaHiImKkpOUlZaXmJmaoqOkpaanqKmqsrO0tba3uLm6wsPExcbHyMnK0tPU1dbX2Nna4eLj5OXm5+jp6vHy8/T19vf4+fr/xAAfAQADAQEBAQEBAQEBAAAAAAAAAQIDBAUGBwgJCgv/xAC1EQACAQIEBAMEBwUEBAABAncAAQIDEQQFITEGEkFRB2FxEyIygQgUQpGhscEJIzNS8BVictEKFiQ04SXxFxgZGiYnKCkqNTY3ODk6Q0RFRkdISUpTVFVWV1hZWmNkZWZnaGlqc3R1dnd4eXqCg4SFhoeIiYqSk5SVlpeYmZqio6Slpqeoqaqys7S1tre4ubrCw8TFxsfIycrS09TV1tfY2dri4+Tl5ufo6ery8/T19vf4+fr/2gAMAwEAAhEDEQA/APpGiiigAooooAKKKKACiiigAooooAKKKKACiiigAooooAKKKKACiiigAooooAKKKKACiiigAooooAKKKKACiiigAooooAKKKKACiiigAooooAKKKKACiiigAooooAKKKKACiiigAooooAKKKKACiiigAooooAKKKKACiiigAooooAKKKKACiiigAooooAKKKKACiiigAooooAKKKKACiiigAooooAKKKKACiiigAooooAKKKKACiiigAooooAKKKKACiiigAooooAKKKKACiiigAooooAKKKKACiiigAooooAKKKKACiiigAooooAKKKKACiiigAooooAKKKKACiiigAooooAKKKKACiiigAooooAKKKKACiiigAooooAKKKKACiiigAooooAKKKKACiiigAooooAKKKKACiiigAooooAKKKKACiiigAooooAKKKKAMjxLqGt6bpsc3hvQ01u6aYK9u96tqFTBJfcykHBAGMd89q4PSvib431rUNUstP+HEDz6VOLe6VvEEa7HK7sAmLng9RXqdec/DX/kefiJ/2Gk/9FLQB12l6hrdzrupW2p6Kllp8AiNneC6WQ3JZcuCg5TaeOetbFeTaUx/4Wf8YuTxZ6fjnp/ob1xCeBdPj/ZytvGa3V9/wkdnp8d1aX/2pw1sEYBY41B2qm0YxjvnrQB9IUV4j4r8I2XgtPCPirSbm+fXptatIL3UJ7p3e9jmJEiSAnbg9gAAO1R66154t+MnibTtT8JXfirT9DhtYrWwW/ighgMsZdpWR3UOzHgHnAXnHFAHuVFcF8KdM8Q6PpurWWu6fc6dYLel9Ktbq8S5kggKj93vRm+UNnAJzzXe0AFFFFABRRRQAUUUUAFFFFABRRRQAUUUUAFFFFABRRRQAUUUUAFFFFABRRRQAUUUUAFFFFABRRRQAUUUUAFFFFABRRRQAUUUUAFFFFABRRRQAUUUUAFFFFABRRRQAUUUUAFFFFABRRRQAUUUUAFFFFABRRRQAUUUUAFFFFABRRRQAUUUUAFFFFABRRRQAUUUUAFFFFABRRRQAUUUUAFFFFABRRRQAUUUUAFFFFABRRRQAUUUUAFFFFABRRRQAUUUUAFFFFABRRRQAUUUUAFYuieFrLQNW1rULOS4eXWbkXVwsrAqrhQuFwAQMDvmtqigDnrfwXpttrviTVkluTceJI4Y7xWddqCKMxrsGMj5WOck81B/wgOl/wDCtf8AhCPPu/7M+yfZPN3r52z1zt25/wCA/hXUUUAYXiHwjYeJdN06yv5bhItOvILyIwsoLPEcqGyDwe+MfUVS13wBp+s66NbtdQ1PRdVMQhkvNLuBE00Y6K6srK2O2RkfgK6qigDL8P6DF4esJLaK9v795ZTNLcahcmaR2IA6ngDCjCqAB6VqUUUAFFFFABRRRQAUUUUAFFFFABRRRQAUUUUAFFFFABRRRQAUUUUAFFFFABRRRQAUUUUAFFFFABRRRQAUUUUAFFFFABRRRQAUUUUAFFFFABRRRQAUUUUAFFFFABRRRQAUUUUAFFFFABRRWZ4llkg8KatNBI0csdlMyOjYZSEJBBHQ0m7K4PRGnRXhX9rar/0GNT/8Dpf/AIqvU/AdxPdeDbSW6nlnlLzAySuXYgSsBknk8DFclDFxry5UjGnWVR2SOioryPxhqeoxeNNTig1K+hijeMJHFdSIqjyUPABA6kn8avfD3UL+48VvDdaheXERs5G2T3LyLkPHg4Ynnk/nSWMi6vsra3sJVk58lj06iue8eXE9r4LvJbWeWCUPCBJE5RgDMgOCORwSK8r/ALW1X/oMan/4HS//ABVOvi40JcrQ6lZU3Zo91orM8NSyT+FNJmnkaSWSyhZ3dssxKAkknqa8Yt9Y1Z7WJ31jUyzICT9ul64/3qdfExopNrcKlVQSb6nvVFcd8Nru5u9DvTeXU9yyXhVWnlaRgPLQ4yxJxkn86wviHqF9b+K44bW/vLeL7FG2yC5eNcl5AThSOeB+VVLERjRVW2g3UShznp1FeReENT1GXxlpkU2p300UjyB45bqR1YeU55BJHUA13njy4ntfBd5LazywSh4QJInKMAZkBwRyOCRRTxEalN1EtgjUUouR0NFeFf2tqv8A0GNT/wDA6X/4qvYvDU0k/hTSpp5Gklks4md3OWYlBkknqanD4qNdtJbCp1VUehp0V4pq2raoNe1JV1XUEVb2dVVLyRVUCRgAAGwAAK6z4Z315dXWqpeXt1cqiQlRcTtJtJMmcbicdB+VTTxkZ1PZpCjWUpctjv6K4/4k3dzaaDZNZ3U9sz3oVmglaNiPLkOMqQcZA/KvNbjWNWS1ldNY1MMqEg/bpeuP96itjI0Z8jQTrKErNHvVFFeC2+sas9rE76xqZZkBJ+3S9cf71XiMTGha63KqVVTtc96orj/htd3N3oN615dT3LJelVaeVpGA8uM4yxJxkn86o/Ey9vLS40lbO8urYOs5cW87R7sGPGdpGcZP51TrpUfa20G6iUOc76ivI/B+p6jL400yKfUr6aKR5A8ct1I6sPJc8gkjqAfwru/HlxPa+C7yW1nlglDwgSROUYAzIDgjkcEilTxEalN1EthRqKUXI6GivCv7W1X/AKDGp/8AgdL/APFV7F4alkn8KaTNPI0ksllCzu7ZZiUBJJPU1OHxUa7aS2FTqqo9DTorxTVtW1Qa9qSrquoIq3s6qqXkiqoEjAAANgAAV1nwzvby7utWS8vbq5VEgKC4naTaSZM43E4zgflU08ZGpV9mkKNZSly2O/orgPiZe3lpdaSlne3VsrpOXFvO0e4gx4ztIzjJ/OuT0nVtUOvaararqDq17ArK95IysDIoIILYIINFTGRhV9m0EqyjLlse10VmeJZZIPCmrTQSNHLHZTMjo2GUhCQQR0NeO/2tqv8A0GNT/wDA6X/4qqxGKjQaTW46lVU3qe60Vz3gO4nuvBdnLdTyzyl5gZJXLsQJnAyTyeABXJ/ETUL628VRxWt/eW8f2KNtkFy8akl5AThSOeB+VXUrqFJVGipVFGHMem0V5H4P1PUZfGmmRT6lfTRSPIHjlupHVh5LnkEkdQD+Fd347uJ7XwXeS2s8sEoaECSJyjDMqA4I5HBIpU8RGpTdRLYUailFyOhorwr+1tV/6DGp/wDgdL/8VXsXhqWSfwppM08jSSyWULO7tlmJQEkk9TU4fFRrtpLYVOqqj0NOivFNW1XVBr2pquq6girezqqpeSKqgSMAAA2AABXWfDO9vLu61ZLy9urlUSAoLidpNpJkzjcTjOB+VTTxkZ1fZpCjWUpctjv6K4H4mXt5aXGkrZ3l1bB1nLi3naPdgx4ztIzjJ/OuS0nVtUOvaararqDq17ArK95IysDIoIILYIINFTGRp1fZtBKsoy5bHtdFZviSWSDwrq0sEjRyR2UzI6MQykISCCOhrxv+1tV/6DGp/wDgdL/8VVYjFRoNJrcdSqqb1PdqK57wHcT3Xguzlup5Z5S8wMkrl2IEzgZJ5PAArhPGOp6jF401KKDUr6GKNowkcV1Iir+6Q8AEDqSaqpiI06aqNbjlUUYqR65RXmPw81C+uPFckN1f3lxF9ikbZPcvIuQ8YBwxPPJ/Ot74k3dzaaDZtZ3M9sz3qqzQStGxHlyHGVIOMgflRHERlSdW2gKonDnOworwW41jVktZXTWNTDKhIP26Xrj/AHq96pYfERr3stgp1VUvYKK8Gg1jVnt42bWNTJZQSft0vp/vV6T8Nru5u9BvWvLqe5ZL0qrTytIwHlxnGWJOMk/nUUcZGtPkSJhWU5WSOworzL4iahfW3iqOK1v7y3j+xRtsguXjUkvICcKRzwPyqh4P1PUZfGmmRT6lfTRSPIHjlupHVh5LnkEkdQD+FDxkVV9lbW9gdZKfJY9cornvHdxPa+C7yW1nlglDQgSROUYZlQHBHI4JFeV/2tqv/QY1P/wOl/8AiqdfFxoS5Wh1KypuzR7rRWZ4alkn8KaTNPI0ksllCzu7ZZiUBJJPU15Pq2q6oNe1NV1XUEVb2dVVLyRVUCRgAAGwAAKutiI0YqTW451FBJs9rorgPhne3l3dasl5e3VyqJAUFxO0m0kyZxuJxnA/Kl+Jl7eWlxpK2d5dWwdZy4t52j3YMeM7SM4yfzo+sR9j7a2ge0XJznfUV4ppOraode01W1XUHVr2BWV7yRlYGRQQQWwQQa9Z8SSyQeFdWlgkaOSOymZHRiGUhCQQR0NFHERrRcktghUU02jSorwn+1tV/wCgxqf/AIHS/wDxVeq+A7ie68F2ct1PLPKXmBklcuxAmcDJPJ4AFRQxca8uVImnWVR2SOhoryPxjqeoxeNNSig1K+hijaMJHFdSIq/ukPABA6kmr3w81C+uPFckN1f3lxF9ikbZPcvIuQ8YBwxPPJ/OksZF1fZW1vYFWTnyWPTqKKK7TcKKKKACiiigAooooAKKKKACisrxLqVxpOgS3lkIjOskSL5qllG+RUJIBBPDHvXK/wDCWeIf+emmf+Acn/x2jVuyRLkk7Hf0VS0W9k1LQbC9nVVlubaOVwgwoLKCcZ7c1dpJ3VytwooopgFFFFABRRRQAUUUUAFFFFABRRRQAUUUUAFFFFABRRRQAUUUUAFFFFABRRRQAUUUUAFFFFABWV4q/wCRO1n/AK8J/wD0W1atZXir/kTtZ/68J/8A0W1TP4WJ7HiletfDz/kSLT/rpP8A+jnryWvWvh5/yJFp/wBdJ/8A0c9eJl38V+hw4b42cB4z/wCR51b/AK6Rf+iI6v8Aw3/5HFv+vGX/ANDjqh4z/wCR51b/AK6Rf+iI6v8Aw3/5HFv+vGX/ANDjqYf7582TH+P8zsfiH/yI17/10g/9HpXklet/EP8A5Ea9/wCukH/o9K8kq8x/ir0KxPxo9r8K/wDInaN/14Qf+i1rw+0/48oP+ua/yr3Dwr/yJ2jf9eEH/ota8PtP+PKD/rmv8qvMPgh/XYeI2ien/C7/AJAWof8AX8f/AEVHWB8Sf+RxT/rwi/8ARktb/wALv+QFqH/X8f8A0VHWB8Sf+RxT/rwi/wDRktXV/wByXyKn/ARneDf+R30r/rpJ/wCiXr0H4h/8iNe/9dIP/R6V594N/wCR30r/AK6Sf+iXr0H4h/8AIjXv/XSD/wBHpRhP91n8/wAgo/wX8zySvavCn/InaP8A9eMP/oArxWvavCn/ACJ2j/8AXjD/AOgCs8t+KROF3Z5Bq3/If1T/AK/7j/0a1df8LP8Aj+1f/rnB/OSuQ1b/AJD+qf8AX/cf+jWrr/hZ/wAf2r/9c4P5yVlhv97+8il/GNH4o/8AIA0//r/X/wBFS15fd/8AHlP/ANc2/lXqHxR/5AGn/wDX+v8A6Klry+7/AOPKf/rm38qMf/H+4MR/EPoWvnq0/wCPKD/rmv8AKvoWvnq0/wCPKD/rmv8AKujMto/P9DXFdD1D4Xf8gDUP+v8Ab/0VFWf8U/8Aj80b/cuP5xVofC7/AJAGof8AX+3/AKKirP8Ain/x+aN/uXH84q0n/uXyRUv4Bz/gz/kedJ/66S/+iJK9A+If/IjXv/XSD/0elef+DP8AkedJ/wCukv8A6Ikr0D4h/wDIjXv/AF0g/wDR6VGE/wB1n8/yJo/wX8zySva/Cv8AyJ2jf9eEH/ota8Ur2vwr/wAido3/AF4Qf+i1rPLfikThd2eP6t/yH9U/6/7j/wBGtXYfCz/j91n/AK52/wDOWuP1b/kP6p/1/wBx/wCjWrsPhZ/x+6z/ANc7f+ctZYb/AHv7yKX8b7w+Kf8Ax+6N/wBc7j+cVcfpP/If0v8A6/7f/wBGrXYfFP8A4/dG/wCudx/OKuP0n/kP6X/1/wBv/wCjVoxP+9/d+gVf433HsHir/kTtZ/68J/8A0W1eKV7X4q/5E7Wf+vCf/wBFtXila5l8US8Vuj1v4ef8iNZf9dJ//R71x/xJ/wCRwj/68I//AEZLXYfDz/kRrL/rpP8A+j3rj/iT/wAjhH/14R/+jJa3xH+5r5GlT+CvkZ/gz/kedJ/66S/+iJK9A+IX/IjXv+/B/wCjkrz/AMGf8jzpP/XSX/0RJXoHxC/5Ea9/34P/AEclRhP91n8/yJo/wX8zySva/Cv/ACJ2jf8AXhB/6LWvFK9r8K/8ido3/XhB/wCi1rPLfikThd2eP6v/AMjBqv8A1/3H/o1q7D4Wf8fus/8AXO3/AJy1x+r/APIwar/1/wBx/wCjWrsPhZ/x+6z/ANc7f+ctZ4b/AHv7yaX8b7w+Kf8Ax+aN/uXH84q4/Sf+Q/pf/X/b/wDo1a7D4p/8fmjf7lx/OKuP0n/kP6X/ANf9v/6NWlif97+4Kv8AG+49g8U/8ifrP/XhP/6LavFB0r2vxT/yJ+s/9eE//otq8UHStcy+KJWK3R638PP+RGsv+uk//o968/8AGn/I86r/AL8X/omOvQPh5/yI1l/10n/9HvXn/jT/AJHnVf8Afi/9Ex1piv8AdYfL8iq38FfI0Pht/wAji/8A14S/+jIq6D4o/wDIv2H/AF/r/wCipK5/4bf8ji//AF4S/wDoyKug+KP/ACL9h/1/r/6Kkoo/7k/mEP4DPL7v/jyn/wCubfyr6Fr56u/+PKf/AK5t/KvoWllu0vkGF6nz1a/8ecP+4P5V6h8Lv+QBqH/X+3/oqKvL7X/jzh/3B/KvUPhd/wAgDUP+v9v/AEVFXPgP4/3meH/iHP8AxJ/5HCP/AK8I/wD0ZLWf4M/5HnSf+ukv/oiStD4k/wDI4R/9eEf/AKMlrP8ABn/I86T/ANdJf/RElE/98+aFL+P8z0D4hf8AIjXv+/B/6OSvJK9b+IX/ACI17/vwf+jkrySrzH+KvQrE/Gj2vwr/AMido3/XhB/6LWvH9X/5GDVf+v8AuP8A0a1eweFf+RO0b/rwg/8ARa14/q//ACMGq/8AX/cf+jWrbH/wol4j4Edh8LP+P3Wf+udv/OWj4p/8fmjf7lx/OKj4Wf8AH7rP/XO3/nLR8U/+PzRv9y4/nFR/zAf13D/mH/rucfpP/If0v/r/ALf/ANGrXsHin/kT9Z/68J//AEW1eP6T/wAh/S/+v+3/APRq17B4p/5E/Wf+vCf/ANFtRgP4Uv66Bh/gZ4oOlet/Dz/kRrL/AK6T/wDo968kHSvW/h5/yI1l/wBdJ/8A0e9YZd/FfoRhvjZ5/wCNP+R51X/fi/8ARMdaHw2/5HF/+vCX/wBGRVn+NP8AkedV/wB+L/0THWh8Nv8AkcX/AOvCX/0ZFUw/3z5smP8AH+Z6rRRRXvnohRRRQAUUUUAFFFFABRRRQBz/AI3/AORTm/6+Lb/0ojrja7Lxv/yKc3/Xxbf+lEdcbWtLdmM/iO88K/8AIn6P/wBeMP8A6AK1qyfCv/In6P8A9eMP/oArWrCHwo1jsgoooqhhRRRQAUUUUAFFFFABRRRQAUUUUAFFFFABRRRQAUUUUAFFFFABRRRQAUUUUAFFFFABRRRQAVleKv8AkTtZ/wCvCf8A9FtWrWV4q/5E7Wf+vCf/ANFtUz+Fiex4pXrXw8/5Ei0/66T/APo568lr1r4ef8iRaf8AXSf/ANHPXiZd/FfocOG+NnAeM/8AkedW/wCukX/oiOr/AMN/+Rxb/rxl/wDQ46oeM/8AkedW/wCukX/oiOr/AMN/+Rxb/rxl/wDQ46mH++fNkx/j/M7H4h/8iNe/9dIP/R6V5JXrfxD/AORGvf8ArpB/6PSvJKvMf4q9CsT8aPa/Cv8AyJ2jf9eEH/ota8PtP+PKD/rmv8q9w8K/8ido3/XhB/6LWvD7T/jyg/65r/KrzD4If12HiNonp/wu/wCQFqH/AF/H/wBFR1gfEn/kcU/68Iv/AEZLW/8AC7/kBah/1/H/ANFR1gfEn/kcU/68Iv8A0ZLV1f8Acl8ip/wEZ3g3/kd9K/66Sf8Aol69B+If/IjXv/XSD/0elefeDf8Akd9K/wCukn/ol69B+If/ACI17/10g/8AR6UYT/dZ/P8AIKP8F/M8kr2rwp/yJ2j/APXjD/6AK8Vr2rwp/wAido//AF4w/wDoArPLfikThd2eQat/yH9U/wCv+4/9GtXX/Cz/AI/tX/65wfzkrkNW/wCQ/qn/AF/3H/o1q6/4Wf8AH9q//XOD+clZYb/e/vIpfxjR+KP/ACANP/6/1/8ARUteX3f/AB5T/wDXNv5V6h8Uf+QBp/8A1/r/AOipa8vu/wDjyn/65t/KjH/x/uDEfxD6Fr56tP8Ajyg/65r/ACr6Fr56tP8Ajyg/65r/ACrozLaPz/Q1xXQ9Q+F3/IA1D/r/AG/9FRVn/FP/AI/NG/3Lj+cVaHwu/wCQBqH/AF/t/wCioqz/AIp/8fmjf7lx/OKtJ/7l8kVL+Ac/4M/5HnSf+ukv/oiSvQPiH/yI17/10g/9HpXn/gz/AJHnSf8ArpL/AOiJK9A+If8AyI17/wBdIP8A0elRhP8AdZ/P8iaP8F/M8kr2vwr/AMido3/XhB/6LWvFK9r8K/8AInaN/wBeEH/otazy34pE4Xdnj+rf8h/VP+v+4/8ARrV2Hws/4/dZ/wCudv8Azlrj9W/5D+qf9f8Acf8Ao1q7D4Wf8fus/wDXO3/nLWWG/wB7+8il/G+8Pin/AMfujf8AXO4/nFXH6T/yH9L/AOv+3/8ARq12HxT/AOP3Rv8Arncfzirj9J/5D+l/9f8Ab/8Ao1aMT/vf3foFX+N9x7B4q/5E7Wf+vCf/ANFtXile1+Kv+RO1n/rwn/8ARbV4pWuZfFEvFbo9b+Hn/IjWX/XSf/0e9cf8Sf8AkcI/+vCP/wBGS12Hw8/5Eay/66T/APo964/4k/8AI4R/9eEf/oyWt8R/ua+RpU/gr5Gf4M/5HnSf+ukv/oiSvQPiF/yI17/vwf8Ao5K8/wDBn/I86T/10l/9ESV6B8Qv+RGvf9+D/wBHJUYT/dZ/P8iaP8F/M8kr2vwr/wAido3/AF4Qf+i1rxSva/Cv/InaN/14Qf8Aotazy34pE4Xdnj+r/wDIwar/ANf9x/6Nauw+Fn/H7rP/AFzt/wCctcfq/wDyMGq/9f8Acf8Ao1q7D4Wf8fus/wDXO3/nLWeG/wB7+8ml/G+8Pin/AMfmjf7lx/OKuP0n/kP6X/1/2/8A6NWuw+Kf/H5o3+5cfzirj9J/5D+l/wDX/b/+jVpYn/e/uCr/ABvuPYPFP/In6z/14T/+i2rxQdK9r8U/8ifrP/XhP/6LavFB0rXMviiVit0et/Dz/kRrL/rpP/6PevP/ABp/yPOq/wC/F/6Jjr0D4ef8iNZf9dJ//R715/40/wCR51X/AH4v/RMdaYr/AHWHy/Iqt/BXyND4bf8AI4v/ANeEv/oyKug+KP8AyL9h/wBf6/8AoqSuf+G3/I4v/wBeEv8A6MiroPij/wAi/Yf9f6/+ipKKP+5P5hD+Azy+7/48p/8Arm38q+ha+erv/jyn/wCubfyr6FpZbtL5Bhep89Wv/HnD/uD+VeofC7/kAah/1/t/6Kiry+1/484f9wfyr1D4Xf8AIA1D/r/b/wBFRVz4D+P95nh/4hz/AMSf+Rwj/wCvCP8A9GS1n+DP+R50n/rpL/6IkrQ+JP8AyOEf/XhH/wCjJaz/AAZ/yPOk/wDXSX/0RJRP/fPmhS/j/M9A+IX/ACI17/vwf+jkrySvW/iF/wAiNe/78H/o5K8kq8x/ir0KxPxo9r8K/wDInaN/14Qf+i1rx/V/+Rg1X/r/ALj/ANGtXsHhX/kTtG/68IP/AEWteP6v/wAjBqv/AF/3H/o1q2x/8KJeI+BHYfCz/j91n/rnb/zlo+Kf/H5o3+5cfzio+Fn/AB+6z/1zt/5y0fFP/j80b/cuP5xUf8wH9dw/5h/67nH6T/yH9L/6/wC3/wDRq17B4p/5E/Wf+vCf/wBFtXj+k/8AIf0v/r/t/wD0ateweKf+RP1n/rwn/wDRbUYD+FL+ugYf4GeKDpXrfw8/5Eay/wCuk/8A6PevJB0r1v4ef8iNZf8AXSf/ANHvWGXfxX6EYb42ef8AjT/kedV/34v/AETHWh8Nv+Rxf/rwl/8ARkVZ/jT/AJHnVf8Afi/9Ex1ofDb/AJHF/wDrwl/9GRVMP98+bJj/AB/meq0UUV756IUUUUAFFFFABRRRQAUUUUAc/wCN/wDkU5v+vi2/9KI642uy8b/8inN/18W3/pRHXG1rS3ZjP4jvPCv/ACJ+j/8AXjD/AOgCtasnwr/yJ+j/APXjD/6AK1qwh8KNY7IKKKKoYUUUUAFFFFABRRRQAUUUUAFFFFABRRRQAUUUUAFFFFABRRRQAUUUUAFFFFABRRRQAUUUUAFZXir/AJE7Wf8Arwn/APRbVq1leKv+RO1n/rwn/wDRbVM/hYnseKV618PP+RItP+uk/wD6OevJa9a+Hn/IkWn/AF0n/wDRz14mXfxX6HDhvjZwHjP/AJHnVv8ArpF/6Ijq/wDDf/kcW/68Zf8A0OOqHjP/AJHnVv8ArpF/6Ijq/wDDf/kcW/68Zf8A0OOph/vnzZMf4/zOx+If/IjXv/XSD/0eleSV638Q/wDkRr3/AK6Qf+j0rySrzH+KvQrE/Gj2vwr/AMido3/XhB/6LWvD7T/jyg/65r/KvcPCv/InaN/14Qf+i1rw+0/48oP+ua/yq8w+CH9dh4jaJ6f8Lv8AkBah/wBfx/8ARUdYHxJ/5HFP+vCL/wBGS1v/AAu/5AWof9fx/wDRUdYHxJ/5HFP+vCL/ANGS1dX/AHJfIqf8BGd4N/5HfSv+ukn/AKJevQfiH/yI17/10g/9HpXn3g3/AJHfSv8ArpJ/6JevQfiH/wAiNe/9dIP/AEelGE/3Wfz/ACCj/BfzPJK9q8Kf8ido/wD14w/+gCvFa9q8Kf8AInaP/wBeMP8A6AKzy34pE4XdnkGrf8h/VP8Ar/uP/RrV1/ws/wCP7V/+ucH85K5DVv8AkP6p/wBf9x/6Nauv+Fn/AB/av/1zg/nJWWG/3v7yKX8Y0fij/wAgDT/+v9f/AEVLXl93/wAeU/8A1zb+VeofFH/kAaf/ANf6/wDoqWvL7v8A48p/+ubfyox/8f7gxH8Q+ha+erT/AI8oP+ua/wAq+ha+erT/AI8oP+ua/wAq6My2j8/0NcV0PUPhd/yANQ/6/wBv/RUVZ/xT/wCPzRv9y4/nFWh8Lv8AkAah/wBf7f8AoqKs/wCKf/H5o3+5cfzirSf+5fJFS/gHP+DP+R50n/rpL/6Ikr0D4h/8iNe/9dIP/R6V5/4M/wCR50n/AK6S/wDoiSvQPiH/AMiNe/8AXSD/ANHpUYT/AHWfz/Imj/BfzPJK9r8K/wDInaN/14Qf+i1rxSva/Cv/ACJ2jf8AXhB/6LWs8t+KROF3Z4/q3/If1T/r/uP/AEa1dh8LP+P3Wf8Arnb/AM5a4/Vv+Q/qn/X/AHH/AKNauw+Fn/H7rP8A1zt/5y1lhv8Ae/vIpfxvvD4p/wDH7o3/AFzuP5xVx+k/8h/S/wDr/t//AEatdh8U/wDj90b/AK53H84q4/Sf+Q/pf/X/AG//AKNWjE/73936BV/jfceweKv+RO1n/rwn/wDRbV4pXtfir/kTtZ/68J//AEW1eKVrmXxRLxW6PW/h5/yI1l/10n/9HvXH/En/AJHCP/rwj/8ARktdh8PP+RGsv+uk/wD6PeuP+JP/ACOEf/XhH/6MlrfEf7mvkaVP4K+Rn+DP+R50n/rpL/6Ikr0D4hf8iNe/78H/AKOSvP8AwZ/yPOk/9dJf/RElegfEL/kRr3/fg/8ARyVGE/3Wfz/Imj/BfzPJK9r8K/8AInaN/wBeEH/ota8Ur2vwr/yJ2jf9eEH/AKLWs8t+KROF3Z4/q/8AyMGq/wDX/cf+jWrsPhZ/x+6z/wBc7f8AnLXH6v8A8jBqv/X/AHH/AKNauw+Fn/H7rP8A1zt/5y1nhv8Ae/vJpfxvvD4p/wDH5o3+5cfzirj9J/5D+l/9f9v/AOjVrsPin/x+aN/uXH84q4/Sf+Q/pf8A1/2//o1aWJ/3v7gq/wAb7j2DxT/yJ+s/9eE//otq8UHSva/FP/In6z/14T/+i2rxQdK1zL4olYrdHrfw8/5Eay/66T/+j3rz/wAaf8jzqv8Avxf+iY69A+Hn/IjWX/XSf/0e9ef+NP8AkedV/wB+L/0THWmK/wB1h8vyKrfwV8jQ+G3/ACOL/wDXhL/6MiroPij/AMi/Yf8AX+v/AKKkrn/ht/yOL/8AXhL/AOjIq6D4o/8AIv2H/X+v/oqSij/uT+YQ/gM8vu/+PKf/AK5t/KvoWvnq7/48p/8Arm38q+haWW7S+QYXqfPVr/x5w/7g/lXqHwu/5AGof9f7f+ioq8vtf+POH/cH8q9Q+F3/ACANQ/6/2/8ARUVc+A/j/eZ4f+Ic/wDEn/kcI/8Arwj/APRktZ/gz/kedJ/66S/+iJK0PiT/AMjhH/14R/8AoyWs/wAGf8jzpP8A10l/9ESUT/3z5oUv4/zPQPiF/wAiNe/78H/o5K8kr1v4hf8AIjXv+/B/6OSvJKvMf4q9CsT8aPa/Cv8AyJ2jf9eEH/ota8f1f/kYNV/6/wC4/wDRrV7B4V/5E7Rv+vCD/wBFrXj+r/8AIwar/wBf9x/6Natsf/CiXiPgR2Hws/4/dZ/652/85aPin/x+aN/uXH84qPhZ/wAfus/9c7f+ctHxT/4/NG/3Lj+cVH/MB/XcP+Yf+u5x+k/8h/S/+v8At/8A0ateweKf+RP1n/rwn/8ARbV4/pP/ACH9L/6/7f8A9GrXsHin/kT9Z/68J/8A0W1GA/hS/roGH+Bnig6V638PP+RGsv8ArpP/AOj3ryQdK9b+Hn/IjWX/AF0n/wDR71hl38V+hGG+Nnn/AI0/5HnVf9+L/wBEx1ofDb/kcX/68Jf/AEZFWf40/wCR51X/AH4v/RMdaHw2/wCRxf8A68Jf/RkVTD/fPmyY/wAf5nqtFFFe+eiFFFFABRRRQAUUUUAFFFFAHP8Ajf8A5FOb/r4tv/SiOuNrsvG//Ipzf9fFt/6UR1xta0t2Yz+I7zwr/wAifo//AF4w/wDoArWrJ8K/8ifo/wD14w/+gCtasIfCjWOyCiiiqGFFFFABRRRQAUUUUAFFFFABRRRQAUUUUAFFFFABRRRQAUUUUAFFFFABRRRQAUUUUAFFFFABWV4q/wCRO1n/AK8J/wD0W1atZXir/kTtZ/68J/8A0W1TP4WJ7HiletfDz/kSLT/rpP8A+jnryWvWvh5/yJFp/wBdJ/8A0c9eJl38V+hw4b42cB4z/wCR51b/AK6Rf+iI6v8Aw3/5HFv+vGX/ANDjqh4z/wCR51b/AK6Rf+iI6v8Aw3/5HFv+vGX/ANDjqYf7582TH+P8zsfiH/yI17/10g/9HpXklet/EP8A5Ea9/wCukH/o9K8kq8x/ir0KxPxo9r8K/wDInaN/14Qf+i1rw+0/48oP+ua/yr3Dwr/yJ2jf9eEH/ota8PtP+PKD/rmv8qvMPgh/XYeI2ien/C7/AJAWof8AX8f/AEVHWB8Sf+RxT/rwi/8ARktb/wALv+QFqH/X8f8A0VHWB8Sf+RxT/rwi/wDRktXV/wByXyKn/ARneDf+R30r/rpJ/wCiXr0H4h/8iNe/9dIP/R6V594N/wCR30r/AK6Sf+iXr0H4h/8AIjXv/XSD/wBHpRhP91n8/wAgo/wX8zySvavCn/InaP8A9eMP/oArxWvavCn/ACJ2j/8AXjD/AOgCs8t+KROF3Z5Bq3/If1T/AK/7j/0a1df8LP8Aj+1f/rnB/OSuQ1b/AJD+qf8AX/cf+jWrr/hZ/wAf2r/9c4P5yVlhv97+8il/GNH4o/8AIA0//r/X/wBFS15fd/8AHlP/ANc2/lXqHxR/5AGn/wDX+v8A6Klry+7/AOPKf/rm38qMf/H+4MR/EPoWvnq0/wCPKD/rmv8AKvoWvnq0/wCPKD/rmv8AKujMto/P9DXFdD1D4Xf8gDUP+v8Ab/0VFWf8U/8Aj80b/cuP5xVofC7/AJAGof8AX+3/AKKirP8Ain/x+aN/uXH84q0n/uXyRUv4Bz/gz/kedJ/66S/+iJK9A+If/IjXv/XSD/0elef+DP8AkedJ/wCukv8A6Ikr0D4h/wDIjXv/AF0g/wDR6VGE/wB1n8/yJo/wX8zySva/Cv8AyJ2jf9eEH/ota8Ur2vwr/wAido3/AF4Qf+i1rPLfikThd2eP6t/yH9U/6/7j/wBGtXYfCz/j91n/AK52/wDOWuP1b/kP6p/1/wBx/wCjWrsPhZ/x+6z/ANc7f+ctZYb/AHv7yKX8b7w+Kf8Ax+6N/wBc7j+cVcfpP/If0v8A6/7f/wBGrXYfFP8A4/dG/wCudx/OKuP0n/kP6X/1/wBv/wCjVoxP+9/d+gVf433HsHir/kTtZ/68J/8A0W1eKV7X4q/5E7Wf+vCf/wBFtXila5l8US8Vuj1v4ef8iNZf9dJ//R71x/xJ/wCRwj/68I//AEZLXYfDz/kRrL/rpP8A+j3rj/iT/wAjhH/14R/+jJa3xH+5r5GlT+CvkZ/gz/kedJ/66S/+iJK9A+IX/IjXv+/B/wCjkrz/AMGf8jzpP/XSX/0RJXoHxC/5Ea9/34P/AEclRhP91n8/yJo/wX8zySva/Cv/ACJ2jf8AXhB/6LWvFK9r8K/8ido3/XhB/wCi1rPLfikThd2eP6v/AMjBqv8A1/3H/o1q7D4Wf8fus/8AXO3/AJy1x+r/APIwar/1/wBx/wCjWrsPhZ/x+6z/ANc7f+ctZ4b/AHv7yaX8b7w+Kf8Ax+aN/uXH84q4/Sf+Q/pf/X/b/wDo1a7D4p/8fmjf7lx/OKuP0n/kP6X/ANf9v/6NWlif97+4Kv8AG+49g8U/8ifrP/XhP/6LavFB0r2vxT/yJ+s/9eE//otq8UHStcy+KJWK3R638PP+RGsv+uk//o968/8AGn/I86r/AL8X/omOvQPh5/yI1l/10n/9HvXn/jT/AJHnVf8Afi/9Ex1piv8AdYfL8iq38FfI0Pht/wAji/8A14S/+jIq6D4o/wDIv2H/AF/r/wCipK5/4bf8ji//AF4S/wDoyKug+KP/ACL9h/1/r/6Kkoo/7k/mEP4DPL7v/jyn/wCubfyr6Fr56u/+PKf/AK5t/KvoWllu0vkGF6nz1a/8ecP+4P5V6h8Lv+QBqH/X+3/oqKvL7X/jzh/3B/KvUPhd/wAgDUP+v9v/AEVFXPgP4/3meH/iHP8AxJ/5HCP/AK8I/wD0ZLWf4M/5HnSf+ukv/oiStD4k/wDI4R/9eEf/AKMlrP8ABn/I86T/ANdJf/RElE/98+aFL+P8z0D4hf8AIjXv+/B/6OSvJK9b+IX/ACI17/vwf+jkrySrzH+KvQrE/Gj2vwr/AMido3/XhB/6LWvH9X/5GDVf+v8AuP8A0a1eweFf+RO0b/rwg/8ARa14/q//ACMGq/8AX/cf+jWrbH/wol4j4Edh8LP+P3Wf+udv/OWj4p/8fmjf7lx/OKj4Wf8AH7rP/XO3/nLR8U/+PzRv9y4/nFR/zAf13D/mH/rucfpP/If0v/r/ALf/ANGrXsHin/kT9Z/68J//AEW1eP6T/wAh/S/+v+3/APRq17B4p/5E/Wf+vCf/ANFtRgP4Uv66Bh/gZ4oOlet/Dz/kRrL/AK6T/wDo968kHSvW/h5/yI1l/wBdJ/8A0e9YZd/FfoRhvjZ5/wCNP+R51X/fi/8ARMdaHw2/5HF/+vCX/wBGRVn+NP8AkedV/wB+L/0THWh8Nv8AkcX/AOvCX/0ZFUw/3z5smP8AH+Z6rRRRXvnohRRRQAUUUUAFFFFABRRRQBz/AI3/AORTm/6+Lb/0ojrja7Lxv/yKc3/Xxbf+lEdcbWtLdmM/iO88K/8AIn6P/wBeMP8A6AK1qyfCv/In6P8A9eMP/oArWrCHwo1jsgoooqhhRRRQAUUUUAFFFFABRRRQAUUUUAFFFFABRRRQAUUUUAFFFFABRRRQAUUUUAFFFFABRRRQAVleKv8AkTtZ/wCvCf8A9FtWrWV4q/5E7Wf+vCf/ANFtUz+Fiex4pXrXw8/5Ei0/66T/APo568lr1r4ef8iRaf8AXSf/ANHPXiZd/FfocOG+NnAeM/8AkedW/wCukX/oiOr/AMN/+Rxb/rxl/wDQ46oeM/8AkedW/wCukX/oiOr/AMN/+Rxb/rxl/wDQ46mH++fNkx/j/M7H4h/8iNe/9dIP/R6V5JXrfxD/AORGvf8ArpB/6PSvJKvMf4q9CsT8aPa/Cv8AyJ2jf9eEH/ota8PtP+PKD/rmv8q9w8K/8ido3/XhB/6LWvD7T/jyg/65r/KrzD4If12HiNonp/wu/wCQFqH/AF/H/wBFR1gfEn/kcU/68Iv/AEZLW/8AC7/kBah/1/H/ANFR1gfEn/kcU/68Iv8A0ZLV1f8Acl8ip/wEZ3g3/kd9K/66Sf8Aol69B+If/IjXv/XSD/0elefeDf8Akd9K/wCukn/ol69B+If/ACI17/10g/8AR6UYT/dZ/P8AIKP8F/M8kr2rwp/yJ2j/APXjD/6AK8Vr2rwp/wAido//AF4w/wDoArPLfikThd2eQat/yH9U/wCv+4/9GtXX/Cz/AI/tX/65wfzkrkNW/wCQ/qn/AF/3H/o1q6/4Wf8AH9q//XOD+clZYb/e/vIpfxjR+KP/ACANP/6/1/8ARUteX3f/AB5T/wDXNv5V6h8Uf+QBp/8A1/r/AOipa8vu/wDjyn/65t/KjH/x/uDEfxD6Fr56tP8Ajyg/65r/ACr6Fr56tP8Ajyg/65r/ACrozLaPz/Q1xXQ9Q+F3/IA1D/r/AG/9FRVn/FP/AI/NG/3Lj+cVaHwu/wCQBqH/AF/t/wCioqz/AIp/8fmjf7lx/OKtJ/7l8kVL+Ac/4M/5HnSf+ukv/oiSvQPiH/yI17/10g/9HpXn/gz/AJHnSf8ArpL/AOiJK9A+If8AyI17/wBdIP8A0elRhP8AdZ/P8iaP8F/M8kr2vwr/AMido3/XhB/6LWvFK9r8K/8AInaN/wBeEH/otazy34pE4Xdnj+rf8h/VP+v+4/8ARrV2Hws/4/dZ/wCudv8Azlrj9W/5D+qf9f8Acf8Ao1q7D4Wf8fus/wDXO3/nLWWG/wB7+8il/G+8Pin/AMfujf8AXO4/nFXH6T/yH9L/AOv+3/8ARq12HxT/AOP3Rv8Arncfzirj9J/5D+l/9f8Ab/8Ao1aMT/vf3foFX+N9x7B4q/5E7Wf+vCf/ANFtXile1+Kv+RO1n/rwn/8ARbV4pWuZfFEvFbo9b+Hn/IjWX/XSf/0e9cf8Sf8AkcI/+vCP/wBGS12Hw8/5Eay/66T/APo964/4k/8AI4R/9eEf/oyWt8R/ua+RpU/gr5Gf4M/5HnSf+ukv/oiSvQPiF/yI17/vwf8Ao5K8/wDBn/I86T/10l/9ESV6B8Qv+RGvf9+D/wBHJUYT/dZ/P8iaP8F/M8kr2vwr/wAido3/AF4Qf+i1rxSva/Cv/InaN/14Qf8Aotazy34pE4Xdnj+r/wDIwar/ANf9x/6Nauw+Fn/H7rP/AFzt/wCctcfq/wDyMGq/9f8Acf8Ao1q7D4Wf8fus/wDXO3/nLWeG/wB7+8ml/G+8Pin/AMfmjf7lx/OKuP0n/kP6X/1/2/8A6NWuw+Kf/H5o3+5cfzirj9J/5D+l/wDX/b/+jVpYn/e/uCr/ABvuPYPFP/In6z/14T/+i2rxQdK9r8U/8ifrP/XhP/6LavFB0rXMviiVit0et/Dz/kRrL/rpP/6PevP/ABp/yPOq/wC/F/6Jjr0D4ef8iNZf9dJ//R715/40/wCR51X/AH4v/RMdaYr/AHWHy/Iqt/BXyND4bf8AI4v/ANeEv/oyKug+KP8AyL9h/wBf6/8AoqSuf+G3/I4v/wBeEv8A6MiroPij/wAi/Yf9f6/+ipKKP+5P5hD+Azy+7/48p/8Arm38q+ha+erv/jyn/wCubfyr6FpZbtL5Bhep89Wv/HnD/uD+VeofC7/kAah/1/t/6Kiry+1/484f9wfyr1D4Xf8AIA1D/r/b/wBFRVz4D+P95nh/4hz/AMSf+Rwj/wCvCP8A9GS1n+DP+R50n/rpL/6IkrQ+JP8AyOEf/XhH/wCjJaz/AAZ/yPOk/wDXSX/0RJRP/fPmhS/j/M9A+IX/ACI17/vwf+jkrySvW/iF/wAiNe/78H/o5K8kq8x/ir0KxPxo9r8K/wDInaN/14Qf+i1rx/V/+Rg1X/r/ALj/ANGtXsHhX/kTtG/68IP/AEWteP6v/wAjBqv/AF/3H/o1q2x/8KJeI+BHYfCz/j91n/rnb/zlo+Kf/H5o3+5cfzio+Fn/AB+6z/1zt/5y0fFP/j80b/cuP5xUf8wH9dw/5h/67nH6T/yH9L/6/wC3/wDRq17B4p/5E/Wf+vCf/wBFtXj+k/8AIf0v/r/t/wD0ateweKf+RP1n/rwn/wDRbUYD+FL+ugYf4GeKDpXrfw8/5Eay/wCuk/8A6PevJB0r1v4ef8iNZf8AXSf/ANHvWGXfxX6EYb42ef8AjT/kedV/34v/AETHWh8Nv+Rxf/rwl/8ARkVZ/jT/AJHnVf8Afi/9Ex1ofDb/AJHF/wDrwl/9GRVMP98+bJj/AB/meq0UUV756IUUUUAFFFFABRRRQAUUUUAc/wCN/wDkU5v+vi2/9KI642uy8b/8inN/18W3/pRHXG1rS3ZjP4jvPCv/ACJ+j/8AXjD/AOgCtasnwr/yJ+j/APXjD/6AK1qwh8KNY7IKKKKoYUUUUAFFFFABRRRQAUUUUAFFFFABRRRQAUUUUAFFFFABRRRQAUUUUAFFFFABRRRQAUUUUAFZXir/AJE7Wf8Arwn/APRbVq1meJYpJ/CmrQwRtJLJZTKiIuWYlCAAB1NTL4WJ7HiVetfDz/kSLT/rpP8A+jnrzD+ydV/6A+p/+AMv/wATXqfgO3ntfBtpFdQSwSh5iY5UKMAZWIyDyODmvHy+Eo1HddDiwyak7nnnjP8A5HnVv+ukX/oiOr/w3/5HFv8Arxl/9DjqHxhpmoy+NNTlg02+mikeMpJFayOrDyUHBAI6gj8KvfD3T7+38VvNdafeW8Qs5F3z2zxrkvHgZYDng/lUwhL63e2l2JRftr+Z1PxD/wCRGvf+ukH/AKPSvJK9f8eW8914LvIrWCWeUvCRHEhdiBMhOAOTwCa8r/snVf8AoD6n/wCAMv8A8TVZhCUqisug8Sm5Kx7B4V/5E7Rv+vCD/wBFrXh9p/x5Qf8AXNf5V7l4aikg8KaTDPG0csdlCro64ZSEAIIPQ14xb6PqyWsSPo+phlQAj7DL1x/u1eOjKUYWX9aDxCbUbHonwu/5AWof9fx/9FR1gfEn/kcU/wCvCL/0ZLXSfDa0ubTQ70XlrPbM94WVZ4mjYjy0GcMAcZB/KsL4h6ffXHiuOa1sLy4i+xRrvgtnkXIeQkZUHnkfnV1YyeDStroVNP2KRj+Df+R30r/rpJ/6JevQfiH/AMiNe/8AXSD/ANHpXD+ENM1GLxlpks2mX0MUbyF5JbWRFUeU45JAHUgV3njy3nuvBd5FawSzyl4SI4kLsQJkJwByeATRhYyWGmmu/wCQUk1SaPIK9q8Kf8ido/8A14w/+gCvIP7J1X/oD6n/AOAMv/xNexeGopLfwppUM8bRyx2cSujrhlIQZBB6Gs8ujKMpXROGTTdzx3Vv+Q/qn/X/AHH/AKNauv8AhZ/x/av/ANc4P5yVzWraTqh17UmXStQdWvZ2Vks5GVgZGIIIXBBBrrPhnY3lrdaq95ZXVsrpCFNxA0e4gyZxuAz1H51nh4SWKu13JpRftb2LXxR/5AGn/wDX+v8A6Klry+7/AOPKf/rm38q9V+JNpc3eg2S2drPcsl6GZYImkYDy5BnCgnGSPzrzW40fVntZUTR9TLMhAH2GXrj/AHaMdCTrXSCvFupoe9V89Wn/AB5Qf9c1/lX0LXgtvo+rJaxI+j6mGVACPsMvXH+7W+YxlJRsu5piU3ax6L8Lv+QBqH/X+3/oqKs/4p/8fmjf7lx/OKtX4bWlzaaDereWs9sz3pZVniaNiPLjGcMAcZB/KqPxMsry7uNJazs7q5CLOHNvA0m3JjxnaDjOD+VaTi/qdra2RUk/YWOY8Gf8jzpP/XSX/wBESV6B8Q/+RGvf+ukH/o9K4jwfpmoxeNNMln02+hijeQvJLayIqjyXHJIA6kD8a7vx5bz3Xgu8itYJZ5S8JEcSF2IEyE4A5PAJqMLGSw0013/ImkmqTR5BXtfhX/kTtG/68IP/AEWteP8A9k6r/wBAfU//AABl/wDia9i8NRSQeFNJhnjaOWOyhV0dcMpCAEEHoazy6MoyldE4ZNN3PHdW/wCQ/qn/AF/3H/o1q7D4Wf8AH7rP/XO3/nLXM6tpOqHXtSZdK1B1a9nZWSzkZWBkYgghcEEGus+GdleWl1qz3lldWyukAQ3EDR7iDJnG4DOMj86zw8JLFXa7k0ov2tyH4p/8fujf9c7j+cVcfpP/ACH9L/6/7f8A9GrXbfEyyvLu60l7OyurlUScObeBpNpJjxnaDjOD+VcnpOk6oNe01m0rUEVb2BmZ7ORVUCRSSSVwAAKMRCTxV0uwVIv2t/Q9W8Vf8idrP/XhP/6LavFK9t8SxST+FNWhgjaSWSymVERcsxKEAADqa8d/snVf+gPqf/gDL/8AE1pmMZSlGyKxKbaseofDz/kRrL/rpP8A+j3rj/iT/wAjhH/14R/+jJa7TwHbz2vguziuoJYJQ8xMcqFGAMzkZB5HBBrk/iJp99c+Ko5bWwvLiP7FGu+C2eRQQ8hIyoPPI/OtsRFvCJJdi6ifsUvQx/Bn/I86T/10l/8ARElegfEL/kRr3/fg/wDRyVxHg/TNRi8aaZLPpt9DFG8heSW1kRVHkuOSQB1IH413fju3nuvBd5FawSzyloSI4kLscSoTgDk8AmpwsZLDTTXf8hUk1SaPIK9r8K/8ido3/XhB/wCi1rx/+ydV/wCgPqf/AIAy/wDxNexeGopIPCmkwzxtHLHZQq6OuGUhACCD0NZ5dGUZSuicMmm7njur/wDIwar/ANf9x/6Nauw+Fn/H7rP/AFzt/wCctczq2laode1Nl0rUHVr2dlZLORlYGRiCCFwQQa6z4Z2V5aXWrPeWV1bK6QBDcQNHuIMmcbgM4yPzrPDwksVdruTTi/a39SH4p/8AH5o3+5cfzirj9J/5D+l/9f8Ab/8Ao1a7f4mWV5d3GktZ2d1chFnDm3gaTbkx4ztBxnB/KuS0nSdUGvaazaVqCKt7AzM9nIqqBIpJJK4AAFGIhJ4q6XYKkX7W/oereKf+RP1n/rwn/wDRbV4oOle3eJIpJ/CurRQRtJJJZTKiIpLMShAAA6mvG/7J1X/oD6n/AOAMv/xNaZjGUpRsisSm2rHqPw8/5Eay/wCuk/8A6PevP/Gn/I86r/vxf+iY69E8B289r4Ls4rqCWCUPMTHKhRgDM5GQeRwQa4Txjpmoy+NNSlg02+mikaMpJFayOrfukHBAI6gitMVGTwsUl2/Iqqm6SXoT/Db/AJHF/wDrwl/9GRV0HxR/5F+w/wCv9f8A0VJWN8PNPvrfxXJNdWF5bxfYpF3z2zxrkvGQMsBzwfyre+JNrc3eg2a2drPcsl6rMsETSMB5cgzhQTjJH50UoyWDatrqEE/YtHlV3/x5T/8AXNv5V9C14LcaPqz2sqJo+plmQgD7DL1x/u171Sy6MoqV12DDJq9z56tf+POH/cH8q9Q+F3/IA1D/AK/2/wDRUVedwaPqyW8ato+pgqoBH2GX0/3a9J+G1pc2mg3q3lrPbM96WVZ4mjYjy4xnDAHGQfyrDAwkq12jOhFqepzXxJ/5HCP/AK8I/wD0ZLWf4M/5HnSf+ukv/oiStj4iaffXPiqOW1sLy4j+xRrvgtnkUEPISMqDzyPzqh4P0zUYvGmmSz6bfQxRvIXkltZEVR5LjkkAdSB+NE4S+t3tpdBKL9tfzO3+IX/IjXv+/B/6OSvJK9f8d28914LvIrWCWeUtCRHEhdjiVCcAcngE15X/AGTqv/QH1P8A8AZf/iarMISlUVl0HiU3JWPYPCv/ACJ2jf8AXhB/6LWvH9X/AORg1X/r/uP/AEa1exeGopIPCmkwzxtHLHZQq6OuGUhACCD0NeT6tpWqHXtTZdK1B1a9nZWSzkZWBkYgghcEEGtsdGUqUUkXXTcFY6b4Wf8AH7rP/XO3/nLR8U/+PzRv9y4/nFU3wzsry0utWe8srq2V0gCG4gaPcQZM43AZxkfnS/EyyvLu40lrOzurkIs4c28DSbcmPGdoOM4P5UcsvqVra/8ABCz9hb+tziNJ/wCQ/pf/AF/2/wD6NWvYPFP/ACJ+s/8AXhP/AOi2rynSdJ1Qa9prNpWoIq3sDMz2ciqoEikkkrgAAV6z4kikn8K6tFBG0kkllMqIiksxKEAADqaMDGUaUk0GHTUHc8RHSvW/h5/yI1l/10n/APR715d/ZOq/9AfU/wDwBl/+Jr1XwHbz2vguziuoJYJQ8xMcqFGAMzkZB5HBBrHL4SjUd10Iwyak7nnfjT/kedV/34v/AETHWh8Nv+Rxf/rwl/8ARkVQeMdM1GXxpqUsGm300UjRlJIrWR1b90g4IBHUEVe+Hmn31v4rkmurC8t4vsUi757Z41yXjIGWA54P5VMIS+t3tpdiUX7a/menUUUV7h3hRRRQAUUUUAFFFFABRRRQBz/jf/kU5v8Ar4tv/SiOuNrsvG//ACKc3/Xxbf8ApRHXG1rS3ZjP4jvPCv8AyJ+j/wDXjD/6AK1qyfCv/In6P/14w/8AoArWrCHwo1jsgoooqhhRRRQAUUUUAFFFFABRRRQAUUUUAFFFFABRRRQAUUUUAFFFFABRRRQAUUUUAFFFFABRRRQAUUUUAFFFFABRRRQAUUUUAFFFFABRRRQAUUUUAFFFFABRRRQAUUUUAFFFFABRRRQAUUUUAFFFFABRRRQAUUUUAFFFFABRRRQAUUUUAFFFFABRRRQAUUUUAFFFFABRRRQAUUUUAFFFFABRRRQAUUUUAFFFFABRRRQAUUUUAFFFFABRRVfUb+30rS7rUL5zHbWkLzzOFLbUVSzHA5PAPAoAsUVwVr8XtGk1ux07U9I17RV1KQRWV3qlgYYLhz0VWySCeMbgOorW8ReO9P8AD+swaNHY6jq+rTwm4FhpkAkkWLO3zGLFVVc8ZJ5NAHT0Vz/hTxlpvi+G7+wxXdpdWMvk3llfQ+VPbuRkBlyRyOhBIPrXQUAFFFFABRRRQAUUUUAFFFFAEV1a297bNb3sEVxA+N0UqB1bByMg8dQDWf8A8Ir4e/6AOmf+Acf+Fche/GnQNPYXF3pPiCPSDKIv7abTWW0yTgHcSGxnvtwa6PxJ420rw1FYCcXN9damxWxsrCLzZrnA3EquQMAckkgD1pOKe6FZM3ooo4IUhgjWOKNQqIi4VQOAAB0FPrmvDPjnT/E2o3mmLaX+mapZKrz6fqUHlSqjdHGCVZT6gmulpjCiiigAooooAKKKKACiiigAooooAKKKKACiiigAooooAKKKKACiiigAooooAKKKKACiiigAooooAKKKKAMTXfGXh/wze2FnrmqQ2t1qMyw2sBBZ5WY4HyqCQMkDceB61t15F8WvDGkaYuk6xa2ajUtQ8UWBuLpyXkYBiAoJ+6owPlGBXrtAHPeJvHfhrwc0SeItVjtJZgWjhVHlkZR/EEQFse+MVd8P+JNH8VaSupeHtQhv7RmK+ZETwR1BB5U+xANTajNpmkwXOtal9ntltoCZrt1AKRLk4Ldcck49TXA/BfS7hbHxD4kltGsLbxHqkl9ZWrrtZID91ivYtyfpg96AO91rXNM8O6VLqWuX0NjZxY3zTNgAnoPcn0HNZHhr4ieFfF99NZ+H9XS5u4F3SW7xSQyBfXbIqkjkcj1FbGsqRpck0eljVZ4P3sFqSgLuOm1nwqn3JFeVWOoT6r+0Fpl74t0qTwvdw6dLBplrMyynUCeXzMhKfKDwgJPOc84oA9jooooAKKKKACiiigAooooAKKKKACiiigAooooAKKKKACiiigAooooAKKKKACiiigAooooAKKKKACiiigAooooAKKKKACiiigAooooAKKKKACiiigAooooAKKKKACiiigAooooAKKKKACiiigAooooAKKKoa5ZXepaDe2Wm6g2mXdxC0cV4ke9oGIxuC5GSPqKAPOvGw/4WL4+0XwppAEln4f1GLVNYvV5SF0DCOAHu7ZbI7DnsRUHjA6kPjLa3Hw6IuPEsOniLVbe6X/QxaFiyeY+cq+77oUEkdcDrP4c+F3jPwnpC6boXxCtbe3DtI2fD0bPI5OS7sZcsx9TW/rHgO/k8Yz+J/CviJtE1C7gS3vEls1uobhUztJQspDDPUN/XIBjfCOcNq3idNeSaHxnJcxy61FKqhAu3EPk7SQYgvAOSfXqK9OrlvCngpvD+ranrWqarLrGtaoI1ubt4liUIgwqJGvCqM+pJ7mupoAKKKKACiiigAooooAKKKRgShCnaSODjOKAPNPi7eSeI7FPh1oIW41jWtjXB6rY2qupaaT0HAAHfPHbM3ibwxrml+K/C/iLwrYR6xHo1nJYTWDzrDI8bKoDozfLuGOckcfXjN0H4UeMvDlzf3WnfEWE3eozedd3U+gJJLM3bLNLnA7KOB2FdfqugeK7zS9Mj0zxn/Z9/axlLu5/suOWO8JC/MYyfkwQSNrfxHrQBxOnXur6l+0fp1xqWiro0/wDwjswkt/tSTymHzhtZyg2r85wAGbp2r1+uV8I+Bx4cv77VtT1W41vXNRCrc6hcIqfIv3URF4RR1wO9dVQAUUUUAFFFFABRRRQAUUUUAFFFFABRRRQAUUUUAFFFFABRRRQAUUUUAFFFFABRRRQAUUUUAFFFFABRRRQB5h8Q/C/xC8WXcFtpn/CMxaZY6jBf2rXE9wJnMXIDgIVwST07V32gnWzo8Z8TrYJqWW8wacztDjPy4LgN0xnjrWjRQB5n8S/BvjPxb4g03+ypdDuPD1mFml0zUppkW5nBODII0O5B8pC5AznINdX4XPjIyXA8ZRaFHGFX7P8A2TJMxzzu3eYowOmMe9dDRQBjeKLbxFcabEfCN/ZWd/FMJCL6AyQzptYGNtpDLyQdy8/LjvXJWngzxZr/AI30jxB4+vdISLRPMeysNIWQq0jjBd3kweB0AHYe+fRqKACiiigAooooAKKKKACiiigAooooAKKKKACiiigAooooAKKKKACiiigAooooAKKKKACiiigAooooAKKKKACiiigAooooAKKKKACiiigAooooAKKKKACiiigAooooAKKKKACiiigAooooAKKKKACiiigAooooAKKo6zqiaNpE+oTRvLHAAzJH94jIBx6nnpVizvLfULOK7spVmglXcjr0I/z27U7O1xXV7E1FFFIYUUUUAFFFFABRRRQAUUUUAFFFFABRRRQAUUVW1KZ7fSbuaFtskcDupxnBCkihagWaK57wn4qi8RWKrOq2+oxxq00APBB/jT1U/mDwexPQ1UouD5WJNSV0FFFFSMKKKKACiiigAooooAKKKKACiiigAooooAKKKKACiiigAooooAKKKKACiiigAooooAzP+Em0L/oNad/4Fp/jR/wk2g/9BvTv/AuP/GvNNBgiPhzTSYkJNpFklR/cFX/Ih/55J/3yK5Z4uEZOPLt5/wDAOX277Hef8JNoP/Qb07/wLj/xo/4SbQf+g3p3/gXH/jXB+RD/AM8k/wC+RR5EP/PJP++RU/XIfy/j/wAAPbPsd5/wk2g/9BvTv/AuP/Gj/hJtB/6Denf+Bcf+NcH5EP8AzyT/AL5FHkQ/88k/75FH1yH8v4/8APbPsd5/wk2g/wDQb07/AMC4/wDGj/hJtB/6Denf+Bcf+NcH5EP/ADyT/vkUeRD/AM8k/wC+RR9ch/L+P/AD2z7Hef8ACTaD/wBBvTv/AALj/wAaP+Em0H/oN6d/4Fx/41wfkQ/88k/75FHkQ/8APJP++RR9ch/L+P8AwA9s+x3n/CTaD/0G9O/8C4/8aP8AhJtB/wCg3p3/AIFx/wCNcH5EP/PJP++RR5EP/PJP++RR9ch/L+P/AAA9s+x3n/CTaD/0G9O/8C4/8aP+Em0H/oN6d/4Fx/41wfkQ/wDPJP8AvkUeRD/zyT/vkUfXIfy/j/wA9s+x3n/CTaD/ANBvTv8AwLj/AMaP+Em0H/oN6d/4Fx/41wfkQ/8APJP++RR5EP8AzyT/AL5FH1yH8v4/8APbPsd5/wAJNoP/AEG9O/8AAuP/ABo/4SbQf+g3p3/gXH/jXB+RD/zyT/vkUeRD/wA8k/75FH1yH8v4/wDAD2z7Hef8JNoP/Qb07/wLj/xo/wCEm0H/AKDenf8AgXH/AI1wfkQ/88k/75FHkQ/88k/75FH1yH8v4/8AAD2z7Hef8JNoP/Qb07/wLj/xo/4SbQf+g3p3/gXH/jXB+RD/AM8k/wC+RR5EP/PJP++RR9ch/L+P/AD2z7Hef8JNoP8A0G9O/wDAuP8Axo/4SbQf+g3p3/gXH/jXz1q8iap8TL7RNc1y80K0it4m01LSYW4uiw+di+OSG4C+3TrXXNLaeEPC4l1++a8W3JX7TJCPNl3Mdi7VHzNgheOuM8c1bxMVb3d/67FOrJHq/wDwk2g/9BvTv/AuP/Gj/hJtB/6Denf+Bcf+NeQ6d4r0691aHTbvSr7Srq5UtbJqFssYnAGTtIJGQOcHB9qr33jnRrPVrmxi03UL4WR23lzZWXmxWx9HI5yO+Ae9L6yr25H9/wDwA9rLsezf8JNoP/Qb07/wLj/xo/4SbQf+g3p3/gXH/jXjY8b6G3g//hJY7aZ7Az+QoWJN7HzPLyBnGM89c47dq1tX1Sw0V9PW6tmc6heJZxeXGp2uwYgtkjj5T0yfaj60v5X9/wDwBe1l2PTv+Em0H/oN6d/4Fx/40f8ACTaD/wBBvTv/AALj/wAa8j1XxRp2m6q2mW2mXmqX0cYllg0+3VzCp6FiSAM9hnPtTX8YaGvhC68RJDJJa2hKTwiELNG4YKUKtjDAkcE0fWl/K/v/AOAHtZdj17/hJtB/6Denf+Bcf+NH/CTaD/0G9O/8C4/8a8Wh8f6FNqdpbGwvora9lENpqMtnttp3PQK55Oexxg1d1zxVpeialFpq6fd6lqEkfm/ZNPthLIqdNzZIAGfU0fWVe3I/v/4A/ay7Hrn/AAk2g/8AQb07/wAC4/8AGj/hJtB/6Denf+Bcf+NeRSeLdFh8PwarPbXEQuJfIitHtCLh5ckeWI+u7g+3vT9I8S6fquqPps2m3emX4i85ba/t1RpEzgspBIIB980fWla/K/v/AOAL2sux61/wk2g/9BvTv/AuP/Gj/hJtB/6Denf+Bcf+NedahDOunTnS7e2e82HyVnGE3dtxHOPpXF+DItSg8f8AiPT9b1JtSaGC2kGV2xRs4YkInRR0Hqcc0LFQabtt5/8AAGqraue8/wDCTaD/ANBvTv8AwLj/AMaP+Em0H/oN6d/4Fx/41wfkQ/8APJP++RR5EP8AzyT/AL5FT9ch/L+P/AJ9s+x3n/CTaD/0G9O/8C4/8aP+Em0H/oN6d/4Fx/41wfkQ/wDPJP8AvkUeRD/zyT/vkUfXIfy/j/wA9s+x3n/CTaD/ANBvTv8AwLj/AMaP+Em0H/oN6d/4Fx/41wfkQ/8APJP++RR5EP8AzyT/AL5FH1yH8v4/8APbPsd5/wAJNoP/AEG9O/8AAuP/ABo/4SbQf+g3p3/gXH/jXB+RD/zyT/vkUeRD/wA8k/75FH1yH8v4/wDAD2z7Hef8JNoP/Qb07/wLj/xo/wCEm0H/AKDenf8AgXH/AI1wfkQ/88k/75FHkQ/88k/75FH1yH8v4/8AAD2z7Hef8JNoP/Qb07/wLj/xo/4SbQf+g3p3/gXH/jXB+RD/AM8k/wC+RR5EP/PJP++RR9ch/L+P/AD2z7Hef8JNoP8A0G9O/wDAuP8Axo/4SbQf+g3p3/gXH/jXB+RD/wA8k/75FHkQ/wDPJP8AvkUfXIfy/j/wA9s+x3n/AAk2g/8AQb07/wAC4/8AGj/hJtB/6Denf+Bcf+NcH5EP/PJP++RR5EP/ADyT/vkUfXIfy/j/AMAPbPsd5/wk2g/9BvTv/AuP/Gj/AISbQf8AoN6d/wCBcf8AjXB+RD/zyT/vkUeRD/zyT/vkUfXIfy/j/wAAPbPsd5/wk2g/9BvTv/AuP/Gj/hJtB/6Denf+Bcf+NcH5EP8AzyT/AL5FHkQ/88k/75FH1yH8v4/8APbPsd5/wk2g/wDQb07/AMC4/wDGj/hJtB/6Denf+Bcf+NcH5EP/ADyT/vkUeRD/AM8k/wC+RR9ch/L+P/AD2z7Hef8ACTaD/wBBvTv/AALj/wAaP+Em0H/oN6d/4Fx/41wfkQ/88k/75FHkQ/8APJP++RR9ch/L+P8AwA9s+x3n/CTaD/0G9O/8C4/8aP8AhJtB/wCg3p3/AIFx/wCNcH5EP/PJP++RR5EP/PJP++RR9ch/L+P/AAA9s+x3n/CTaD/0G9O/8C4/8aP+Em0H/oN6d/4Fx/41wfkQ/wDPJP8AvkUeRD/zyT/vkUfXIfy/j/wA9s+x0Xi/X9HufCd9DbatYzSuqhUjuUZmO4dADzWJpupXHh+8a4tUaa0lbddWq9Sf+eif7fqP4vrg1B5EP/PJP++RUlZzxbbTgrW/EzlUblc9Fs7y31Cziu7KVZoJV3I69CP89u1TV5xpupXHh+8a4tUaa0lbdc2q9Sf+eif7XqP4vrg16DZ3lvqFnFdWUqzQSruR16Ef57dq7YTjUjzROqE1JE1FFFWaBRRRQAVna1rtloFrFPqLSBJpfJQRxs5LbWbGB7KfyrRrjfiR/wAg/R/+wl/7bzVpSipzUWROTjFtElz8TfDVnEJLye4t4ywUPLauoLE4AyR1NTf8LC0P/p9/8ApP8K8V+JP/ACLNt/2Ebb/0YK6q4eSK1lkt4fPlVCyRbgu9gOFyeBk8Zr0FhafM1qc3tp2uegf8LC0P/p9/8ApP8KrJ8U/DEmpS6fHPdtdwoskkX2KXKqeh+7Xi934o1zRb6xOsf2PLBdXSW0lvaSP51uXOASScMB34FVLibWE+K2qx6BbW0s8lhBulu3IjhAJ5IXliemBj61m6FLpcpVJnvn/CwtD/AOn3/wAApP8ACj/hYWh/9Pv/AIBSf4V4vpfjCeODXIfElvFBe6GokuPspJjlQqWVk3c846H2rMk8b6zZ6NFr16ujtYMEkksYZ2NzHGxGDuztZgDkjA+tP2FC17sPaVD3H/hanhf+1v7M8+7+2+R9o8n7FLny923d93pnil1Lx5o1xpd3BEL0ySQuij7HIMkqQO1eNqwf41hlOVbw5kH1H2iuo1GzbUNOmtUuZrUyrt86BtrqM84PY44zVxwtN3euhLrSGabexs8f9n3yJqFgE3GJwXgYjoy9gcEEHqM16l4Z8TRa9A0M6rBqEIzNADww/vp6qfzB4Pv8/wDgnTbXSPHni+xsI/Lt4RYhVLEnmJiSSeSSSTn3rugZYp4ri1laC5hbdFMvVT/UHoQeCK0nTVeF3o9SYz9nLTY9korB8M+JotdgaGdVg1CFczQA8MP76eqn8weD2J3q8mUXF2Z2ppq6CiiipGFFFFABRRRQAUUUUAFFFFABRRRQAUUUUAFFFFABRRRQAUUUUAFFFFABRRRQB5JoH/It6b/16Rf+gCtCp7HwX4jsdOtrQNpbiCJYwxmkG7aAM/c9qn/4RXxH/wBQv/v/ACf/ABFedUwtWU2137o4PZy7FGir3/CK+I/+oX/3/k/+Io/4RXxH/wBQv/v/ACf/ABFR9Uq/00P2cuxRoq9/wiviP/qF/wDf+T/4ij/hFfEf/UL/AO/8n/xFH1Sr/TQezl2KNFXv+EV8R/8AUL/7/wAn/wARR/wiviP/AKhf/f8Ak/8AiKPqlX+mg9nLsUaKvf8ACK+I/wDqF/8Af+T/AOIo/wCEV8R/9Qv/AL/yf/EUfVKv9NB7OXYo0Ve/4RXxH/1C/wDv/J/8RR/wiviP/qF/9/5P/iKPqlX+mg9nLsUaKvf8Ir4j/wCoX/3/AJP/AIij/hFfEf8A1C/+/wDJ/wDEUfVKv9NB7OXYo0Ve/wCEV8R/9Qv/AL/yf/EUf8Ir4j/6hf8A3/k/+Io+qVf6aD2cuxRoq9/wiviP/qF/9/5P/iKP+EV8R/8AUL/7/wAn/wARR9Uq/wBNB7OXYo0Ve/4RXxH/ANQv/v8Ayf8AxFH/AAiviP8A6hf/AH/k/wDiKPqlX+mg9nLsUaKvf8Ir4j/6hf8A3/k/+Io/4RXxH/1C/wDv/J/8RR9Uq/00Hs5djznxT4m8Fzy3OjeMoCjQkhFu7Rz5mR96JlB+mQQa499I1qX4X6XLMNSW20/XFuoU25uorFSQrYIOWXOQMYxjjAr3b/hFfEf/AFC/+/8AJ/8AEUf8Ir4j/wCoX/3/AJP/AIito0KsVZL8UWlJbI8p0iPw3rXibS3tvFuta3dWsrTQxSbWjiOw5MhEQ28cYJByQKh8M+JrDwbd67o2vLcRahLqs9zbxR27yNeJIQVKbRyTjH+Tj1z/AIRXxH/1C/8Av/J/8RR/wiviP/qF/wDf+T/4il9XqvRrT1QWl2PEFtbq/wDgNcmzs5Glj1CSc26DLhVuizAAdwAfyrT1/wAZaV4n1LwpFoZnuo11uCWW48hljjO1wELED5jknA/umvRvDfw48ReHdINis+l3AM8s28ySL99y+MbD0zitb/hFfEf/AFC/+/8AJ/8AEVToVL7d+qG1K+x4zeww6L8Q/EEuv6/qmg2+oNDNa3NsVWKcBNpVmKMAyngDjj1p2tWGmWvwd8T3OjXuoX8d7N50lzfLhpX3ICy/IuV4649a9k/4RXxH/wBQv/v/ACf/ABFH/CK+I/8AqF/9/wCT/wCIpexraaduq6CtPseb/EMbPBOllBho9QsimB907x0qrPq9p4N+KOtX/iNnt7HVra3NreGNmjUxqVaMkA4JPNepf8Ir4j/6hf8A3/k/+Io/4RXxH/1C/wDv/J/8RUrD1UrNfihKMrWseS+Nbga9H4a8SWMup2+k2l1L59xbQFZo0YbRKEZSduQedvRulW/DcHh/U/F1rf6f4m1bXruzhk2NMVeGNWABBZY1GTxxnPHSvT/+EV8R/wDUL/7/AMn/AMRR/wAIr4j/AOoX/wB/5P8A4in9Xq8trfih2la1jJvr620ywmvb6UQ20CF5JCCQqjqeK8z8P+OPDj/FTXbldUjMOoRWkNq+xv3rgEEDj1I617F/wiviP/qF/wDf+T/4ij/hFfEf/UL/AO/8n/xFTHC1Emmt/NCUZJbFGir3/CK+I/8AqF/9/wCT/wCIo/4RXxH/ANQv/v8Ayf8AxFR9Uq/00T7OXYo0Ve/4RXxH/wBQv/v/ACf/ABFH/CK+I/8AqF/9/wCT/wCIo+qVf6aD2cuxRoq9/wAIr4j/AOoX/wB/5P8A4ij/AIRXxH/1C/8Av/J/8RR9Uq/00Hs5dijRV7/hFfEf/UL/AO/8n/xFH/CK+I/+oX/3/k/+Io+qVf6aD2cuxRoq9/wiviP/AKhf/f8Ak/8AiKP+EV8R/wDUL/7/AMn/AMRR9Uq/00Hs5dijRV7/AIRXxH/1C/8Av/J/8RR/wiviP/qF/wDf+T/4ij6pV/poPZy7FGir3/CK+I/+oX/3/k/+Io/4RXxH/wBQv/v/ACf/ABFH1Sr/AE0Hs5dijRV7/hFfEf8A1C/+/wDJ/wDEUf8ACK+I/wDqF/8Af+T/AOIo+qVf6aD2cuxRoq9/wiviP/qF/wDf+T/4ij/hFfEf/UL/AO/8n/xFH1Sr/TQezl2KNFXv+EV8R/8AUL/7/wAn/wARR/wiviP/AKhf/f8Ak/8AiKPqlX+mg9nLsUaKvf8ACK+I/wDqF/8Af+T/AOIo/wCEV8R/9Qv/AL/yf/EUfVKv9NB7OXYo0Ve/4RXxH/1C/wDv/J/8RR/wiviP/qF/9/5P/iKPqlX+mg9nLsUaKvf8Ir4j/wCoX/3/AJP/AIij/hFfEf8A1C/+/wDJ/wDEUfVKv9NB7OXYo0Ve/wCEV8R/9Qv/AL/yf/EUf8Ir4j/6hf8A3/k/+Io+qVf6aD2cuxRop+qaPr2kaZNfXK6c0UIBYRzSFsEgcZQetV551gQFgzszBEjQZaRj0VR3JrOdCpBpNbktNbhPOsCAsGdmYIkaDLSMeiqO5Ndj4T0O40eznlvX2z3jiV7ZGzHCcYwPVj/Ee5+mTF4a8NNZONS1YK+oMuEjBytqp/hU92PdvwHHXpK9GjRVJebOmnTt7zCiiitzcKKKKACuN+JH/IP0f/sJf+281dlWF4s8Pz+IbG0itbmO3ktrnzw0kZcN+7dMYBH9/P4VrRko1E2RUTcWkeJ+PNMv9V8OJFpNt9quI7uGYReYqbgrZPLECop7rxNrml3+nvoUmiyTWrrDdtfRyBXxgDCHIz69q9N/4V/q/wD0FbL/AMBn/wDi6P8AhX+r/wDQVsv/AAGf/wCLr0nWot35v6+45FCaVrHhT+E9SmstHgtfB1np01ldwSXN2J4mklCsNxUjkg8sdxzxjBNb97ZeItO8eX+taVpkN/aTWsUJia4WN5CM52k8Ajj72M54Nerf8K/1f/oK2X/gM/8A8XR/wr/V/wDoK2X/AIDP/wDF1KnQW0v6+4rlqPoeTWPhXUNWt/El34gSOzu9ciWFII38wWyKhVckcE5OTj0qnp2gXFtY29jdfD/R57iJVie+ZoPKkxxvPyl8nrjH417L/wAK/wBX/wCgrZf+Az//ABdH/Cv9X/6Ctl/4DP8A/F0e0ofzf19wuWp2PORpF4PigNXEIFgNG+yiQMP9Z527btzn7vfGK3L+e4trGWaytDeTouUgEgQyH03HgfjXVf8ACv8AV/8AoK2X/gM//wAXUN34H1e0sZ7g6nZMIY2k2/ZnGcDOPv1oq9FaKW5Lpz6o8l0IeJ7Xxrq2pXXheSK31eS2Vj9uhP2dY12Fjg5brnA9K7uSRIY2kkbaq9SaYlwosknmIUFAzH6iu08J+E3Ekera3FtlU7rW0cf6n0dx/f8AQfw/XpUpRoRu3cSTqPQd4P8AC0sNxHrWrI0VwFItrY8GJWGCz/7RHboB79OzooryKlSVSXNI7oxUVZBRRRWZQUUUUAFFFFABRRRQAUUUUAFFFFABRRRQAUUUUAFFFFABRRRQAUUUUAFFFFABRRRQAUUUUAFFFFABRRRQAUUUUAFFFFABRRRQAUUUUAFFFFABRRRQAUUUUAFFFFABRRRQAUUUUAFFFFABRRRQAUUUUAFFFFABRRRQAUUUUAFFFFABRRRQAUUUUAFFFFABRRRQAUUUUAFFFFABRRRQAUUUUAFFFFABRRRQAUUUUAYfjNJJfB9/HDG0sjKqoiDLMS4wAPU1X8NeGmsnGpaqFfUGXCRg5W1U/wAK+rHu34Djr0lFPQnlTlzMKKKKRQUUUUAFFFFABRRRQAUUUUAFFFFABRRRQAVT1j/kBX//AF7Sf+gmrlFNaMDhvBfhCSKK21PXYts8aKba0b/licffb/b9B/D9enc0UVdSpKpLmkTGKirIKKKKzKCiiigAooooAKKKKACiiigAooooAKKKKACiiigAooooAKKKKACiiigAooooAKKKKACiiuQ8fePV8DR2LvpxvRdlxxN5ezbt/wBk5zu/SonOMI80tjWlSnWqKnTV5PZHX0V5v4S+L0firxNbaQmjNamcOfNNzv27VLdNoz0x1rsfFWvDwz4Zu9YNv9pFsFJiD7N2WC9cH1z0qY1qc4OcXojSvhK+Hq+xqxal29TXorx3/hoCH/oXZP8AwMH/AMRXq+lX39qaNZ3/AJflfaoEm2bs7dyg4z369aVOvTqu0Hc0xWAxWDt9Yg43va/W2/5luivK9a+N0eja9faa2gvKbS4eHzBdgb9rEZxs46V2HgfxcvjTQ5NSWyNmEnaHyzLvzgA5zgevT2pQxFKcuSL1FVwOJo0Y16kGoStZ9HdXX4HSUV5v4u+LsfhTxNc6Q+jNdGAIfNFzt3blDdNpx1x1q54F+JyeNtZnsE0prPybczFzcb8/MoxjaP736ULEUnP2aepUsvxccP8AWnTfs+/Te35neUVznjjxaPBmgx6k1mbwPOsJjEuzGVY5zg/3f1rjtF+N0es69Y6augvEbu4SHzDdg7NzAZxs560TxFKEuST1JpYHE1qMq9ODcI3u+isrv8D1Siquq3v9maPeX/l+b9lgebZuxu2qTjPbOK8n/wCGgIf+hdk/8DB/8RTqV6dJ2m7DwuAxWMv9Xg5W3t5/8MexUVkeFdeHibwzaawLf7MLkMREX37cMV64HpnpXHeLvi7H4U8TXOkPozXRgCHzRc7d25Q3Tacdcdacq1OEFOT0ZnRwtfEVfY0oty7eh6RRXIeAfHy+OY75k042QszGOZvM37t3+yMY2/rVzxx4tHgzQY9SazN4HnWExiXZjKsc5wf7v60KrBw9onoTLDVo1vq7i+e9rdb9jo6K8eT4/RPIqjw6+WOBm8H/AMRXsNFOtTq35HexpisFiMHJRxEHFvuFFePv8fYo5GQ+HXypwcXg/wDiK9J8K68PE3hm01gW/wBmFyGIiL79uGK9cD0z0qaeIpVXywd2PEYHE4aEalaDipbN9TXorzfxd8Xo/Cnia50d9Ga6MAQ+aLnbu3KG6bTjrjrVzwL8Tk8bazPYJpTWfk25mLm435+ZRjG0f3v0oWIpOfs09SpZfi44f606b9n36b2/M7yiuQ8fePl8DR2LPpxvReGQcTeXs27f9k5zu/Ssbwj8Xo/Ffia20dNGa1M4c+abndt2qW6bRnpjrQ8RSjP2bepMMDiZ0HiYwbgt30PSKKyPFOujwz4Zu9XNv9pFsFJi37N2WC9cH1z0rzT/AIaAh/6F2T/wMH/xFFTEUqTtN2KwuX4vGJvD03JLex7FRVTSr7+09Gsr/wAvyvtVuk2zdnbuUHGe+M15trfxtj0bXr7TX0FpTaTvD5guwN+1iM42cdKqpWp00pTdkzLC4Wvi5+zw8XJ2vZdv6Z6pRXOeB/Fw8aaDJqS2Rswlw0PlmXfnCqc5wP736VjeOvicngnWYLB9Ka8863EwcXGzHzMMY2n+7+tDrU1D2jegU8JXqV/q0Itzu1brdXv91md5RXm/hH4vR+K/E1to6aM1qZw5803O7btUt02jPTHWu+1W9/szR7y/8vzfssDzbN2N21ScZ7ZxRCrCpHmi9BYjDVsLU9nXi4y7MtUV47/w0BD/ANC7J/4GD/4ivV9Kvv7T0ayv/L8r7VbpNs3Z27lBxnvjNKnXp1XaDua4rA4rB8v1iDjfa/W2/wCZboryvWvjdHo2vX2mtoLym0uHh8wXYG/axGcbOOldL4B8fL45jvmTTjZCzMY5m8zfu3f7Ixjb+tKOIpTnyReo6mX4ulQWInTag7WfTXY6+iuQ8fePl8DR2LPpxvReGQcTeXs27f8AZOc7v0rG8I/F6PxX4mttHTRmtTOHPmm53bdqlum0Z6Y60PEUoz9m3qTDA4mdB4mMG4Ld9D0iiuc8ceLh4L0GPUmsjeB7hYfLEuzGVY5zg/3f1rgk+P0UkioPDr5YgDN4P/iKKmIpU5csnqVh8vxeJpOrRpuUVu15K/5HsFFAOQDXjz/H6JJGU+HXypwcXg/+Ip1K1OlbndrkYXBYjGSccPBya7HsNFZHhXXh4m8M2msC3+zC5DERF9+3DFeuB6Z6Vx3i74ux+FPE1zpD6M10YAh80XO3duUN02nHXHWnKtThBTk9GTRwtfEVfY0oty7eh6RRXB+BficnjbWZ7BNKaz8m3Mxc3G/PzKMY2j+9+lbPjjxaPBmgx6k1mbwPOsJjEuzGVY5zg/3f1oVanKHtE9AqYWvTr/VpxandK3W7tb77o6OivK9F+N0es69Y6augvEbu4SHzDdg7NzAZxs5616Tqt9/ZmjXt/wCX5v2W3ebZuxu2qTjPbOKKdanUTlB3sGKwlfBz9niIuLtez7f0i3RXjv8Aw0BD/wBC7J/4GD/4ivS/CuvDxN4ZtNYFv9mFyGIiL79uGK9cD0z0qaeIpVXaDua4rLsXg0niKbintc16K838XfF6Pwp4mudHfRmujAEPmi527tyhum046461seAfHy+OUvmTTjZC0KDmbzN+7d/sjGNv60LEUpT9mnqTPA4mFBYmUGoPZ9DsKK5Dx94+XwNHYs+nG9F4ZBxN5ezbt/2TnO79K5rRfjdHrOvWOmroLxG7uEh8w3YOzcwGcbOetEsRShPkk9SqeX4urQeIhTbgr3fTTc9UorI8Va8PDPhm71g2/wBpFsFJiD7N2WC9cH1z0rzVPj9E8iqPDr5Y4Gbwf/EUVMRSpPlm7E4fA4nEwlUowclHdroew0UV4+/x9ijkZD4dfKnBxeD/AOIqqlanStzu1xYXBYjGSccPBya7HsFFc54H8XDxpoMmpLZGzCXDQ+WZd+cKpznA/vfpWN46+JqeCdYgsX0przzoBMHFxsx8zDGNp/u/rQ61NQ9o3oTDC16lf6tCLc7tW63W/wB1md5RXm/hH4vR+K/E1to6aM1qZw5803O7btUt02jPTHWul8ceLh4L0GPUmsjeB7hYfLEuzGVY5zg/3f1pRr05Qc09EVVweIpV1h6kGpu1l112+86OivHk+P0TyKo8OvljgZvB/wDEV7DTp1qdW/I72DFYLEYOSjiIOLfcKKKK1OQKKKKACiiigAooooAKKKKACiiuK0qbV77R7O7l1+9Ek8CSMFht8AlQTj91XlZlm2GyyMZYi9pbWVyoxlN2R2tFYnhq5u5l1KK9u5Ls212I45JFRW2mGN8HYoHVz2rbruw9eGIoxrQ2kk16MnZ2CiiitwCiiigAooooAKKKKACiiigAooooAKKKKACiiigAooooAKKKKACiiigAooooAKKKKACiiigAooooAK8e/aA/49dC/wB+f+SV7DXj37QH/HroX+/P/JK5Mb/u8v66ntZD/wAjSh/iRxXwg/5Kbp3+7L/6LavZ/ir/AMkw1j/cj/8ARqV4x8IP+Sm6d/uy/wDotq9n+Kv/ACTDWP8Acj/9GpXHhP8AdJ/P8j2uJf8AkeL/ALdPmKvrbwp/yJujf9eMP/oAr5Jr628Kf8ibo3/XjD/6AKzyz4pHqcdb4f8A7f8A/bT5m8cf8j9rv/X/ADf+hmvZvgX/AMiHP/1/P/6CleM+OP8Akftd/wCv+b/0M17N8C/+RDn/AOv5/wD0FKnB/wC9S+ZOff8AJO4T/tz/ANNs8z+MP/JTtR/3If8A0UtbPwG/5HHUP+vA/wDoxKxvjD/yU7Uf9yH/ANFLWz8Bv+Rx1D/rwP8A6MSoh/vvzZ04n/kkl6R/9LR2nxz/AORBh/6/4/8A0B68Y8D/API/aF/1/wAP/oYr2f45/wDIgw/9f8f/AKA9eMeB/wDkftC/6/4f/QxV4z/eo/I5sh/5J7Gf9v8A/pCPprxT/wAifrP/AF4T/wDotq+SD1r638U/8ifrP/XhP/6Lavkg9arM/iiPgXfEf9uf+3H078Kv+SYaP/uSf+jXrxn4w/8AJTtR/wByH/0UtezfCr/kmGj/AO5J/wCjXrxn4w/8lO1H/ch/9FLWmL/3SHy/I8zhv/keP/t47P8AZ/8A+PbXf9+D+T1tfHP/AJEGH/r/AI//AEB6xf2f/wDj213/AH4P5PW18c/+RBh/6/4//QHrSH+4/JnNiv8Ako1/19j/AOlI+f7f/j5i/wB8fzr7Ir43t/8Aj5i/3x/Ovsisss2l8j0+N/8AeaX+F/mfG9z/AMfUv++f519M/Cr/AJJho/8AuSf+jXr5muf+PqX/AHz/ADr6Z+FX/JMNH/3JP/Rr1ll38aXp+p0cV/8AIuwv9fZR4z8YP+Sn6j/uQ/8Aopa2fgN/yOOof9eB/wDRiVjfGD/kp+o/7kP/AKKWtn4Df8jjqH/Xgf8A0YlRD/ffmzpxP/JJr0j/AOlo2v2gP+PbQv8Afn/klcZ8H/8Akp+nf7k3/opq7P8AaA/49tC/35/5JXGfB/8A5Kfp3+5N/wCimq63+/L1X6HNgP8Akl63z/NHs/xU/wCSY6x/uR/+jUr5hr6e+Kn/ACTHWP8Acj/9GpXzDSzL+KvQ6uB/4Fb1X5H1v4V/5E7Rv+vCD/0WtfM3jn/kftc/6/5v/QzX0z4V/wCRO0b/AK8IP/Ra18zeOf8Akftc/wCv+b/0M1vmH8GP9dDw+Cf+RhL/AAP84nsvwM/5EGf/AK/5P/QErjPjz/yOOn/9eA/9GPXZ/Az/AJEGf/r/AJP/AEBK4z48/wDI46f/ANeA/wDRj0Vv9xXyDLP+Sof+Op+UzG+D/wDyU/Tv9yb/ANFNX0B4p/5E/Wf+vCf/ANFtXz/8H/8Akp+nf7k3/opq+gPFP/In6z/14T/+i2q8B/u79X+RzcX/API0l6L8j5IPWvrfwr/yJ2jf9eEH/ota+SD1r638K/8AInaN/wBeEH/otawyz4pHucc74b/t/wD9tPmXxx/yP2u/9f8AN/6Ga9N/Z/8A+PbXf9+D+T15l44/5H7Xf+v+b/0M16b+z/8A8e2u/wC/B/J6ywv+9/edGcf8k1Q/w0//AEkP2gP+PbQv9+f+SVxnwf8A+Sn6d/uTf+imrs/2gP8Aj20L/fn/AJJXGfB//kp+nf7k3/opqut/vy9V+hzYD/kl63z/ADR6Z8c/+RBg/wCv+P8A9AevALb/AI+ov98fzr3/AOOf/Igwf9f8f/oD14Bbf8fUX++P51GP/j/cdXCv/ImxH+KX/pET7HX7i/Svji4/4+Zf98/zr7HX7i/Svji4/wCPmX/fP866Mz2h8/0PN4I/3mr/AIV+Z9M/Cr/kmGj/AO5J/wCjXrxn4w/8lO1H/ch/9FLXs3wq/wCSYaP/ALkn/o168Z+MP/JTtR/3If8A0UtPF/7pD5fkcvDf/I8f/bxs/Ab/AJHHUP8ArwP/AKMSu0+Of/Igw/8AX/H/AOgPXF/Ab/kcdQ/68D/6MSu0+Of/ACIMP/X/AB/+gPRR/wByfzDM/wDkqF/jp/lA8Y8D/wDI/aF/1/w/+hivprxV/wAidrP/AF4T/wDotq+ZfA//ACP2hf8AX/D/AOhivprxV/yJ2s/9eE//AKLajL/4Mv66Bxt/yMY/4F/6VI+SK+nfhV/yTDR/9yT/ANGvXzFX078Kv+SYaP8A7kn/AKNesMt/iv0Pc44/gUfV/keM/GD/AJKfqP8AuQ/+ilrsv2f/APUa5/vQ/wAnrjfjB/yU/Uf9yH/0Utdl+z//AKjXP96H+T06P+/P1Zy4/wD5Jej8vzYv7QH/AB7aF/vz/wAkrzLwP/yP2hf9f8P/AKGK9N/aA/49tC/35/5JXmXgf/kftC/6/wCH/wBDFRiv97+a/Q6cn/5Jqv6VP/ST6A+Kv/JMNY/3I/8A0alfM1v/AMfMX++P519M/FX/AJJhrH+5H/6NSvma3/4+Yv8AfH86vMf40fT9Tm4U/wCRdiv6+yz7Ir43uf8Aj6l/3z/Ovsivje5/4+pf98/zrXM9o/M5+CP96q/4f1Pf/gZ/yIM//X/J/wCgJXG/Hn/kcNP/AOvAf+jHrsvgZ/yIM/8A1/yf+gJXG/Hn/kcNP/68B/6MenW/3FfI5ct/5Kh/46n/ALeYvwf/AOSn6d/uTf8Aopq9M+Of/Igwf9f8f/oD15n8H/8Akp+nf7k3/opq9M+Of/Igwf8AX/H/AOgPUYf/AHOfz/Q6c5/5KWj/AIqf5o8At/8Aj5i/3x/Ovsivje3/AOPmL/fH86+yKrLNpfIfG/8AvNL/AAv8wooor2D4EKKKKACiiigAooooAKKKKACuN8O/8izpn/XpF/6CK7KuN8O/8izpn/XpF/6CK/PuOP4FH1f5I6cN8bNTwx/r9a/6/wAf+k8Nb1YPhj/X61/1/j/0nhrer63J/wDkXUP8EfyRhL4n6v8AMKKKK9QkKKKKACiiigAooooAKKKKACiiigAooooAKKKKACiiigAooooAKKKKACiiigAooooAKKKKACiiigArx79oD/j10L/fn/klew149+0B/wAeuhf78/8AJK5Mb/u8v66ntZD/AMjSh/iRxXwg/wCSm6d/uy/+i2r2f4q/8kw1j/cj/wDRqV4x8IP+Sm6d/uy/+i2r2f4q/wDJMNY/3I//AEalceE/3Sfz/I9riX/keL/t0+Yq+tvCn/Im6N/14w/+gCvkmvrbwp/yJujf9eMP/oArPLPikepx1vh/+3//AG0+ZvHH/I/a7/1/zf8AoZr2b4F/8iHP/wBfz/8AoKV4z44/5H7Xf+v+b/0M17N8C/8AkQ5/+v5//QUqcH/vUvmTn3/JO4T/ALc/9Ns8z+MP/JTtR/3If/RS1s/Ab/kcdQ/68D/6MSsb4w/8lO1H/ch/9FLWz8Bv+Rx1D/rwP/oxKiH++/NnTif+SSXpH/0tHafHP/kQYf8Ar/j/APQHrxjwP/yP2hf9f8P/AKGK9n+Of/Igw/8AX/H/AOgPXjHgf/kftC/6/wCH/wBDFXjP96j8jmyH/knsZ/2//wCkI+mvFP8AyJ+s/wDXhP8A+i2r5IPWvrfxT/yJ+s/9eE//AKLavkg9arM/iiPgXfEf9uf+3H078Kv+SYaP/uSf+jXrxn4w/wDJTtR/3If/AEUtezfCr/kmGj/7kn/o168Z+MP/ACU7Uf8Ach/9FLWmL/3SHy/I8zhv/keP/t47P9n/AP49td/34P5PW18c/wDkQYf+v+P/ANAesX9n/wD49td/34P5PW18c/8AkQYf+v8Aj/8AQHrSH+4/JnNiv+SjX/X2P/pSPn+3/wCPmL/fH86+yK+N7f8A4+Yv98fzr7IrLLNpfI9Pjf8A3ml/hf5nxvc/8fUv++f519M/Cr/kmGj/AO5J/wCjXr5muf8Aj6l/3z/Ovpn4Vf8AJMNH/wByT/0a9ZZd/Gl6fqdHFf8AyLsL/X2UeM/GD/kp+o/7kP8A6KWtn4Df8jjqH/Xgf/RiVjfGD/kp+o/7kP8A6KWtn4Df8jjqH/Xgf/RiVEP99+bOnE/8kmvSP/paNr9oD/j20L/fn/klcZ8H/wDkp+nf7k3/AKKauz/aA/49tC/35/5JXGfB/wD5Kfp3+5N/6Karrf78vVfoc2A/5Jet8/zR7P8AFT/kmOsf7kf/AKNSvmGvp74qf8kx1j/cj/8ARqV8w0sy/ir0Orgf+BW9V+R9b+Ff+RO0b/rwg/8ARa18zeOf+R+1z/r/AJv/AEM19M+Ff+RO0b/rwg/9FrXzN45/5H7XP+v+b/0M1vmH8GP9dDw+Cf8AkYS/wP8AOJ7L8DP+RBn/AOv+T/0BK4z48/8AI46f/wBeA/8ARj12fwM/5EGf/r/k/wDQErjPjz/yOOn/APXgP/Rj0Vv9xXyDLP8AkqH/AI6n5TMb4P8A/JT9O/3Jv/RTV9AeKf8AkT9Z/wCvCf8A9FtXz/8AB/8A5Kfp3+5N/wCimr6A8U/8ifrP/XhP/wCi2q8B/u79X+RzcX/8jSXovyPkg9a+t/Cv/InaN/14Qf8Aota+SD1r638K/wDInaN/14Qf+i1rDLPike5xzvhv+3//AG0+ZfHH/I/a7/1/zf8AoZr039n/AP49td/34P5PXmXjj/kftd/6/wCb/wBDNem/s/8A/Htrv+/B/J6ywv8Avf3nRnH/ACTVD/DT/wDSQ/aA/wCPbQv9+f8AklcZ8H/+Sn6d/uTf+imrs/2gP+PbQv8Afn/klcZ8H/8Akp+nf7k3/opqut/vy9V+hzYD/kl63z/NHpnxz/5EGD/r/j/9AevALb/j6i/3x/Ovf/jn/wAiDB/1/wAf/oD14Bbf8fUX++P51GP/AI/3HVwr/wAibEf4pf8ApET7HX7i/Svji4/4+Zf98/zr7HX7i/Svji4/4+Zf98/zrozPaHz/AEPN4I/3mr/hX5n0z8Kv+SYaP/uSf+jXrxn4w/8AJTtR/wByH/0UtezfCr/kmGj/AO5J/wCjXrxn4w/8lO1H/ch/9FLTxf8AukPl+Ry8N/8AI8f/AG8bPwG/5HHUP+vA/wDoxK7T45/8iDD/ANf8f/oD1xfwG/5HHUP+vA/+jErtPjn/AMiDD/1/x/8AoD0Uf9yfzDM/+SoX+On+UDxjwP8A8j9oX/X/AA/+hivprxV/yJ2s/wDXhP8A+i2r5l8D/wDI/aF/1/w/+hivprxV/wAidrP/AF4T/wDotqMv/gy/roHG3/Ixj/gX/pUj5Ir6d+FX/JMNH/3JP/Rr18xV9O/Cr/kmGj/7kn/o16wy3+K/Q9zjj+BR9X+R4z8YP+Sn6j/uQ/8Aopa7L9n/AP1Guf70P8nrjfjB/wAlP1H/AHIf/RS12X7P/wDqNc/3of5PTo/78/VnLj/+SXo/L82L+0B/x7aF/vz/AMkrzLwP/wAj9oX/AF/w/wDoYr039oD/AI9tC/35/wCSV5l4H/5H7Qv+v+H/ANDFRiv97+a/Q6cn/wCSar+lT/0k+gPir/yTDWP9yP8A9GpXzNb/APHzF/vj+dfTPxV/5JhrH+5H/wCjUr5mt/8Aj5i/3x/OrzH+NH0/U5uFP+Rdiv6+yz7Ir43uf+PqX/fP86+yK+N7n/j6l/3z/Otcz2j8zn4I/wB6q/4f1Pf/AIGf8iDP/wBf8n/oCVxvx5/5HDT/APrwH/ox67L4Gf8AIgz/APX/ACf+gJXG/Hn/AJHDT/8ArwH/AKMenW/3FfI5ct/5Kh/46n/t5i/B/wD5Kfp3+5N/6KavTPjn/wAiDB/1/wAf/oD15n8H/wDkp+nf7k3/AKKavTPjn/yIMH/X/H/6A9Rh/wDc5/P9Dpzn/kpaP+Kn+aPALf8A4+Yv98fzr7Ir43t/+PmL/fH86+yKrLNpfIfG/wDvNL/C/wAwooor2D4EKKKKACiiigAooooAKKKKACuN8O/8izpn/XpF/wCgiuyrjfDv/Is6Z/16Rf8AoIr8+44/gUfV/kjpw3xs1PDH+v1r/r/H/pPDW9WD4Y/1+tf9f4/9J4a3q+tyf/kXUP8ABH8kYS+J+r/MKKKK9QkKKKKACiiigAooooAKKKKACiiigAooooAKKKKACiiigAooooAKKKKACiiigAooooAKKKKACiiigArx79oD/j10L/fn/klew149+0B/x66F/vz/AMkrkxv+7y/rqe1kP/I0of4kcV8IP+Sm6d/uy/8Aotq9n+Kv/JMNY/3I/wD0aleMfCD/AJKbp3+7L/6LavZ/ir/yTDWP9yP/ANGpXHhP90n8/wAj2uJf+R4v+3T5ir628Kf8ibo3/XjD/wCgCvkmvrbwp/yJujf9eMP/AKAKzyz4pHqcdb4f/t//ANtPmbxx/wAj9rv/AF/zf+hmvZvgX/yIc/8A1/P/AOgpXjPjj/kftd/6/wCb/wBDNezfAv8A5EOf/r+f/wBBSpwf+9S+ZOff8k7hP+3P/TbPM/jD/wAlO1H/AHIf/RS1s/Ab/kcdQ/68D/6MSsb4w/8AJTtR/wByH/0UtbPwG/5HHUP+vA/+jEqIf7782dOJ/wCSSXpH/wBLR2nxz/5EGH/r/j/9AevGPA//ACP2hf8AX/D/AOhivZ/jn/yIMP8A1/x/+gPXjHgf/kftC/6/4f8A0MVeM/3qPyObIf8AknsZ/wBv/wDpCPprxT/yJ+s/9eE//otq+SD1r638U/8AIn6z/wBeE/8A6Lavkg9arM/iiPgXfEf9uf8Atx9O/Cr/AJJho/8AuSf+jXrxn4w/8lO1H/ch/wDRS17N8Kv+SYaP/uSf+jXrxn4w/wDJTtR/3If/AEUtaYv/AHSHy/I8zhv/AJHj/wC3js/2f/8Aj213/fg/k9bXxz/5EGH/AK/4/wD0B6xf2f8A/j213/fg/k9bXxz/AORBh/6/4/8A0B60h/uPyZzYr/ko1/19j/6Uj5/t/wDj5i/3x/Ovsivje3/4+Yv98fzr7IrLLNpfI9Pjf/eaX+F/mfG9z/x9S/75/nX0z8Kv+SYaP/uSf+jXr5muf+PqX/fP86+mfhV/yTDR/wDck/8ARr1ll38aXp+p0cV/8i7C/wBfZR4z8YP+Sn6j/uQ/+ilrZ+A3/I46h/14H/0YlY3xg/5KfqP+5D/6KWtn4Df8jjqH/Xgf/RiVEP8AffmzpxP/ACSa9I/+lo2v2gP+PbQv9+f+SVxnwf8A+Sn6d/uTf+imrs/2gP8Aj20L/fn/AJJXGfB//kp+nf7k3/opqut/vy9V+hzYD/kl63z/ADR7P8VP+SY6x/uR/wDo1K+Ya+nvip/yTHWP9yP/ANGpXzDSzL+KvQ6uB/4Fb1X5H1v4V/5E7Rv+vCD/ANFrXzN45/5H7XP+v+b/ANDNfTPhX/kTtG/68IP/AEWtfM3jn/kftc/6/wCb/wBDNb5h/Bj/AF0PD4J/5GEv8D/OJ7L8DP8AkQZ/+v8Ak/8AQErjPjz/AMjjp/8A14D/ANGPXZ/Az/kQZ/8Ar/k/9ASuM+PP/I46f/14D/0Y9Fb/AHFfIMs/5Kh/46n5TMb4P/8AJT9O/wByb/0U1fQHin/kT9Z/68J//RbV8/8Awf8A+Sn6d/uTf+imr6A8U/8AIn6z/wBeE/8A6LarwH+7v1f5HNxf/wAjSXovyPkg9a+t/Cv/ACJ2jf8AXhB/6LWvkg9a+t/Cv/InaN/14Qf+i1rDLPike5xzvhv+3/8A20+ZfHH/ACP2u/8AX/N/6Ga9N/Z//wCPbXf9+D+T15l44/5H7Xf+v+b/ANDNem/s/wD/AB7a7/vwfyessL/vf3nRnH/JNUP8NP8A9JD9oD/j20L/AH5/5JXGfB//AJKfp3+5N/6Kauz/AGgP+PbQv9+f+SVxnwf/AOSn6d/uTf8Aopqut/vy9V+hzYD/AJJet8/zR6Z8c/8AkQYP+v8Aj/8AQHrwC2/4+ov98fzr3/45/wDIgwf9f8f/AKA9eAW3/H1F/vj+dRj/AOP9x1cK/wDImxH+KX/pET7HX7i/Svji4/4+Zf8AfP8AOvsdfuL9K+OLj/j5l/3z/OujM9ofP9DzeCP95q/4V+Z9M/Cr/kmGj/7kn/o168Z+MP8AyU7Uf9yH/wBFLXs3wq/5Jho/+5J/6NevGfjD/wAlO1H/AHIf/RS08X/ukPl+Ry8N/wDI8f8A28bPwG/5HHUP+vA/+jErtPjn/wAiDD/1/wAf/oD1xfwG/wCRx1D/AK8D/wCjErtPjn/yIMP/AF/x/wDoD0Uf9yfzDM/+SoX+On+UDxjwP/yP2hf9f8P/AKGK+mvFX/Inaz/14T/+i2r5l8D/API/aF/1/wAP/oYr6a8Vf8idrP8A14T/APotqMv/AIMv66Bxt/yMY/4F/wClSPkivp34Vf8AJMNH/wByT/0a9fMVfTvwq/5Jho/+5J/6NesMt/iv0Pc44/gUfV/keM/GD/kp+o/7kP8A6KWuy/Z//wBRrn+9D/J6434wf8lP1H/ch/8ARS12X7P/APqNc/3of5PTo/78/VnLj/8Akl6Py/Ni/tAf8e2hf78/8krzLwP/AMj9oX/X/D/6GK9N/aA/49tC/wB+f+SV5l4H/wCR+0L/AK/4f/QxUYr/AHv5r9Dpyf8A5Jqv6VP/AEk+gPir/wAkw1j/AHI//RqV8zW//HzF/vj+dfTPxV/5JhrH+5H/AOjUr5mt/wDj5i/3x/OrzH+NH0/U5uFP+Rdiv6+yz7Ir43uf+PqX/fP86+yK+N7n/j6l/wB8/wA61zPaPzOfgj/eqv8Ah/U9/wDgZ/yIM/8A1/yf+gJXG/Hn/kcNP/68B/6Meuy+Bn/Igz/9f8n/AKAlcb8ef+Rw0/8A68B/6MenW/3FfI5ct/5Kh/46n/t5i/B//kp+nf7k3/opq9M+Of8AyIMH/X/H/wCgPXmfwf8A+Sn6d/uTf+imr0z45/8AIgwf9f8AH/6A9Rh/9zn8/wBDpzn/AJKWj/ip/mjwC3/4+Yv98fzr7Ir43t/+PmL/AHx/OvsiqyzaXyHxv/vNL/C/zCiiivYPgQooooAKKKKACiiigAooooAK43w7/wAizpn/AF6Rf+giuyrjfDv/ACLOmf8AXpF/6CK/PuOP4FH1f5I6cN8bNTwx/r9a/wCv8f8ApPDW9WD4Y/1+tf8AX+P/AEnhrer63J/+RdQ/wR/JGEvifq/zCiiivUJCiiigAooooAKKKKACiiigAooooAKKKKACiiigAooooAKKKKACiiigAooooAKKKKACiiigAooooAK8e/aA/wCPXQv9+f8Aklew149+0B/x66F/vz/ySuTG/wC7y/rqe1kP/I0of4kcV8IP+Sm6d/uy/wDotq9n+Kv/ACTDWP8Acj/9GpXjHwg/5Kbp3+7L/wCi2r2f4q/8kw1j/cj/APRqVx4T/dJ/P8j2uJf+R4v+3T5ir628Kf8AIm6N/wBeMP8A6AK+Sa+tvCn/ACJujf8AXjD/AOgCs8s+KR6nHW+H/wC3/wD20+ZvHH/I/a7/ANf83/oZr2b4F/8AIhz/APX8/wD6CleM+OP+R+13/r/m/wDQzXs3wL/5EOf/AK/n/wDQUqcH/vUvmTn3/JO4T/tz/wBNs8z+MP8AyU7Uf9yH/wBFLWz8Bv8AkcdQ/wCvA/8AoxKxvjD/AMlO1H/ch/8ARS1s/Ab/AJHHUP8ArwP/AKMSoh/vvzZ04n/kkl6R/wDS0dp8c/8AkQYf+v8Aj/8AQHrxjwP/AMj9oX/X/D/6GK9n+Of/ACIMP/X/AB/+gPXjHgf/AJH7Qv8Ar/h/9DFXjP8Aeo/I5sh/5J7Gf9v/APpCPprxT/yJ+s/9eE//AKLavkg9a+t/FP8AyJ+s/wDXhP8A+i2r5IPWqzP4oj4F3xH/AG5/7cfTvwq/5Jho/wDuSf8Ao168Z+MP/JTtR/3If/RS17N8Kv8AkmGj/wC5J/6NevGfjD/yU7Uf9yH/ANFLWmL/AN0h8vyPM4b/AOR4/wDt47P9n/8A49td/wB+D+T1tfHP/kQYf+v+P/0B6xf2f/8Aj213/fg/k9bXxz/5EGH/AK/4/wD0B60h/uPyZzYr/ko1/wBfY/8ApSPn+3/4+Yv98fzr7Ir43t/+PmL/AHx/Ovsisss2l8j0+N/95pf4X+Z8b3P/AB9S/wC+f519M/Cr/kmGj/7kn/o16+Zrn/j6l/3z/Ovpn4Vf8kw0f/ck/wDRr1ll38aXp+p0cV/8i7C/19lHjPxg/wCSn6j/ALkP/opa2fgN/wAjjqH/AF4H/wBGJWN8YP8Akp+o/wC5D/6KWtn4Df8AI46h/wBeB/8ARiVEP99+bOnE/wDJJr0j/wClo2v2gP8Aj20L/fn/AJJXGfB//kp+nf7k3/opq7P9oD/j20L/AH5/5JXGfB//AJKfp3+5N/6Karrf78vVfoc2A/5Jet8/zR7P8VP+SY6x/uR/+jUr5hr6e+Kn/JMdY/3I/wD0alfMNLMv4q9Dq4H/AIFb1X5H1v4V/wCRO0b/AK8IP/Ra18zeOf8Akftc/wCv+b/0M19M+Ff+RO0b/rwg/wDRa18zeOf+R+1z/r/m/wDQzW+YfwY/10PD4J/5GEv8D/OJ7L8DP+RBn/6/5P8A0BK4z48/8jjp/wD14D/0Y9dn8DP+RBn/AOv+T/0BK4z48/8AI46f/wBeA/8ARj0Vv9xXyDLP+Sof+Op+UzG+D/8AyU/Tv9yb/wBFNX0B4p/5E/Wf+vCf/wBFtXz/APB//kp+nf7k3/opq+gPFP8AyJ+s/wDXhP8A+i2q8B/u79X+RzcX/wDI0l6L8j5IPWvrfwr/AMido3/XhB/6LWvkg9a+t/Cv/InaN/14Qf8Aotawyz4pHucc74b/ALf/APbT5l8cf8j9rv8A1/zf+hmvTf2f/wDj213/AH4P5PXmXjj/AJH7Xf8Ar/m/9DNem/s//wDHtrv+/B/J6ywv+9/edGcf8k1Q/wANP/0kP2gP+PbQv9+f+SVxnwf/AOSn6d/uTf8Aopq7P9oD/j20L/fn/klcZ8H/APkp+nf7k3/opqut/vy9V+hzYD/kl63z/NHpnxz/AORBg/6/4/8A0B68Atv+PqL/AHx/Ovf/AI5/8iDB/wBf8f8A6A9eAW3/AB9Rf74/nUY/+P8AcdXCv/ImxH+KX/pET7HX7i/Svji4/wCPmX/fP86+x1+4v0r44uP+PmX/AHz/ADrozPaHz/Q83gj/AHmr/hX5n0z8Kv8AkmGj/wC5J/6NevGfjD/yU7Uf9yH/ANFLXs3wq/5Jho/+5J/6NevGfjD/AMlO1H/ch/8ARS08X/ukPl+Ry8N/8jx/9vGz8Bv+Rx1D/rwP/oxK7T45/wDIgw/9f8f/AKA9cX8Bv+Rx1D/rwP8A6MSu0+Of/Igw/wDX/H/6A9FH/cn8wzP/AJKhf46f5QPGPA//ACP2hf8AX/D/AOhivprxV/yJ2s/9eE//AKLavmXwP/yP2hf9f8P/AKGK+mvFX/Inaz/14T/+i2oy/wDgy/roHG3/ACMY/wCBf+lSPkivp34Vf8kw0f8A3JP/AEa9fMVfTvwq/wCSYaP/ALkn/o16wy3+K/Q9zjj+BR9X+R4z8YP+Sn6j/uQ/+ilrsv2f/wDUa5/vQ/yeuN+MH/JT9R/3If8A0Utdl+z/AP6jXP8Aeh/k9Oj/AL8/VnLj/wDkl6Py/Ni/tAf8e2hf78/8krzLwP8A8j9oX/X/AA/+hivTf2gP+PbQv9+f+SV5l4H/AOR+0L/r/h/9DFRiv97+a/Q6cn/5Jqv6VP8A0k+gPir/AMkw1j/cj/8ARqV8zW//AB8xf74/nX0z8Vf+SYax/uR/+jUr5mt/+PmL/fH86vMf40fT9Tm4U/5F2K/r7LPsivje5/4+pf8AfP8AOvsivje5/wCPqX/fP861zPaPzOfgj/eqv+H9T3/4Gf8AIgz/APX/ACf+gJXG/Hn/AJHDT/8ArwH/AKMeuy+Bn/Igz/8AX/J/6Alcb8ef+Rw0/wD68B/6MenW/wBxXyOXLf8AkqH/AI6n/t5i/B//AJKfp3+5N/6KavTPjn/yIMH/AF/x/wDoD15n8H/+Sn6d/uTf+imr0z45/wDIgwf9f8f/AKA9Rh/9zn8/0OnOf+Slo/4qf5o8At/+PmL/AHx/Ovsivje3/wCPmL/fH86+yKrLNpfIfG/+80v8L/MKKKK9g+BCiiigAooooAKKKKACiiigArjfDv8AyLOmf9ekX/oIrsq43w7/AMizpn/XpF/6CK/PuOP4FH1f5I6cN8bNTwx/r9a/6/x/6Tw1vVg+GP8AX61/1/j/ANJ4a3q+tyf/AJF1D/BH8kYS+J+r/MKKKK9QkKKKKACiiigAooooAKKKKACiiigAooooAKKKKACiiigAooooAKKKKACiiigAooooAKKKKACiiigArx79oD/j10L/AH5/5JXsNePftAf8euhf78/8krkxv+7y/rqe1kP/ACNKH+JHFfCD/kpunf7sv/otq9n+Kv8AyTDWP9yP/wBGpXjHwg/5Kbp3+7L/AOi2r2f4q/8AJMNY/wByP/0alceE/wB0n8/yPa4l/wCR4v8At0+Yq+tvCn/Im6N/14w/+gCvkmvrbwp/yJujf9eMP/oArPLPikepx1vh/wDt/wD9tPmbxx/yP2u/9f8AN/6Ga9m+Bf8AyIc//X8//oKV4z44/wCR+13/AK/5v/QzXs3wL/5EOf8A6/n/APQUqcH/AL1L5k59/wAk7hP+3P8A02zzP4w/8lO1H/ch/wDRS1s/Ab/kcdQ/68D/AOjErG+MP/JTtR/3If8A0UtbPwG/5HHUP+vA/wDoxKiH++/NnTif+SSXpH/0tHafHP8A5EGH/r/j/wDQHrxjwP8A8j9oX/X/AA/+hivZ/jn/AMiDD/1/x/8AoD14x4H/AOR+0L/r/h/9DFXjP96j8jmyH/knsZ/2/wD+kI+mvFP/ACJ+s/8AXhP/AOi2r5IPWvrfxT/yJ+s/9eE//otq+SD1qsz+KI+Bd8R/25/7cfTvwq/5Jho/+5J/6NevGfjD/wAlO1H/AHIf/RS17N8Kv+SYaP8A7kn/AKNevGfjD/yU7Uf9yH/0UtaYv/dIfL8jzOG/+R4/+3js/wBn/wD49td/34P5PW18c/8AkQYf+v8Aj/8AQHrF/Z//AOPbXf8Afg/k9bXxz/5EGH/r/j/9AetIf7j8mc2K/wCSjX/X2P8A6Uj5/t/+PmL/AHx/Ovsivje3/wCPmL/fH86+yKyyzaXyPT43/wB5pf4X+Z8b3P8Ax9S/75/nX0z8Kv8AkmGj/wC5J/6Nevma5/4+pf8AfP8AOvpn4Vf8kw0f/ck/9GvWWXfxpen6nRxX/wAi7C/19lHjPxg/5KfqP+5D/wCilrZ+A3/I46h/14H/ANGJWN8YP+Sn6j/uQ/8Aopa2fgN/yOOof9eB/wDRiVEP99+bOnE/8kmvSP8A6Wja/aA/49tC/wB+f+SVxnwf/wCSn6d/uTf+imrs/wBoD/j20L/fn/klcZ8H/wDkp+nf7k3/AKKarrf78vVfoc2A/wCSXrfP80ez/FT/AJJjrH+5H/6NSvmGvp74qf8AJMdY/wByP/0alfMNLMv4q9Dq4H/gVvVfkfW/hX/kTtG/68IP/Ra18zeOf+R+1z/r/m/9DNfTPhX/AJE7Rv8Arwg/9FrXzN45/wCR+1z/AK/5v/QzW+YfwY/10PD4J/5GEv8AA/ziey/Az/kQZ/8Ar/k/9ASuM+PP/I46f/14D/0Y9dn8DP8AkQZ/+v8Ak/8AQErjPjz/AMjjp/8A14D/ANGPRW/3FfIMs/5Kh/46n5TMb4P/APJT9O/3Jv8A0U1fQHin/kT9Z/68J/8A0W1fP/wf/wCSn6d/uTf+imr6A8U/8ifrP/XhP/6LarwH+7v1f5HNxf8A8jSXovyPkg9a+t/Cv/InaN/14Qf+i1r5IPWvrfwr/wAido3/AF4Qf+i1rDLPike5xzvhv+3/AP20+ZfHH/I/a7/1/wA3/oZr039n/wD49td/34P5PXmXjj/kftd/6/5v/QzXpv7P/wDx7a7/AL8H8nrLC/73950Zx/yTVD/DT/8ASQ/aA/49tC/35/5JXGfB/wD5Kfp3+5N/6Kauz/aA/wCPbQv9+f8AklcZ8H/+Sn6d/uTf+imq63+/L1X6HNgP+SXrfP8ANHpnxz/5EGD/AK/4/wD0B68Atv8Aj6i/3x/Ovf8A45/8iDB/1/x/+gPXgFt/x9Rf74/nUY/+P9x1cK/8ibEf4pf+kRPsdfuL9K+OLj/j5l/3z/OvsdfuL9K+OLj/AI+Zf98/zrozPaHz/Q83gj/eav8AhX5n0z8Kv+SYaP8A7kn/AKNevGfjD/yU7Uf9yH/0UtezfCr/AJJho/8AuSf+jXrxn4w/8lO1H/ch/wDRS08X/ukPl+Ry8N/8jx/9vGz8Bv8AkcdQ/wCvA/8AoxK7T45/8iDD/wBf8f8A6A9cX8Bv+Rx1D/rwP/oxK7T45/8AIgw/9f8AH/6A9FH/AHJ/MMz/AOSoX+On+UDxjwP/AMj9oX/X/D/6GK+mvFX/ACJ2s/8AXhP/AOi2r5l8D/8AI/aF/wBf8P8A6GK+mvFX/Inaz/14T/8AotqMv/gy/roHG3/Ixj/gX/pUj5Ir6d+FX/JMNH/3JP8A0a9fMVfTvwq/5Jho/wDuSf8Ao16wy3+K/Q9zjj+BR9X+R4z8YP8Akp+o/wC5D/6KWuy/Z/8A9Rrn+9D/ACeuN+MH/JT9R/3If/RS12X7P/8AqNc/3of5PTo/78/VnLj/APkl6Py/Ni/tAf8AHtoX+/P/ACSvMvA//I/aF/1/w/8AoYr039oD/j20L/fn/kleZeB/+R+0L/r/AIf/AEMVGK/3v5r9Dpyf/kmq/pU/9JPoD4q/8kw1j/cj/wDRqV8zW/8Ax8xf74/nX0z8Vf8AkmGsf7kf/o1K+Zrf/j5i/wB8fzq8x/jR9P1ObhT/AJF2K/r7LPsivje5/wCPqX/fP86+yK+N7n/j6l/3z/Otcz2j8zn4I/3qr/h/U9/+Bn/Igz/9f8n/AKAlcb8ef+Rw0/8A68B/6Meuy+Bn/Igz/wDX/J/6Alcb8ef+Rw0//rwH/ox6db/cV8jly3/kqH/jqf8At5i/B/8A5Kfp3+5N/wCimr0z45/8iDB/1/x/+gPXmfwf/wCSn6d/uTf+imr0z45/8iDB/wBf8f8A6A9Rh/8Ac5/P9Dpzn/kpaP8Aip/mjwC3/wCPmL/fH86+yK+N7f8A4+Yv98fzr7Iqss2l8h8b/wC80v8AC/zCiiivYPgQooooAKKKKACiiigAooooAK43w7/yLOmf9ekX/oIrsq43w7/yLOmf9ekX/oIr8+44/gUfV/kjpw3xs1PDH+v1r/r/AB/6Tw1vVg+GP9frX/X+P/SeGt6vrcn/AORdQ/wR/JGEvifq/wAwooor1CQooooAKKKKACiiigAooooAKKKKACiiigAooooAKKKKACiiigAooooAKKKKACiiigAooooAKKKKACvHv2gP+PXQv9+f+SV7DXj37QH/AB66F/vz/wAkrkxv+7y/rqe1kP8AyNKH+JHFfCD/AJKbp3+7L/6LavZ/ir/yTDWP9yP/ANGpXjHwg/5Kbp3+7L/6LavZ/ir/AMkw1j/cj/8ARqVx4T/dJ/P8j2uJf+R4v+3T5ir628Kf8ibo3/XjD/6AK+Sa+tvCn/Im6N/14w/+gCs8s+KR6nHW+H/7f/8AbT5m8cf8j9rv/X/N/wChmvZvgX/yIc//AF/P/wCgpXjPjj/kftd/6/5v/QzXs3wL/wCRDn/6/n/9BSpwf+9S+ZOff8k7hP8Atz/02zzP4w/8lO1H/ch/9FLWz8Bv+Rx1D/rwP/oxKxvjD/yU7Uf9yH/0UtbPwG/5HHUP+vA/+jEqIf7782dOJ/5JJekf/S0dp8c/+RBh/wCv+P8A9AevGPA//I/aF/1/w/8AoYr2f45/8iDD/wBf8f8A6A9eMeB/+R+0L/r/AIf/AEMVeM/3qPyObIf+Sexn/b//AKQj6a8U/wDIn6z/ANeE/wD6Lavkg9a+t/FP/In6z/14T/8Aotq+SD1qsz+KI+Bd8R/25/7cfTvwq/5Jho/+5J/6NevGfjD/AMlO1H/ch/8ARS17N8Kv+SYaP/uSf+jXrxn4w/8AJTtR/wByH/0UtaYv/dIfL8jzOG/+R4/+3js/2f8A/j213/fg/k9bXxz/AORBh/6/4/8A0B6xf2f/APj213/fg/k9bXxz/wCRBh/6/wCP/wBAetIf7j8mc2K/5KNf9fY/+lI+f7f/AI+Yv98fzr7Ir43t/wDj5i/3x/Ovsisss2l8j0+N/wDeaX+F/mfG9z/x9S/75/nX0z8Kv+SYaP8A7kn/AKNevma5/wCPqX/fP86+mfhV/wAkw0f/AHJP/Rr1ll38aXp+p0cV/wDIuwv9fZR4z8YP+Sn6j/uQ/wDopa2fgN/yOOof9eB/9GJWN8YP+Sn6j/uQ/wDopa2fgN/yOOof9eB/9GJUQ/335s6cT/ySa9I/+lo2v2gP+PbQv9+f+SVxnwf/AOSn6d/uTf8Aopq7P9oD/j20L/fn/klcZ8H/APkp+nf7k3/opqut/vy9V+hzYD/kl63z/NHs/wAVP+SY6x/uR/8Ao1K+Ya+nvip/yTHWP9yP/wBGpXzDSzL+KvQ6uB/4Fb1X5H1v4V/5E7Rv+vCD/wBFrXzN45/5H7XP+v8Am/8AQzX0z4V/5E7Rv+vCD/0WtfM3jn/kftc/6/5v/QzW+YfwY/10PD4J/wCRhL/A/wA4nsvwM/5EGf8A6/5P/QErjPjz/wAjjp//AF4D/wBGPXZ/Az/kQZ/+v+T/ANASuM+PP/I46f8A9eA/9GPRW/3FfIMs/wCSof8AjqflMxvg/wD8lP07/cm/9FNX0B4p/wCRP1n/AK8J/wD0W1fP/wAH/wDkp+nf7k3/AKKavoDxT/yJ+s/9eE//AKLarwH+7v1f5HNxf/yNJei/I+SD1r638K/8ido3/XhB/wCi1r5IPWvrfwr/AMido3/XhB/6LWsMs+KR7nHO+G/7f/8AbT5l8cf8j9rv/X/N/wChmvTf2f8A/j213/fg/k9eZeOP+R+13/r/AJv/AEM16b+z/wD8e2u/78H8nrLC/wC9/edGcf8AJNUP8NP/ANJD9oD/AI9tC/35/wCSVxnwf/5Kfp3+5N/6Kauz/aA/49tC/wB+f+SVxnwf/wCSn6d/uTf+imq63+/L1X6HNgP+SXrfP80emfHP/kQYP+v+P/0B68Atv+PqL/fH869/+Of/ACIMH/X/AB/+gPXgFt/x9Rf74/nUY/8Aj/cdXCv/ACJsR/il/wCkRPsdfuL9K+OLj/j5l/3z/OvsdfuL9K+OLj/j5l/3z/OujM9ofP8AQ83gj/eav+FfmfTPwq/5Jho/+5J/6NevGfjD/wAlO1H/AHIf/RS17N8Kv+SYaP8A7kn/AKNevGfjD/yU7Uf9yH/0UtPF/wC6Q+X5HLw3/wAjx/8Abxs/Ab/kcdQ/68D/AOjErtPjn/yIMP8A1/x/+gPXF/Ab/kcdQ/68D/6MSu0+Of8AyIMP/X/H/wCgPRR/3J/MMz/5Khf46f5QPGPA/wDyP2hf9f8AD/6GK+mvFX/Inaz/ANeE/wD6LavmXwP/AMj9oX/X/D/6GK+mvFX/ACJ2s/8AXhP/AOi2oy/+DL+ugcbf8jGP+Bf+lSPkivp34Vf8kw0f/ck/9GvXzFX078Kv+SYaP/uSf+jXrDLf4r9D3OOP4FH1f5HjPxg/5KfqP+5D/wCilrsv2f8A/Ua5/vQ/yeuN+MH/ACU/Uf8Ach/9FLXZfs//AOo1z/eh/k9Oj/vz9WcuP/5Jej8vzYv7QH/HtoX+/P8AySvMvA//ACP2hf8AX/D/AOhivTf2gP8Aj20L/fn/AJJXmXgf/kftC/6/4f8A0MVGK/3v5r9Dpyf/AJJqv6VP/ST6A+Kv/JMNY/3I/wD0alfM1v8A8fMX++P519M/FX/kmGsf7kf/AKNSvma3/wCPmL/fH86vMf40fT9Tm4U/5F2K/r7LPsivje5/4+pf98/zr7Ir43uf+PqX/fP861zPaPzOfgj/AHqr/h/U9/8AgZ/yIM//AF/yf+gJXG/Hn/kcNP8A+vAf+jHrsvgZ/wAiDP8A9f8AJ/6Alcb8ef8AkcNP/wCvAf8Aox6db/cV8jly3/kqH/jqf+3mL8H/APkp+nf7k3/opq9M+Of/ACIMH/X/AB/+gPXmfwf/AOSn6d/uTf8Aopq9M+Of/Igwf9f8f/oD1GH/ANzn8/0OnOf+Slo/4qf5o8At/wDj5i/3x/Ovsivje3/4+Yv98fzr7Iqss2l8h8b/AO80v8L/ADCiiivYPgQooooAKKKKACiiigAooooAK43w7/yLOmf9ekX/AKCK7KvPdC17SIfDunxy6rZRyJbRqyNcICpCjIIzXwPGtOc6NFQV9X+SOjDySlqdJ4Y/1+tf9f4/9J4a3q53wjcQXf8AbE1rNHPE1+NskbBlOLeEcEe9dFX1eUJrLqCf8kfyRjLWT9WFFFFemSFFFFABRRRQAUUUUAFFFFABRRRQAUUUUAFFFFABRRRQAUUUUAFFFFABRRRQAUUUUAFFFFABRRRQAVka94W0bxMIBrlkLsW+7ygZHXbuxn7pGegrXopOKkrMcZOLunqc5pXgDwxoepRahpWlrb3UWdkglkOMgg8FiOhNbGqaXZ61psun6nD59rNjzIyxXdggjkEHqBVuikoRSsloVKcpvmk7s5D/AIVV4K/6Acf/AH/l/wDiq6q0tYbGzhtbVNkEEaxxrknaoGAMnk8CpaKUacI/CrDnVqVPjk36nLXnw18JahfT3l5o6S3FxI0krmaQbmJyTw3rWxomgaZ4csWs9FtRawNIZCgdm+YgAn5ifQVo0UKnCLukrhKpOUVFttLoc5q3gDwzrmpS6hqulrcXUuN8hmkGcAAcBgOgFTaH4L8P+G7x7rRNOW1nkjMbMJXbK5BxhiR1Ardoo9nC/NZXD2tRw5OZ27X0M7W9A0zxHYrZ61ai6t1kEgQuy/MAQD8pHYmsez+GvhLT76C8s9HSK4t5FkicTSHawOQeW9a6mih04Sd2lcI1Jxi4xbSfQiurWG9s5rW6TfDPG0ci5I3KwwRkcjg1yv8AwqrwX/0A4/8Av/L/APFV19FEqcJfErhCrUp/BJr0Kml6XZ6LpsWn6ZD5FrDny4wxbbkknkknqTWPq3gDwzrmpS6hqulrcXUuN8hmkGcAAcBgOgFdHRTcItWa0FGcoy5ouzMjQfCujeGRONDshaC42+aBIzbtucfeJ9TU2t6BpniOxWz1q1F1brIJAhdl+YAgH5SOxNaNFHJHl5baC55OXNfXuciPhX4LBBGiICOhE8v/AMVXXUUUowjD4VYc6k6jvNt+pyJ+FfgtiSdEQk9SZ5f/AIquj0vS7PRdNi0/TIfItYc+XGGLbckk8kk9Sat0URpwi7xSQ5VJzSUm3Y5zVvAHhjXNSl1DVdLW4upcb5DLIM4AA4DAdAKm0PwX4f8ADd491omnLazyRmNmErtlcg4wxI6gVu0Uezhfmsrh7Wo4cnM7dr6GRr3hXRvEwgGuWQuxb7vKBkZdu7GfukegqnpPgDwxoepRahpWlrb3UWdkglkOMgg8FiOhNdHRQ6cG+ZpXBVJqPIm7duhU1TS7PWtNl0/U4fPtZseZHuK7sEEcgg9QK5v/AIVV4K/6Acf/AH/l/wDiq6+iiVOEneSTCFWpT+CTXoyK1tYbKzhtbVNkEEaxxrknaqjAGTz0Fc3efDbwlqF9PeXmjrLcXEjSSuZpBuYnJPDetdTRTlCMlaSuKE5U3eDt6GdomgaZ4csWs9FtRa27SGQoHZvmIAJ+YnsBVPXPBfh/xJeJda3py3U8cYjVjK64XJOMKQOpNbtFDhFrla0BTkpc6evfqc5pPgDwxoepRahpWlrb3UWdkglkOMgg8FiOhNb11aw3tnNa3Sb4Z42jkXJG5WGCMjkcGpaKIwjFWSsKc5Td5O7OQ/4VV4L/AOgHH/3/AJf/AIquqtbWGys4bW1TZBBGsca5J2qowBk89BUtFKNOEfhVip1J1Pjk36nLXnw18JahfT3l5o6S3FxI0krmaQbmJyTw3rWloPhXRvDInGh2QtBcbfNAkZt23OPvE+prXooVOCd0lcHVqSjyOTt2uZGveFdG8TCAa5ZC7Fvu8oGRl27sZ+6R6Cqek+APDGh6lFqGlaWtvdRZ2SCWQ4yCDwWI6E10dFDpwb5mlcFUmo8ibt26GdregaZ4jsVs9atRdW6yCQIXZfmAIB+UjsTWEPhX4LBBGiICOhE8v/xVddRRKnCTvJJhGrUguWMml6hXIn4V+CySToiEnqTPL/8AFV11FEoRl8SuKFSdN3g2vQqaXpdnoumxafpkPkWsOfLjDFtuSSeSSepNY+reAPDOualLqGq6WtxdS43yGaQZwABwGA6AV0dFNwi1ZrQIzlGXNF2ZhaH4L8P+G7x7rRNOW1nkjMbMJXbK5BxhiR1Aq5regaZ4jsVs9atRdW6yCQIXZfmAIB+UjsTWjRQoRS5UtAc5OXO3r3OWs/hr4S0++gvLPR0iuLeRZInE0h2sDkHlvWukurWG9s5rW6TfBPG0ci5I3KwwRkc9DUtFEYRirRVgnOVR3m7+pyH/AAqrwV/0A4/+/wDL/wDFV0ml6XZ6LpsWn6ZD5FrDny4wxbbkknkknqTVuilGnCLvFJDnVqVPjk36s5zVvAHhjXNSl1DVdLW4upcb5DLIM4AA4DAdAKuaD4V0XwyJxodkLQXG3zcSM27bnH3icdTWvRQqcE+ZJXB1JuPI27duhka94V0bxMIBrlkLsW+7ygZGXbuxn7pHoKzbP4a+EtPvoLyz0dIri3kWSJxNIdrA5B5b1rqaKHTg3dpXBVakY8ik7drlTVNLs9a02XT9Th8+1mx5kZYruwQRyCD1ArnB8K/BYII0RAR0Inl/+KrrqKJU4Sd5JMI1JwTUW1cK5E/CvwWxJOiISepM8v8A8VXXUUShGfxK4oVJ03eDa9DO0TQNM8OWLWei2otbdpDIUDs3zEAE/MT2Aqnrngvw/wCJLxLrW9OW6mjjEasZXXC5JxhSB1Jrdop8kWuVrQFOSlzp69znNJ8AeGND1KLUNK0tbe6izskEshxkEHgsR0JrS1vQNM8R2K2etWourdZBIELsvzAEA/KR2JrRopKEEuVLQHUnKXM279zkR8K/BYII0RAR0Inl/wDiq66iiiMIw+FWCdSdR3m2/UKKKKsgKKKKACiiigAooooAKKKKACiiigAooooAKKKKACiiigAooooAKKKKACiiigAooooAKKKKACiiigAooooAKKKKACiiigAooooAKKKKACiiigAooooAK5nxN8P9B8Y3sU3iWK5voYYtiWbXTpADknfsUjLc4yc9BXTV5V8XPEWv/brXwvpOja//AGXexb9T1bStPe5dYiSDDFgYDtjkk/KCMA5oAX4GmVLLxPa2d1Pc+H7TWZYNIeaQuBEvUIx6oDjH4+9avxJ07wFJNaXvxIv2S1MbRW9pPdSJAzDksEQjc+CBk56DFaPgHWNNutM/sjRPDOtaBZadEqxR6lpzWysCT90t945BJPXnJ60/xJ4zuvDmrfZp/CWuanYSRBkvNKtxdDcSQUaMEMuMDnkHNAHN/AuOVfDery2k08nh6XU5W0NLiUu6W3GOpJUZ6A89Setd94g1yy8NeHr3WdUfZa2URlkI6nHRR6knAA9SK4T4VaJqcHiLxZ4hudIm8P6ZrVzE9jpM2FZNiEPKyAkIznkj+YANb3xB8GX3jSx0230/XBpJsb1Lw77MXKTMn3AyFlBAPODkcDigDzrwVpuqW3x8s9W8RM41bW9AmvbmBjxbAzKI4R/uIqg++a9zrxb/AIRDx/H8btMu7rxQ10qaSwfVF0JUhCecCbcgOVDN13ZyPSvaaACiiigAooooAKKKKACiiigAooooAKKKKACiiigAooooAKKKKACiiigAooooAKKKKACiiigAooooAKKKKACiiigAooooAKKKKACiiigAooooAKKKKACiiigAooooAKKKKACiiigAooooAKKKKACuS8R6N411bU5P7B8V22gWKRjyhHpy3MskncuZDgL7KM+9dbXmvxE+IC2+qr4J8Pala2WtXiZur+5mWOPTIDjMhLEbpCD8qDnkE4HUAzNK+LGrQfAzW/FWtW1vNqmjXMliTECIp5A6Ir46hcyDPToelT+INT8b/D7StP8AEuueJYNZsftMMWqWJsY4UhSRgpeF1+b5SR94nPXitzT9D8B2nwrn8OpfWN14ct4PLvJvtSEZJyXd1PysW+bPGDjGMV5r450LQ9S0rTvB3h3xpq/iW91O6hhgsm1RLiK0gVwzyuIwMqqrgby3qORkAH0JRRRQAUUUUAFFFFABRRRQAUUUUAcx4l+I/hPwheC08QazHbXJTzDCkTzOqf3mWNWKj3OBWtp3iDSNW0Fda07UbefTGjaT7WJAIwq/eJJ6Ywc5xjHNZHijU9W0KR7nw54Mk12eeImaaG4ggOV4VW3kM3HoDXi0j21n+zDqdlp12zXN1rAh1SFIjCbKSSdfMh2HlQAAvvn8KAPYdI+LHgjXtai0rS9fhmvJmKwo0UiLKR2R2UKx+hNdhXl3x3sbbTvgrc3NjCkEmiTWk1gUXHkMsyINvphWIr1GgAooooAKKKKACiiigAooooAKKKKACiiigAooooAKKKKACiiigAooooAKKKKACiiigAooooAKKKKACiiigAooooAKKKKACiiigAooooAKKKKACiiigAooooAKKKKACiiigAooooAKKKKACiiigAooooAKKKKACiiigAooooAKKKKACiiigAooooAKKKKACiiigAooooAKKKKACiiigAooooAKKKKACiiigAooooAKKKKACiiigAooooAKxNR8F+FtYvnvdW8NaRfXcmA89zYRSSNgYGWZSTgACtuigDMsPDOg6VZT2el6Jp1la3P+vgt7SONJeMfMoAB49aXSvDmh6C0h0PRtP00y/wCsNnapDv8ArtAzWlRQAUUUUAFFFFABRRRQAUUUUAFFFFAHHa5b/EaHXLmbwve+HbnTZ9pit9VimR7YhQDho87wSC3OD82M4FYdr8IBcfDzxDoniDVBdap4iuWvbu/ih2rHPkMmxM/dUqOMjPPTPHptFAHl8/grx54sh0/SfHuqaIdFs5457g6akpn1AxnKrJvAVASATtz7Yr1CiigAooooAKKKKACiiigAooooAKKKKACiiigAooooAKKKKACiiigAooooAKKKKACiiigAooooAKKKKACiiigAooooAKKKKACiiigAooooAKKKKACiiigAooooAKKKKACiiigAooooAKKKKACiiigAooooAKKKKACiiigAooooAKKKKACiiigAooooAKKKKACiiigAooooAKKKKACiiigAooooAKKKKACiiigAooooAKKKKACiiigAooooAKKKKAKdtq1ld6le6fBOrXViyieLoy7lDKfoQev1q5Xzv8QNdv8Aw58adR1HSpjFPF5P+648mPKsO4PpXsngrxrYeM9IFxakRXcQAubYnLRn1Hqp7H+tSqkJScY7rf8ArsejiMur4fD08TJXhNaP9H5/n99ukoooqjzgooooAKKKKACiikZgqlmIAAySe1AC0VD9ttf+fmH/AL+Cj7ba/wDPzD/38FOzAmoqH7ba/wDPzD/38FH221/5+Yf+/goswJqKh+22v/PzD/38FH221/5+Yf8Av4KLMCaiofttr/z8w/8AfwUfbbX/AJ+Yf+/goswKGl+IbPVNRvrCM+Xd2MrJJE3VlB4dfUc/gePQnVrx6/kdPFGo3dlOYp4r52hnjOdp4/MHoR0Ir0Pwx4ni163aKdVg1CFczQA8MP76eqn8weD2JuUV0Ii31N6iiisywooooAKKKKACiiigAooooAKKKKACiiigAooooAKKKKACiiigAooooAKKKKACiiigDI8XO0fgnXHjYo66dcFWU4IPltyDXyv/AGzqn/QSu/8Av+3+NfU3jH/kRde/7Btx/wCimr5MrzcxqTpxhyNrfb5H3/BeGoV3iPbQUrclrpP+buXf7Z1T/oJXf/f9v8aP7Z1T/oJXf/f9v8apUV4/1mv/ADv72fof9m4H/nzD/wABX+Rd/tnVP+gld/8Af9v8aP7Z1T/oJXf/AH/b/GqVFH1mv/O/vYf2bgf+fMP/AAFf5F3+2dU/6CV3/wB/2/xo/tnVP+gld/8Af9v8apUUfWa/87+9h/ZuB/58w/8AAV/kXf7Z1T/oJXf/AH/b/Gj+2dU/6CV3/wB/2/xqlRR9Zr/zv72H9m4H/nzD/wABX+Rd/tnVP+gld/8Af9v8aP7Z1T/oJXf/AH/b/GqVFH1mv/O/vYf2bgf+fMP/AAFf5F3+2dU/6CV3/wB/2/xo/tnVP+gld/8Af9v8apUUfWa/87+9h/ZuB/58w/8AAV/kXf7Z1T/oJXf/AH/b/Gj+2dU/6CV3/wB/2/xqlRR9Zr/zv72H9m4H/nzD/wABX+Rd/tnVP+gld/8Af9v8aP7Z1T/oJXf/AH/b/GqVFH1mv/O/vYf2bgf+fMP/AAFf5F3+2dU/6CV3/wB/2/xo/tnVP+gld/8Af9v8apUUfWa/87+9h/ZuB/58w/8AAV/kXf7Z1T/oJXf/AH/b/Go5td1SK3kkGoXjFFLbRO3OB061Wpk0qQQvLK21EUsxx0AprEV7/G/vZE8twKi37KC8+WOn4FXTtc8TXtvDer4hmZXOWg3HaozyM5zmtC68VXVkyrcavdq7DIQSuzEeuBk1y2pGxtVF7otyiXTuuIoXys2T0K1L+/TxLe/6ZFaNIkZj82PdvXHIGSOhrulUqzfM5tLXun07eu58tSpYXDRVGNGMp3inLSUdVJ3XM1Zvl+G6SurX0v1EPiS8ntvtEWr3LRYJL/aGwMdc88VUTxuZM7dcujggf62QZyccevPpXPXdqY/D2qNBdpdPJIGcxLtCnK7hwT261Lq95p8+nWyW8kTt5kZiVMEoNw/LjipjKo38cnd23em39dDarKjCDbo0ouMeazinzNuSsrO3S/2t0vM6f/hI777Z9l/tW787y/M2ec/3c4znp1pU8RX8lxLAmqXZkhCl185+M9O/tXPTzR23i5JLh1jSSyKKznAJ35xn6VBHOL24117F95aFFRl7naw4/Gs+as1fnlsur72OqX1KM+T2MG+eStyq9lBy+/ReWpvjxnIZhGNbuSS20N5z7SfTd0/WpbnxVc2bhLnWLqMlS43Tv0Bx/WuThj+0+Ho4pNWtYrcxBWQwjKH0+91zV+eFT4ksFkAkKW7YLDuMc1cpzUrc8uvV9Pkc9LkqUlL6vT15LPljb3nZ6KTenR6X7G7Z+Kbq/VmtNXupNpww85wR+B5qE+NHFz5B1u58zdt/1z4z6Z6VjsrDxFerAMPJZAjHdskA0mjXlhHodvFJLEjAbXjcjdvzzx1zmk51EuZSk9uvc1jCg5qlKnSi1zXbgrPlaWivpdO71dvM3brxZc2cgjuNXuw5GdqyyMceuBmp4PEF/cwrLBqt1JGwyGW4bB/WuUh89Nc1FRfRWsjOGAli3F1xwQSRwK0dGt1t7WbZdJdCSZnLouFBOMgcmpqVKkY3VR306vr/AF3NMHTo167jLDwUbyXwxuuV27tu/X3VY0rvU/EM0gFrrlzbRgctvZ2J/E4xUGjeJdcuPtUN5qdy8ltKY/MWZgH98ZqlquqizK20DJ9rmHyb2AVB/eY+n86k0qG1trXybadJ3zvlcMCWY9ScUfWK6pe9J+Q1l+XzzBKlCOl+ba2q0SW1+rstOu5uf2zqn/QSu/8Av+3+NH9s6p/0Erv/AL/t/jVKiub6zX/nf3s9r+zcD/z5h/4Cv8i7/bOqf9BK7/7/ALf40f2zqn/QSu/+/wC3+NUqKPrNf+d/ew/s3A/8+Yf+Ar/Iu/2zqn/QSu/+/wC3+NH9s6p/0Erv/v8At/jVKij6zX/nf3sP7NwP/PmH/gK/yLv9s6p/0Erv/v8At/jR/bOqf9BK7/7/ALf41Soo+s1/5397D+zcD/z5h/4Cv8i7/bOqf9BK7/7/ALf40f2zqn/QSu/+/wC3+NUqKPrNf+d/ew/s3A/8+Yf+Ar/Iu/2zqn/QSu/+/wC3+NH9s6p/0Erv/v8At/jVKij6zX/nf3sP7NwP/PmH/gK/yLv9s6p/0Erv/v8At/jR/bOqf9BK7/7/ALf41Soo+s1/5397D+zcD/z5h/4Cv8i7/bOqf9BK7/7/ALf40f2zqn/QSu/+/wC3+NUqKPrNf+d/ew/s3A/8+Yf+Ar/Iu/2zqn/QSu/+/wC3+NH9s6p/0Erv/v8At/jVKij6zX/nf3sP7NwP/PmH/gK/yLv9s6p/0Erv/v8At/jR/bOqf9BK7/7/ALf41Soo+s1/5397D+zcD/z5h/4Cv8i7/bOqf9BK7/7/ALf40f2zqn/QSu/+/wC3+NUqKPrNf+d/ew/s3A/8+Yf+Ar/Iu/2zqn/QSu/+/wC3+NH9s6p/0Erv/v8At/jVKij6zX/nf3sP7NwP/PmH/gK/yLv9s6p/0Erv/v8At/jR/bOqf9BK7/7/ALf41Soo+s1/5397D+zcD/z5h/4Cv8i7/bOqf9BK7/7/ALf40f2zqn/QSu/+/wC3+NUqKPrNf+d/ew/s3A/8+Yf+Ar/IfNPLcSmW4keWRuruxYn8TV3Qtdv/AA5q8Wo6VMYp4j/wFx3Vh3BrPoqY1akZ+0T1NauDw9Wg8POC5Hpbp/wD6o8FeNbDxnpAuLUiK6iAFzak5aNvUeqnsf610lfMHw20/wAQXvjC3fwzIYJISDPOwJjSM9Q47g/3e/tjI+nlztG4gtjkgYzX09Go6tJVGrX/AK+4/Ds4wFPL8ZLD058yX3ryfmv6tsLRRRWp5IUUUUAFY3jH/kRde/7Btx/6Katmsbxj/wAiLr3/AGDbj/0U1XD4kTLZnlP9nWX/AD52/wD36X/Cs6G60mfxDc6MlgguLaFJnYwrsKsSAAeuePStmuS07/krOs/9g6D+Zpc0u4+VHS/2dZf8+dv/AN+l/wAKZLZWUULyfYoDtUtjy15x+FY3i67toPscN3q19ZrKzYtdOQme6IA4UqCwA5zjHUcisfwlqlxNqniHTGm1GWztoY5LddTVhPHuVtwO4biOOM0c0u4cqOg8NXNl4h8OWeq/2ZBb/aVLeVtVtuCR1wM9PStT+zrL/nzt/wDv0v8AhXmnhjQdRn+GVvqcPiHULaeG2kktIYJBHDHtLEB1x8+SOSfX2q1qHi691Gw8LwF76AanbtcXj6bCXmbao+VMAkAtkkjkCjml3DlR6D/Z1l/z52//AH6X/Csjwze2XiPQ01EaXBbbpJE8var42sVznA64zWP4WvL9PFUtlCmuS6PJamQSavBIGimDY2q7jJBB6H04qz8Mf+RHh/6+Z/8A0a1HNLuHKjR1TxDaaDcixt9MvrycxiYwada79qkkBieAMlT3zxVrw/4itdeto9U0O4lgntpSoZk2yQSDqrKfbqOhFS6zrFpoWlS39++2KMcKPvO3ZVHcn0rG8C6Pd6bpl7eanH5N5qt5JeywD/ljvPCfUf1x2pXd7hZWse4eGPE8WvW7RTqsGoQrmaAHhh/fT1U/mDwexO9XkWj6ffaprkCaO5gntmEj3YHFuvv/AHiwyNvfvxXrtVJLcS7BRRRUFBRRRQAUUUUAFFFFABRRRQAUUUUAFFFFABRRRQAUUUUAFFFFABRRRQAUUUUAZfii2mvPCGsW1rGZZprGeONF6sxjIAH4mvm3/hXHi/8A6AF3/wB8j/Gvqaisa1CnXSU+n6/8MexlmcYrK3N4e3vWvdX2vbqu58s/8K48X/8AQAu/++R/jR/wrjxf/wBAC7/75H+NfU1Fc/8AZ+H7P7z2P9ccz/u/c/8AM+Wf+FceL/8AoAXf/fI/xo/4Vx4v/wCgBd/98j/Gvqaij+z8P2f3h/rjmf8Ad+5/5nyz/wAK48X/APQAu/8Avkf40f8ACuPF/wD0ALv/AL5H+NfU1FH9n4fs/vD/AFxzP+79z/zPln/hXHi//oAXf/fI/wAaP+FceL/+gBd/98j/ABr6moo/s/D9n94f645n/d+5/wCZ8s/8K48X/wDQAu/++R/jR/wrjxf/ANAC7/75H+NfU1FH9n4fs/vD/XHM/wC79z/zPln/AIVx4v8A+gBd/wDfI/xo/wCFceL/APoAXf8A3yP8a+pqKP7Pw/Z/eH+uOZ/3fuf+Z8s/8K48X/8AQAu/++R/jR/wrjxf/wBAC7/75H+NfU1FH9n4fs/vD/XHM/7v3P8AzPln/hXHi/8A6AF3/wB8j/Gj/hXHi/8A6AF3/wB8j/Gvqaij+z8P2f3h/rjmf937n/mfLP8Awrjxf/0ALv8A75H+NH/CuPF//QAu/wDvkf419TUUf2fh+z+8P9ccz/u/c/8AM+Wf+FceL/8AoAXf/fI/xo/4Vv4v/wCgBd/98j/Gvqaij+z8P2f3h/rjmf8Ad+5/5nynH8K/EsMvmReF5Uk/vLEoP506b4X+KLlQtx4anlA6B41bH519VUU/qNG99fvM1xZj1FwUYWfTl/4J8rp8M/FcUYSPw7cog6KqAD8s1RvfhH4rltDHZ+G5IXaRHYiMLnDA9q+tqKccFRi7q/3mdbinHVqbpzjC1rfDtftrofKs3ww8U3Khbjw3PKoOQHjVgPzpU+GXiqNi0fhy4RmABKooyB0/Kvqmil9RoWtr95r/AK3Zjzc3LC/fl/4J8pn4V+JTN5x8LymXrv8AKXd+dSH4Z+KzKJD4duTIowHKDIHpnNfVFFH1Gg+/3guLcwjtGHf4ev3nyuPhn4rExlHh258wjaX2DJHpnNR/8Ks8TGfzj4Ym83/np5S7vzr6soo+o0F3+8HxbmD3jDv8PX7z5Um+F3ie5x9o8MzS46eZGrY/OpE+Gvi2NAsfh66VR0CqAB+tfU9FH1Cha2v3jXF2YqTklC768v8AwT5Sm+FXiS5ffceF5ZWxjc8SscfjToPhb4mtiTbeGZoS3Xy4lXP5V9V0UfUaNra/eR/rXj1PnUYX78uv5nyz/wAK48X/APQAu/8Avkf40f8ACuPF/wD0ALv/AL5H+NfU1FL+z8P2f3mv+uOZ/wB37n/mfLP/AArjxf8A9AC7/wC+R/jR/wAK48X/APQAu/8Avkf419TUUf2fh+z+8P8AXHM/7v3P/M+Wf+FceL/+gBd/98j/ABo/4Vx4v/6AF3/3yP8AGvqaij+z8P2f3h/rjmf937n/AJnyz/wrjxf/ANAC7/75H+NH/CuPF/8A0ALv/vkf419TUUf2fh+z+8P9ccz/ALv3P/M+Wf8AhXHi/wD6AF3/AN8j/Gj/AIVx4v8A+gBd/wDfI/xr6moo/s/D9n94f645n/d+5/5nyz/wrjxf/wBAC7/75H+NH/CuPF//AEALv/vkf419TUUf2fh+z+8P9ccz/u/c/wDM+Wf+FceL/wDoAXf/AHyP8aP+FceL/wDoAXf/AHyP8a+pqKP7Pw/Z/eH+uOZ/3fuf+Z8s/wDCuPF//QAu/wDvkf40f8K48X/9AC7/AO+R/jX1NRR/Z+H7P7w/1xzP+79z/wAz5Z/4Vx4v/wCgBd/98j/Gj/hXHi//AKAF3/3yP8a+pqKP7Pw/Z/eH+uOZ/wB37n/mfLP/AArjxf8A9AC7/wC+R/jR/wAK48X/APQAu/8Avkf419TUUf2fh+z+8P8AXHM/7v3P/M+Wf+FceL/+gBd/98j/ABo/4Vx4v/6AF3/3yP8AGvqaij+z8P2f3h/rjmf937n/AJnyz/wrjxf/ANAC7/75H+NH/CuPF/8A0ALv/vkf419TUUf2fh+z+8P9ccz/ALv3P/M+Wf8AhXHi/wD6AF3/AN8j/Gj/AIVx4v8A+gBd/wDfI/xr6moo/s/D9n94f645n/d+5/5nyz/wrjxf/wBAC7/75H+NH/CuPF//AEALv/vkf419TUUf2fh+z+8P9ccz/u/c/wDM+PNS0280jUJLHUrd7e5ixvifquQCP0INafhPwnqHi/WVsdOXai4aedh8sK+p9/Qd/wAzXaeMPCeo+L/jXqljpybUXyGnnYfJCvkpyff0Hf8AM17L4a8Naf4V0aPTtLj2ovMkjfelbuzH1/lWNPL4xquUvhWy7/8AAPWxvFs1gIQpNe2kvea2j/wfyDw14a0/wro0enaXHtReZJG+9K3dmPr/ACrXoor1D86bbd3uFFFFAgooooAKy/E1rNfeEtXtLWMyTz2M0UaA43M0ZAH5mtSimnZ3E1dWPI/7F13/AKAV7+cf/wAXXL6j8PPGMvie41nRjd6c9xAkLxtZQzZC57mUevpX0JRVcy7Cs+589XPw68YXMun37G9XWLESILsWcOyRH6q0fmdvUGptH+HfiTTtW1PUby31C+n1GJI5C0UKbSuRxh8YwQMe3U5r3+ijmXYLPufNVt8JPF1noa6LbXurppzxlLiH7PASwP3gjF8oDnpz39a2dQ+HGrT2+mf2Xpeo6bdaSuyznjET7VKhSrKXwwIAr3yijmXYLPueHaV4V8ZW1w82rR31/lNqRR28MMa89cbySfx/Cm+GfBGueHNDTThpV7c7ZJJPM2xpncxbGPMPTOK9zoo5l2Cz7nzVr/hLVNa8TRagmrtpz6cTHHZ3FkswikHV/v4zyOe2K6Lwl4e8RX+ozWVzrCaiSEL3AslhW0XnJOGO5m4wvtnpW4dLvNc8Z6vZaeNm28cz3DLlYFOOfdj2X8+K9K0nSbTRdPSzsE2xryzMctIx6sx7k/54qpJRYk20Gk6TaaLp6Wdgm2NeWZjlpGPVmPcn/PFXaKKzbvuWFFFFIAooooAKKKKACiiigAooooAKKKKACiiigAooooAKKKKACiiigAooooAKKKKACiiigAooooAKKKKACiiigAooooAKKKKACiiigAooooAKKKKACiiigAooooAKKKKACiiigAooooAKKKKACiiigAooooAKKKKACiiigAooooAKKKKACiiigAooooAKKKKACiiigAooooAKKKKACiiigAooooAKKKKACiiigAooooAiitoIZppYYkSS4YPK6jBchQoJ9eAB+FS0UUAFFFFABRRRQAUUUUAFFFFABRRRQAUUUUAFFFFABRRRQBFBaw2okFvGsfmSNI+B95j1J9T/APWFS0UUAFFFFABRRRQAUUUUAFFFFABRRRQAUUUUAFFFFABRRRQAUUUUAFFFFABRRRQAUUUUAFFFFABRRRQAUUUUAFFFFABRRRQAUUUUAFFFFABRRRQAUUUUAFFFFABRRRQAUUUUAFFFFABRRRQAUUUUAFFFFABRRRQAUUUUAFFFFABRRRQAUUUUAFFFFABRRRQAUUUUAFFFFABRRRQAUUUUAFFFFABRRRQAUUUUAFFFFABRRRQAUUUUAFFFFABRRRQAUUUUAFFFFABRRRQAUUUUAFFFFABRRRQAUUUUAFFFFABRRRQAUUUUAFFFFABRRRQAUUUUAFFFFABRRRQAUUUUAFFFFAH/2Q==)"
   ]
  },
  {
   "cell_type": "markdown",
   "id": "f6bdeafc",
   "metadata": {
    "papermill": {
     "duration": 0.042451,
     "end_time": "2021-11-27T09:16:20.618101",
     "exception": false,
     "start_time": "2021-11-27T09:16:20.575650",
     "status": "completed"
    },
    "tags": []
   },
   "source": [
    "We create a sliding window which builds sequences and labels.\n",
    "In our case, we have sequences of `WINDOW_SIZE` minutes, that will use to predict the next 15 minutes (from the competition tutorial).\n",
    "\n",
    "**The Time series modeling framework:**\n",
    "\n",
    "* Fill gaps in the training set like it describer in the competition tutorial notebook;\n",
    "* Use `TimeseriesGenerator` like generator class to build the dataset;\n",
    "* Build the model. Simplified  structure:\n",
    "    - Lambda layer needed for assets separation;\n",
    "    - Masking layer. Generated records (filled gaps) has zeros as features values, so they are not used in the computations.\n",
    "    - Our sequence model architecture\n",
    "    - Concatenation layer\n",
    "    - Dense layer\n",
    "\n",
    "Because of the nature of this competition, we will implement the idea of using the parallel sequence model branches. One for for each asset to then use the represenation learned to output a vector of targets for each timestep.\n",
    "\n",
    "\n",
    "![](https://i.ibb.co/GvPMTLJ/lstm.png)\n",
    "\n",
    "\n",
    ">Credit: Intro and Images are edited from: https://www.kaggle.com/omershect/learning-pytorch-lstm-deep-learning-with-m5-data\n",
    "\n",
    "\n"
   ]
  },
  {
   "cell_type": "markdown",
   "id": "0b66f85b",
   "metadata": {
    "papermill": {
     "duration": 0.042325,
     "end_time": "2021-11-27T09:16:20.703414",
     "exception": false,
     "start_time": "2021-11-27T09:16:20.661089",
     "status": "completed"
    },
    "tags": []
   },
   "source": [
    "____\n",
    "**Credits:**\n",
    "The following notebook is heavily based on the following notebooks. If you find it useful, spare some upvotes to the originals. They earned it! \n",
    "- \"[G-Research] Parallel LSTM training\"  by DEVOLNYX - https://www.kaggle.com/vmuzhichenko/g-research-parallel-lstm-training\n",
    "\n",
    "____"
   ]
  },
  {
   "cell_type": "markdown",
   "id": "e83c96bd",
   "metadata": {
    "_cell_guid": "347324aa-490a-4556-bcc4-36379bdbec7c",
    "_uuid": "03824ce3-fc08-4d19-926d-27edbb773466",
    "papermill": {
     "duration": 0.042517,
     "end_time": "2021-11-27T09:16:20.788618",
     "exception": false,
     "start_time": "2021-11-27T09:16:20.746101",
     "status": "completed"
    },
    "tags": []
   },
   "source": [
    "# <span class=\"title-section w3-xxlarge\" id=\"outline\">Libraries 📚</span>\n",
    "<hr>"
   ]
  },
  {
   "cell_type": "markdown",
   "id": "1c8faece",
   "metadata": {
    "_cell_guid": "f5bdcf7b-aa74-4204-9ff2-f20042b819e0",
    "_uuid": "78d84509-539f-4a94-a546-e228b28ea70a",
    "papermill": {
     "duration": 0.044267,
     "end_time": "2021-11-27T09:16:20.875746",
     "exception": false,
     "start_time": "2021-11-27T09:16:20.831479",
     "status": "completed"
    },
    "tags": []
   },
   "source": [
    "#### Code starts here ⬇"
   ]
  },
  {
   "cell_type": "code",
   "execution_count": 4,
   "id": "2eca6060",
   "metadata": {
    "execution": {
     "iopub.execute_input": "2021-11-27T09:16:20.970087Z",
     "iopub.status.busy": "2021-11-27T09:16:20.965761Z",
     "iopub.status.idle": "2021-11-27T09:16:30.201525Z",
     "shell.execute_reply": "2021-11-27T09:16:30.200799Z",
     "shell.execute_reply.started": "2021-11-27T09:09:02.453859Z"
    },
    "papermill": {
     "duration": 9.282094,
     "end_time": "2021-11-27T09:16:30.201677",
     "exception": false,
     "start_time": "2021-11-27T09:16:20.919583",
     "status": "completed"
    },
    "tags": []
   },
   "outputs": [],
   "source": [
    "import os\n",
    "import gc\n",
    "import traceback\n",
    "import numpy as np\n",
    "import pandas as pd\n",
    "import seaborn as sns\n",
    "import gresearch_crypto\n",
    "import tensorflow as tf\n",
    "from tensorflow import keras\n",
    "import matplotlib.pyplot as plt\n",
    "import pandas as pd, numpy as np\n",
    "from tensorflow.keras import layers\n",
    "import tensorflow_probability as tfp\n",
    "import tensorflow.keras.backend as K\n",
    "from sklearn.model_selection import KFold\n",
    "from sklearn.metrics import mean_squared_error\n",
    "from sklearn.preprocessing import RobustScaler\n",
    "from tensorflow.keras.preprocessing.sequence import TimeseriesGenerator\n",
    "pd.set_option('display.max_columns', None)"
   ]
  },
  {
   "cell_type": "markdown",
   "id": "70a764dd",
   "metadata": {
    "papermill": {
     "duration": 0.043225,
     "end_time": "2021-11-27T09:16:30.288764",
     "exception": false,
     "start_time": "2021-11-27T09:16:30.245539",
     "status": "completed"
    },
    "tags": []
   },
   "source": [
    "# <span class=\"title-section w3-xxlarge\" id=\"config\">Configuration 🎚️</span>\n",
    "<hr>\n",
    "\n",
    "In order to be a proper cross validation with a meaningful overall CV score, **you need to choose the same** `INC2021`, `INC2020`, `INC2019`, `INC2018`, `INC2017`, `INCCOMP`, `INCSUPP`, and `DEPTH_NETS`, `WIDTH_NETS` **for each fold**. If your goal is to just run lots of experiments, then you can choose to have a different experiment in each fold. Then each fold is like a holdout validation experiment. When you find a configuration you like, you can use that configuration for all folds.\n",
    "* DEVICE - is GPU or TPU\n",
    "* SEED - a different seed produces a different triple stratified kfold split.\n",
    "* FOLDS - number of folds. Best set to 3, 5, or 15 but can be any number between 2 and 15\n",
    "* LOAD_STRICT - This controls whether to load strict at proposed [here](https://www.kaggle.com/julian3833/proposal-for-a-meaningful-lb-strict-lgbm)\n",
    "* INC2021 - This controls whether to include the extra historical prices during 2021.\n",
    "* INC2020 - This controls whether to include the extra historical prices during 2020.\n",
    "* INC2019 - This controls whether to include the extra historical prices during 2019.\n",
    "* INC2018 - This controls whether to include the extra historical prices during 2018.\n",
    "* INC2017 - This controls whether to include the extra historical prices during 2017.\n",
    "* INCCOMP - This controls whether to include the original data of the competition.\n",
    "* INCSUPP - This controls whether to include the supplemented train data that was released with the competition.\n"
   ]
  },
  {
   "cell_type": "code",
   "execution_count": 5,
   "id": "d763a238",
   "metadata": {
    "execution": {
     "iopub.execute_input": "2021-11-27T09:16:30.383913Z",
     "iopub.status.busy": "2021-11-27T09:16:30.382821Z",
     "iopub.status.idle": "2021-11-27T09:16:30.385245Z",
     "shell.execute_reply": "2021-11-27T09:16:30.385730Z",
     "shell.execute_reply.started": "2021-11-27T09:09:11.416802Z"
    },
    "papermill": {
     "duration": 0.051885,
     "end_time": "2021-11-27T09:16:30.385927",
     "exception": false,
     "start_time": "2021-11-27T09:16:30.334042",
     "status": "completed"
    },
    "tags": []
   },
   "outputs": [],
   "source": [
    "DEVICE = \"TPU\" #or \"GPU\"\n",
    "\n",
    "# USE DIFFERENT SEED FOR DIFFERENT STRATIFIED KFOLD\n",
    "SEED = 42\n",
    "\n",
    "EPOCHS = 1\n",
    "DEBUG = True\n",
    "N_ASSETS = 14\n",
    "WINDOW_SIZE = 15\n",
    "BATCH_SIZE = 1024\n",
    "PCT_VALIDATION = 10 # last 10% of the data are used as validation set"
   ]
  },
  {
   "cell_type": "code",
   "execution_count": 6,
   "id": "1662e4b2",
   "metadata": {
    "_kg_hide-input": true,
    "execution": {
     "iopub.execute_input": "2021-11-27T09:16:30.475587Z",
     "iopub.status.busy": "2021-11-27T09:16:30.474576Z",
     "iopub.status.idle": "2021-11-27T09:16:30.498866Z",
     "shell.execute_reply": "2021-11-27T09:16:30.498222Z",
     "shell.execute_reply.started": "2021-11-27T09:09:11.425323Z"
    },
    "papermill": {
     "duration": 0.070096,
     "end_time": "2021-11-27T09:16:30.499033",
     "exception": false,
     "start_time": "2021-11-27T09:16:30.428937",
     "status": "completed"
    },
    "tags": []
   },
   "outputs": [
    {
     "name": "stdout",
     "output_type": "stream",
     "text": [
      "connecting to TPU...\n",
      "Num GPUs Available:  0\n"
     ]
    }
   ],
   "source": [
    "if DEVICE == \"TPU\":\n",
    "    print(\"connecting to TPU...\")\n",
    "    try:\n",
    "        tpu = tf.distribute.cluster_resolver.TPUClusterResolver()\n",
    "        print('Running on TPU ', tpu.master())\n",
    "    except ValueError:\n",
    "        tpu = None\n",
    "    if tpu:\n",
    "        try:\n",
    "            print(\"initializing  TPU ...\")\n",
    "            tf.config.experimental_connect_to_cluster(tpu)\n",
    "            tf.tpu.experimental.initialize_tpu_system(tpu)\n",
    "            strategy = tf.distribute.experimental.TPUStrategy(tpu)\n",
    "            print(\"TPU initialized\")\n",
    "        except: print(\"failed to initialize TPU\")\n",
    "    else: DEVICE = \"GPU\"\n",
    "\n",
    "if DEVICE != \"TPU\": strategy = tf.distribute.get_strategy()\n",
    "if DEVICE == \"GPU\": print(\"Num GPUs Available: \", len(tf.config.experimental.list_physical_devices('GPU')))\n",
    "AUTO     = tf.data.experimental.AUTOTUNE\n",
    "REPLICAS = strategy.num_replicas_in_sync"
   ]
  },
  {
   "cell_type": "markdown",
   "id": "452492cd",
   "metadata": {
    "papermill": {
     "duration": 0.042758,
     "end_time": "2021-11-27T09:16:30.585694",
     "exception": false,
     "start_time": "2021-11-27T09:16:30.542936",
     "status": "completed"
    },
    "tags": []
   },
   "source": [
    "# <span class=\"title-section w3-xxlarge\" id=\"loading\">Data Loading 🗃️</span>\n",
    "<hr>\n",
    "\n",
    "The data organisation has already been done and saved to Kaggle datasets. Here we choose which years to load. We can use either 2017, 2018, 2019, 2020, 2021, Original, Supplement by changing the `INC2021`, `INC2020`, `INC2019`, `INC2018`, `INC2017`, `INCCOMP`, `INCSUPP` variables in the preceeding code section. These datasets are discussed [here][1].\n",
    "\n",
    "[1]: https://www.kaggle.com/c/g-research-crypto-forecasting/discussion/285726\n"
   ]
  },
  {
   "cell_type": "code",
   "execution_count": 7,
   "id": "fb130b80",
   "metadata": {
    "_kg_hide-input": true,
    "execution": {
     "iopub.execute_input": "2021-11-27T09:16:30.691347Z",
     "iopub.status.busy": "2021-11-27T09:16:30.686054Z",
     "iopub.status.idle": "2021-11-27T09:16:51.848542Z",
     "shell.execute_reply": "2021-11-27T09:16:51.847786Z",
     "shell.execute_reply.started": "2021-11-27T09:09:11.461020Z"
    },
    "papermill": {
     "duration": 21.219861,
     "end_time": "2021-11-27T09:16:51.848706",
     "exception": false,
     "start_time": "2021-11-27T09:16:30.628845",
     "status": "completed"
    },
    "tags": []
   },
   "outputs": [
    {
     "data": {
      "text/html": [
       "<style type='text/css'>\n",
       ".datatable table.frame { margin-bottom: 0; }\n",
       ".datatable table.frame thead { border-bottom: none; }\n",
       ".datatable table.frame tr.coltypes td {  color: #FFFFFF;  line-height: 6px;  padding: 0 0.5em;}\n",
       ".datatable .bool    { background: #DDDD99; }\n",
       ".datatable .object  { background: #565656; }\n",
       ".datatable .int     { background: #5D9E5D; }\n",
       ".datatable .float   { background: #4040CC; }\n",
       ".datatable .str     { background: #CC4040; }\n",
       ".datatable .time    { background: #40CC40; }\n",
       ".datatable .row_index {  background: var(--jp-border-color3);  border-right: 1px solid var(--jp-border-color0);  color: var(--jp-ui-font-color3);  font-size: 9px;}\n",
       ".datatable .frame tbody td { text-align: left; }\n",
       ".datatable .frame tr.coltypes .row_index {  background: var(--jp-border-color0);}\n",
       ".datatable th:nth-child(2) { padding-left: 12px; }\n",
       ".datatable .hellipsis {  color: var(--jp-cell-editor-border-color);}\n",
       ".datatable .vellipsis {  background: var(--jp-layout-color0);  color: var(--jp-cell-editor-border-color);}\n",
       ".datatable .na {  color: var(--jp-cell-editor-border-color);  font-size: 80%;}\n",
       ".datatable .sp {  opacity: 0.25;}\n",
       ".datatable .footer { font-size: 9px; }\n",
       ".datatable .frame_dimensions {  background: var(--jp-border-color3);  border-top: 1px solid var(--jp-border-color0);  color: var(--jp-ui-font-color3);  display: inline-block;  opacity: 0.6;  padding: 1px 10px 1px 5px;}\n",
       "</style>\n"
      ],
      "text/plain": [
       "<IPython.core.display.HTML object>"
      ]
     },
     "metadata": {},
     "output_type": "display_data"
    }
   ],
   "source": [
    "import datatable as dt\n",
    "extra_data_files = {0: '../input/cryptocurrency-extra-data-binance-coin', 2: '../input/cryptocurrency-extra-data-bitcoin-cash', 1: '../input/cryptocurrency-extra-data-bitcoin', 3: '../input/cryptocurrency-extra-data-cardano', 4: '../input/cryptocurrency-extra-data-dogecoin', 5: '../input/cryptocurrency-extra-data-eos-io', 6: '../input/cryptocurrency-extra-data-ethereum', 7: '../input/cryptocurrency-extra-data-ethereum-classic', 8: '../input/cryptocurrency-extra-data-iota', 9: '../input/cryptocurrency-extra-data-litecoin', 11: '../input/cryptocurrency-extra-data-monero', 10: '../input/cryptocurrency-extra-data-maker', 12: '../input/cryptocurrency-extra-data-stellar', 13: '../input/cryptocurrency-extra-data-tron'}\n",
    "\n",
    "# Uncomment to load the original csv [slower]\n",
    "# orig_df_train = pd.read_csv(data_path + 'train.csv') \n",
    "# supp_df_train = pd.read_csv(data_path + 'supplemental_train.csv')\n",
    "# df_asset_details = pd.read_csv(data_path  + 'asset_details.csv').sort_values(\"Asset_ID\")\n",
    "\n",
    "orig_df_train = dt.fread('../input/cryptocurrency-extra-data-binance-coin/orig_train.jay').to_pandas()\n",
    "df_asset_details = dt.fread('../input/cryptocurrency-extra-data-binance-coin/orig_asset_details.jay').to_pandas()\n",
    "supp_df_train = dt.fread('../input/cryptocurrency-extra-data-binance-coin/orig_supplemental_train.jay').to_pandas()\n",
    "assets_details = dt.fread('../input/cryptocurrency-extra-data-binance-coin/orig_asset_details.jay').to_pandas()\n",
    "asset_weight_dict = {assets_details['Asset_ID'].tolist()[idx]: assets_details['Weight'].tolist()[idx] for idx in range(len(assets_details))}\n",
    "asset_name_dict = {assets_details['Asset_ID'].tolist()[idx]: assets_details['Asset_Name'].tolist()[idx] for idx in range(len(assets_details))}\n",
    "\n",
    "def load_training_data_for_asset(asset_id, load_jay = True):\n",
    "    dfs = []\n",
    "    if INCCOMP: dfs.append(orig_df_train[orig_df_train[\"Asset_ID\"] == asset_id].copy())\n",
    "    if INCSUPP: dfs.append(supp_df_train[supp_df_train[\"Asset_ID\"] == asset_id].copy())\n",
    "    \n",
    "    if load_jay:\n",
    "        if INC2017 and os.path.exists(extra_data_files[asset_id] + '/full_data__' + str(asset_id) + '__' + str(2017) + '.csv'): dfs.append(dt.fread(extra_data_files[asset_id] + '/full_data__' + str(asset_id) + '__' + str(2017) + '.jay').to_pandas())\n",
    "        if INC2018 and os.path.exists(extra_data_files[asset_id] + '/full_data__' + str(asset_id) + '__' + str(2018) + '.csv'): dfs.append(dt.fread(extra_data_files[asset_id] + '/full_data__' + str(asset_id) + '__' + str(2018) + '.jay').to_pandas())\n",
    "        if INC2019 and os.path.exists(extra_data_files[asset_id] + '/full_data__' + str(asset_id) + '__' + str(2019) + '.csv'): dfs.append(dt.fread(extra_data_files[asset_id] + '/full_data__' + str(asset_id) + '__' + str(2019) + '.jay').to_pandas())\n",
    "        if INC2020 and os.path.exists(extra_data_files[asset_id] + '/full_data__' + str(asset_id) + '__' + str(2020) + '.csv'): dfs.append(dt.fread(extra_data_files[asset_id] + '/full_data__' + str(asset_id) + '__' + str(2020) + '.jay').to_pandas())\n",
    "        if INC2021 and os.path.exists(extra_data_files[asset_id] + '/full_data__' + str(asset_id) + '__' + str(2021) + '.csv'): dfs.append(dt.fread(extra_data_files[asset_id] + '/full_data__' + str(asset_id) + '__' + str(2021) + '.jay').to_pandas())\n",
    "    else: \n",
    "        if INC2017 and os.path.exists(extra_data_files[asset_id] + '/full_data__' + str(asset_id) + '__' + str(2017) + '.csv'): dfs.append(pd.read_csv(extra_data_files[asset_id] + '/full_data__' + str(asset_id) + '__' + str(2017) + '.csv'))\n",
    "        if INC2018 and os.path.exists(extra_data_files[asset_id] + '/full_data__' + str(asset_id) + '__' + str(2018) + '.csv'): dfs.append(pd.read_csv(extra_data_files[asset_id] + '/full_data__' + str(asset_id) + '__' + str(2018) + '.csv'))\n",
    "        if INC2019 and os.path.exists(extra_data_files[asset_id] + '/full_data__' + str(asset_id) + '__' + str(2019) + '.csv'): dfs.append(pd.read_csv(extra_data_files[asset_id] + '/full_data__' + str(asset_id) + '__' + str(2019) + '.csv'))\n",
    "        if INC2020 and os.path.exists(extra_data_files[asset_id] + '/full_data__' + str(asset_id) + '__' + str(2020) + '.csv'): dfs.append(pd.read_csv(extra_data_files[asset_id] + '/full_data__' + str(asset_id) + '__' + str(2020) + '.csv'))\n",
    "        if INC2021 and os.path.exists(extra_data_files[asset_id] + '/full_data__' + str(asset_id) + '__' + str(2021) + '.csv'): dfs.append(pd.read_csv(extra_data_files[asset_id] + '/full_data__' + str(asset_id) + '__' + str(2021) + '.csv'))\n",
    "    df = pd.concat(dfs, axis = 0) if len(dfs) > 1 else dfs[0]\n",
    "    df['date'] = pd.to_datetime(df['timestamp'], unit = 's')\n",
    "    if LOAD_STRICT: df = df.loc[df['date'] < \"2021-06-13 00:00:00\"]    \n",
    "    df = df.sort_values('date')\n",
    "    return df\n",
    "\n",
    "def load_data_for_all_assets():\n",
    "    dfs = []\n",
    "    for asset_id in list(extra_data_files.keys()): dfs.append(load_training_data_for_asset(asset_id))\n",
    "    return pd.concat(dfs)"
   ]
  },
  {
   "cell_type": "code",
   "execution_count": 8,
   "id": "6c7f8ed4",
   "metadata": {
    "execution": {
     "iopub.execute_input": "2021-11-27T09:16:51.947704Z",
     "iopub.status.busy": "2021-11-27T09:16:51.946534Z",
     "iopub.status.idle": "2021-11-27T09:17:03.691428Z",
     "shell.execute_reply": "2021-11-27T09:17:03.690642Z",
     "shell.execute_reply.started": "2021-11-27T09:09:38.973657Z"
    },
    "papermill": {
     "duration": 11.797865,
     "end_time": "2021-11-27T09:17:03.691639",
     "exception": false,
     "start_time": "2021-11-27T09:16:51.893774",
     "status": "completed"
    },
    "tags": []
   },
   "outputs": [],
   "source": [
    "# LOAD STRICT? YES=1 NO=0 | see: https://www.kaggle.com/julian3833/proposal-for-a-meaningful-lb-strict-lgbm\n",
    "LOAD_STRICT = True\n",
    "\n",
    "# WHICH YEARS TO INCLUDE? YES=1 NO=0\n",
    "INC2021 = 0\n",
    "INC2020 = 0\n",
    "INC2019 = 0\n",
    "INC2018 = 0\n",
    "INC2017 = 0\n",
    "INCCOMP = 1\n",
    "INCSUPP = 0\n",
    "\n",
    "train = load_data_for_all_assets().sort_values('timestamp').set_index(\"timestamp\")\n",
    "if DEBUG: train = train[10000000:]"
   ]
  },
  {
   "cell_type": "code",
   "execution_count": 9,
   "id": "d25cb51a",
   "metadata": {
    "execution": {
     "iopub.execute_input": "2021-11-27T09:17:03.788368Z",
     "iopub.status.busy": "2021-11-27T09:17:03.787571Z",
     "iopub.status.idle": "2021-11-27T09:17:03.873820Z",
     "shell.execute_reply": "2021-11-27T09:17:03.873168Z",
     "shell.execute_reply.started": "2021-11-27T09:09:50.666585Z"
    },
    "papermill": {
     "duration": 0.137983,
     "end_time": "2021-11-27T09:17:03.873990",
     "exception": false,
     "start_time": "2021-11-27T09:17:03.736007",
     "status": "completed"
    },
    "tags": []
   },
   "outputs": [
    {
     "name": "stdout",
     "output_type": "stream",
     "text": [
      "Loaded all data!\n"
     ]
    }
   ],
   "source": [
    "test = dt.fread('../input/cryptocurrency-extra-data-binance-coin/orig_example_test.jay').to_pandas()\n",
    "sample_prediction_df = dt.fread('../input/cryptocurrency-extra-data-binance-coin/orig_example_sample_submission.jay').to_pandas()\n",
    "assets = dt.fread('../input/cryptocurrency-extra-data-binance-coin/orig_asset_details.jay').to_pandas()\n",
    "assets_order = dt.fread('../input/cryptocurrency-extra-data-binance-coin/orig_supplemental_train.jay').to_pandas().Asset_ID[:N_ASSETS]\n",
    "assets_order = dict((t,i) for i,t in enumerate(assets_order))\n",
    "print(\"Loaded all data!\")"
   ]
  },
  {
   "cell_type": "markdown",
   "id": "a7b61e52",
   "metadata": {
    "papermill": {
     "duration": 0.043924,
     "end_time": "2021-11-27T09:17:03.963696",
     "exception": false,
     "start_time": "2021-11-27T09:17:03.919772",
     "status": "completed"
    },
    "tags": []
   },
   "source": [
    "# <span class=\"title-section w3-xxlarge\" id=\"features\">Feature Engineering 🔬</span>\n",
    "<hr>\n",
    "\n",
    "This notebook uses upper_shadow, lower_shadow, high_div_low, open_sub_close, seasonality/datetime features first shown in this notebook [here][1] and successfully used by julian3833 [here][2].\n",
    "\n",
    "Additionally we can decide to use external data by changing the variables `INC2021`, `INC2020`, `INC2019`, `INC2018`, `INC2017`, `INCCOMP`, `INCSUPP` in the preceeding code section. These variables respectively indicate whether to load last year 2021 data and/or year 2020, 2019, 2018, 2017, the original, supplemented data. These datasets are discussed [here][3]\n",
    "\n",
    "Consider experimenting with different feature engineering and/or external data. The code to extract features out of the dataset is taken from julian3833' notebook [here][2]. Thank you julian3833, this is great work.\n",
    "\n",
    "[1]: https://www.kaggle.com/cstein06/tutorial-to-the-g-research-crypto-competition\n",
    "[2]: https://www.kaggle.com/julian3833\n",
    "[3]: TBD"
   ]
  },
  {
   "cell_type": "code",
   "execution_count": 10,
   "id": "5efa984b",
   "metadata": {
    "_kg_hide-input": true,
    "_kg_hide-output": true,
    "execution": {
     "iopub.execute_input": "2021-11-27T09:17:04.056911Z",
     "iopub.status.busy": "2021-11-27T09:17:04.056149Z",
     "iopub.status.idle": "2021-11-27T09:17:04.070968Z",
     "shell.execute_reply": "2021-11-27T09:17:04.071544Z",
     "shell.execute_reply.started": "2021-11-27T09:09:50.778219Z"
    },
    "jupyter": {
     "source_hidden": true
    },
    "papermill": {
     "duration": 0.063586,
     "end_time": "2021-11-27T09:17:04.071739",
     "exception": false,
     "start_time": "2021-11-27T09:17:04.008153",
     "status": "completed"
    },
    "tags": []
   },
   "outputs": [],
   "source": [
    "# Memory saving function credit to https://www.kaggle.com/gemartin/load-data-reduce-memory-usage\n",
    "def reduce_mem_usage(df):\n",
    "    \"\"\" iterate through all the columns of a dataframe and modify the data type\n",
    "        to reduce memory usage.\n",
    "    \"\"\"\n",
    "    start_mem = df.memory_usage().sum() / 1024**2\n",
    "    print('Memory usage of dataframe is {:.2f} MB'.format(start_mem))\n",
    "\n",
    "    for col in df.columns:\n",
    "        col_type = df[col].dtype.name\n",
    "        \n",
    "        if col_type not in ['object', 'category', 'datetime64[ns, UTC]', 'datetime64[ns]']:\n",
    "            c_min = df[col].min()\n",
    "            c_max = df[col].max()\n",
    "            if str(col_type)[:3] == 'int':\n",
    "                if c_min > np.iinfo(np.int8).min and c_max < np.iinfo(np.int8).max:\n",
    "                    df[col] = df[col].astype(np.int16)\n",
    "                elif c_min > np.iinfo(np.int16).min and c_max < np.iinfo(np.int16).max:\n",
    "                    df[col] = df[col].astype(np.int16)\n",
    "                elif c_min > np.iinfo(np.int32).min and c_max < np.iinfo(np.int32).max:\n",
    "                    df[col] = df[col].astype(np.int32)\n",
    "                elif c_min > np.iinfo(np.int64).min and c_max < np.iinfo(np.int64).max:\n",
    "                    df[col] = df[col].astype(np.int64)  \n",
    "            else:\n",
    "                if c_min > np.finfo(np.float16).min and c_max < np.finfo(np.float16).max:\n",
    "                    df[col] = df[col].astype(np.float16)\n",
    "                elif c_min > np.finfo(np.float32).min and c_max < np.finfo(np.float32).max:\n",
    "                    df[col] = df[col].astype(np.float32)\n",
    "                else:\n",
    "                    df[col] = df[col].astype(np.float64)\n",
    "\n",
    "    end_mem = df.memory_usage().sum() / 1024**2\n",
    "    print('Memory usage after optimization is: {:.2f} MB'.format(end_mem))\n",
    "    print('Decreased by {:.1f}%'.format(100 * (start_mem - end_mem) / start_mem))\n",
    "\n",
    "    return df\n"
   ]
  },
  {
   "cell_type": "code",
   "execution_count": 11,
   "id": "8f4faa44",
   "metadata": {
    "execution": {
     "iopub.execute_input": "2021-11-27T09:17:04.483230Z",
     "iopub.status.busy": "2021-11-27T09:17:04.175567Z",
     "iopub.status.idle": "2021-11-27T09:17:50.454973Z",
     "shell.execute_reply": "2021-11-27T09:17:50.454184Z",
     "shell.execute_reply.started": "2021-11-27T09:09:50.792359Z"
    },
    "papermill": {
     "duration": 46.338905,
     "end_time": "2021-11-27T09:17:50.455136",
     "exception": false,
     "start_time": "2021-11-27T09:17:04.116231",
     "status": "completed"
    },
    "tags": []
   },
   "outputs": [
    {
     "name": "stdout",
     "output_type": "stream",
     "text": [
      "(12221694, 10)\n"
     ]
    }
   ],
   "source": [
    "from scipy.stats import pearsonr\n",
    "from sklearn.model_selection import train_test_split\n",
    "\n",
    "def upper_shadow(df): return df['High'] - np.maximum(df['Close'], df['Open'])\n",
    "def lower_shadow(df): return np.minimum(df['Close'], df['Open']) - df['Low']\n",
    "\n",
    "def get_features(df, row = False):\n",
    "    df_feat = df\n",
    "    df_feat['spread'] = df_feat['High'] - df_feat['Low']\n",
    "    df_feat['mean_trade'] = df_feat['Volume']/df_feat['Count']\n",
    "    df_feat['log_price_change'] = np.log(df_feat['Close']/df_feat['Open'])\n",
    "    df_feat['upper_Shadow'] = upper_shadow(df_feat)\n",
    "    df_feat['lower_Shadow'] = lower_shadow(df_feat)\n",
    "    df_feat[\"high_div_low\"] = df_feat[\"High\"] / df_feat[\"Low\"]\n",
    "    df_feat['trade'] = df_feat['Close'] - df_feat['Open']\n",
    "    df_feat['gtrade'] = df_feat['trade'] / df_feat['Count']\n",
    "    df_feat['shadow1'] = df_feat['trade'] / df_feat['Volume']\n",
    "    df_feat['shadow3'] = df_feat['upper_Shadow'] / df_feat['Volume']\n",
    "    df_feat['shadow5'] = df_feat['lower_Shadow'] / df_feat['Volume']\n",
    "    df_feat['diff1'] = df_feat['Volume'] - df_feat['Count']\n",
    "    df_feat['mean1'] = (df_feat['shadow5'] + df_feat['shadow3']) / 2\n",
    "    df_feat['mean2'] = (df_feat['shadow1'] + df_feat['Volume']) / 2\n",
    "    df_feat['mean3'] = (df_feat['trade'] + df_feat['gtrade']) / 2\n",
    "    df_feat['mean4'] = (df_feat['diff1'] + df_feat['upper_Shadow']) / 2\n",
    "    df_feat['mean5'] = (df_feat['diff1'] + df_feat['lower_Shadow']) / 2\n",
    "    df_feat['UPS'] = (df_feat['High'] - np.maximum(df_feat['Close'], df_feat['Open']))\n",
    "    df_feat['UPS'] = df_feat['UPS']\n",
    "    df_feat['LOS'] = (np.minimum(df_feat['Close'], df_feat['Open']) - df_feat['Low'])\n",
    "    df_feat['LOS'] = df_feat['LOS']\n",
    "    df_feat['RNG'] = ((df_feat['High'] - df_feat['Low']) / df_feat['VWAP'])\n",
    "    df_feat['RNG'] = df_feat['RNG']\n",
    "    df_feat['MOV'] = ((df_feat['Close'] - df_feat['Open']) / df_feat['VWAP'])\n",
    "    df_feat['MOV'] = df_feat['MOV']\n",
    "    df_feat['CLS'] = ((df_feat['Close'] - df_feat['VWAP']) / df_feat['VWAP'])\n",
    "    df_feat['CLS'] = df_feat['CLS']\n",
    "    df_feat['LOGVOL'] = np.log(1. + df_feat['Volume'])\n",
    "    df_feat['LOGVOL'] = df_feat['LOGVOL']\n",
    "    df_feat['LOGCNT'] = np.log(1. + df_feat['Count'])\n",
    "    df_feat['LOGCNT'] = df_feat['LOGCNT']\n",
    "    df_feat[\"Close/Open\"] = df_feat[\"Close\"] / df_feat[\"Open\"]\n",
    "    df_feat[\"Close-Open\"] = df_feat[\"Close\"] - df_feat[\"Open\"]\n",
    "    df_feat[\"High-Low\"] = df_feat[\"High\"] - df_feat[\"Low\"]\n",
    "    df_feat[\"High/Low\"] = df_feat[\"High\"] / df_feat[\"Low\"]\n",
    "    if row: df_feat['Mean'] = df_feat[['Open', 'High', 'Low', 'Close']].mean()\n",
    "    else: df_feat['Mean'] = df_feat[['Open', 'High', 'Low', 'Close']].mean(axis = 1)\n",
    "    df_feat[\"High/Mean\"] = df_feat[\"High\"] / df_feat[\"Mean\"]\n",
    "    df_feat[\"Low/Mean\"] = df_feat[\"Low\"] / df_feat[\"Mean\"]\n",
    "    df_feat[\"Volume/Count\"] = df_feat[\"Volume\"] / (df_feat[\"Count\"] + 1)\n",
    "    mean_price = df_feat[['Open', 'High', 'Low', 'Close']].mean(axis=1)\n",
    "    median_price = df_feat[['Open', 'High', 'Low', 'Close']].median(axis=1)\n",
    "    df_feat['high2mean'] = df_feat['High'] / mean_price\n",
    "    df_feat['low2mean'] = df_feat['Low'] / mean_price\n",
    "    df_feat['high2median'] = df_feat['High'] / median_price\n",
    "    df_feat['low2median'] = df_feat['Low'] / median_price\n",
    "    df_feat['volume2count'] = df_feat['Volume'] / (df_feat['Count'] + 1)\n",
    "    return df_feat\n",
    "\n",
    "train[['Count', 'Open', 'High', 'Low', 'Close', 'Volume', 'VWAP', 'Target']] = train[['Count', 'Open', 'High', 'Low', 'Close', 'Volume', 'VWAP', 'Target']].astype(np.float32)\n",
    "print(train.shape)\n",
    "train['Target'] = train['Target'].fillna(0)\n",
    "VWAP_max = np.max(train[np.isfinite(train.VWAP)].VWAP)\n",
    "VWAP_min = np.min(train[np.isfinite(train.VWAP)].VWAP)\n",
    "train['VWAP'] = np.nan_to_num(train.VWAP, posinf=VWAP_max, neginf=VWAP_min)\n",
    "df = train[['Asset_ID', 'Target']].copy()\n",
    "times = dict((t,i) for i,t in enumerate(df.index.unique()))\n",
    "df['id'] = df.index.map(times)\n",
    "df['id'] = df['id'].astype(str) + '_' + df['Asset_ID'].astype(str)\n",
    "ids = df.id.copy()\n",
    "del df\n",
    "train = get_features(train)\n",
    "train_features = [i for i in train.columns if i not in ['Target', 'date', 'timestamp', 'Asset_ID', 'groups']]"
   ]
  },
  {
   "cell_type": "markdown",
   "id": "3306fe86",
   "metadata": {
    "papermill": {
     "duration": 0.044427,
     "end_time": "2021-11-27T09:17:50.544635",
     "exception": false,
     "start_time": "2021-11-27T09:17:50.500208",
     "status": "completed"
    },
    "tags": []
   },
   "source": [
    "# <span class=\"title-section w3-xxlarge\" id=\"modelconf\">Building a Time Series Model ⚙️</span>\n",
    "<hr> \n",
    "\n",
    "This is a common model architecute. Consider experimenting with different backbones, custom heads, losses, and optimizers."
   ]
  },
  {
   "cell_type": "markdown",
   "id": "e6164b2a",
   "metadata": {
    "papermill": {
     "duration": 0.043793,
     "end_time": "2021-11-27T09:17:50.632792",
     "exception": false,
     "start_time": "2021-11-27T09:17:50.588999",
     "status": "completed"
    },
    "tags": []
   },
   "source": [
    "### Load and prepare the data"
   ]
  },
  {
   "cell_type": "code",
   "execution_count": 12,
   "id": "e4cb4ac3",
   "metadata": {
    "execution": {
     "iopub.execute_input": "2021-11-27T09:17:50.727194Z",
     "iopub.status.busy": "2021-11-27T09:17:50.726160Z",
     "iopub.status.idle": "2021-11-27T09:18:18.434358Z",
     "shell.execute_reply": "2021-11-27T09:18:18.434986Z",
     "shell.execute_reply.started": "2021-11-27T09:10:22.961149Z"
    },
    "papermill": {
     "duration": 27.757852,
     "end_time": "2021-11-27T09:18:18.435186",
     "exception": false,
     "start_time": "2021-11-27T09:17:50.677334",
     "status": "completed"
    },
    "tags": []
   },
   "outputs": [
    {
     "data": {
      "text/plain": [
       "(12962516, 47)"
      ]
     },
     "execution_count": 12,
     "metadata": {},
     "output_type": "execute_result"
    }
   ],
   "source": [
    "train = train.sort_index()\n",
    "ind = train.index.unique()\n",
    "def reindex(df):\n",
    "    df = df.reindex(range(ind[0],ind[-1]+60,60),method='nearest')\n",
    "    df = df.fillna(method=\"ffill\").fillna(method=\"bfill\")\n",
    "    return df\n",
    "train = train.groupby('Asset_ID').apply(reindex).reset_index(0, drop=True).sort_index()\n",
    "gc.collect()\n",
    "train.shape"
   ]
  },
  {
   "cell_type": "code",
   "execution_count": 13,
   "id": "aa28aa5a",
   "metadata": {
    "execution": {
     "iopub.execute_input": "2021-11-27T09:18:18.555196Z",
     "iopub.status.busy": "2021-11-27T09:18:18.554461Z",
     "iopub.status.idle": "2021-11-27T09:19:13.337951Z",
     "shell.execute_reply": "2021-11-27T09:19:13.337286Z",
     "shell.execute_reply.started": "2021-11-27T09:10:50.851547Z"
    },
    "papermill": {
     "duration": 54.855035,
     "end_time": "2021-11-27T09:19:13.338137",
     "exception": false,
     "start_time": "2021-11-27T09:18:18.483102",
     "status": "completed"
    },
    "tags": []
   },
   "outputs": [],
   "source": [
    "# Matching records and marking generated rows as 'non-real'\n",
    "train['group_num'] = train.index.map(times)\n",
    "train = train.dropna(subset=['group_num'])\n",
    "train['group_num'] = train['group_num'].astype('int')\n",
    "train['id'] = train['group_num'].astype(str) + '_' + train['Asset_ID'].astype(str)\n",
    "train['is_real'] = train.id.isin(ids) * 1\n",
    "train = train.drop('id', axis=1)"
   ]
  },
  {
   "cell_type": "code",
   "execution_count": 14,
   "id": "a097bac5",
   "metadata": {
    "execution": {
     "iopub.execute_input": "2021-11-27T09:19:13.437091Z",
     "iopub.status.busy": "2021-11-27T09:19:13.435954Z",
     "iopub.status.idle": "2021-11-27T09:20:29.352826Z",
     "shell.execute_reply": "2021-11-27T09:20:29.352091Z",
     "shell.execute_reply.started": "2021-11-27T09:11:28.491359Z"
    },
    "papermill": {
     "duration": 75.968945,
     "end_time": "2021-11-27T09:20:29.353004",
     "exception": false,
     "start_time": "2021-11-27T09:19:13.384059",
     "status": "completed"
    },
    "tags": []
   },
   "outputs": [],
   "source": [
    "# Features values for 'non-real' rows are set to zeros\n",
    "features = train.columns.drop(['Asset_ID','group_num','is_real'])\n",
    "train.loc[train.is_real == 0, features] = 0."
   ]
  },
  {
   "cell_type": "code",
   "execution_count": 15,
   "id": "bf494d71",
   "metadata": {
    "execution": {
     "iopub.execute_input": "2021-11-27T09:20:29.455229Z",
     "iopub.status.busy": "2021-11-27T09:20:29.454448Z",
     "iopub.status.idle": "2021-11-27T09:21:03.064967Z",
     "shell.execute_reply": "2021-11-27T09:21:03.064360Z",
     "shell.execute_reply.started": "2021-11-27T09:12:16.548168Z"
    },
    "papermill": {
     "duration": 33.662921,
     "end_time": "2021-11-27T09:21:03.065122",
     "exception": false,
     "start_time": "2021-11-27T09:20:29.402201",
     "status": "completed"
    },
    "tags": []
   },
   "outputs": [
    {
     "name": "stdout",
     "output_type": "stream",
     "text": [
      "Memory usage of dataframe is 2916.95 MB\n",
      "Memory usage after optimization is: 1903.43 MB\n",
      "Decreased by 34.7%\n"
     ]
    },
    {
     "data": {
      "text/plain": [
       "0"
      ]
     },
     "execution_count": 15,
     "metadata": {},
     "output_type": "execute_result"
    }
   ],
   "source": [
    "train['asset_order'] = train.Asset_ID.map(assets_order)\n",
    "train = train.sort_values(by=['group_num', 'asset_order'])\n",
    "train = reduce_mem_usage(train)\n",
    "train.head(20)\n",
    "gc.collect()"
   ]
  },
  {
   "cell_type": "code",
   "execution_count": 16,
   "id": "69e70939",
   "metadata": {
    "execution": {
     "iopub.execute_input": "2021-11-27T09:21:03.165685Z",
     "iopub.status.busy": "2021-11-27T09:21:03.164952Z",
     "iopub.status.idle": "2021-11-27T09:21:10.365923Z",
     "shell.execute_reply": "2021-11-27T09:21:10.365241Z",
     "shell.execute_reply.started": "2021-11-27T09:12:49.406503Z"
    },
    "papermill": {
     "duration": 7.254585,
     "end_time": "2021-11-27T09:21:10.366069",
     "exception": false,
     "start_time": "2021-11-27T09:21:03.111484",
     "status": "completed"
    },
    "tags": []
   },
   "outputs": [],
   "source": [
    "targets = train['Target'].to_numpy().reshape(-1, N_ASSETS)\n",
    "features = train.columns.drop(['Asset_ID', 'Target', 'group_num', 'is_real', 'date'])\n",
    "train = train[features]\n",
    "train = train.values\n",
    "train = train.reshape(-1, N_ASSETS, train.shape[-1])"
   ]
  },
  {
   "attachments": {
    "364826a2-fe7e-4ac8-89cb-5d1217ae2d02.JPG": {
     "image/jpeg": "[encoded data removed]"
    }
   },
   "cell_type": "markdown",
   "id": "48a77128",
   "metadata": {
    "papermill": {
     "duration": 0.045773,
     "end_time": "2021-11-27T09:21:10.457831",
     "exception": false,
     "start_time": "2021-11-27T09:21:10.412058",
     "status": "completed"
    },
    "tags": []
   },
   "source": [
    "### Dataset creation\n",
    "Samples with a duration of WINDOW_SIZE records (minutes) will be formed from the `train` array. Each sample has a target vector corresponding to the final index if WINDOW_SIZE record.\n",
    "![data.JPG](attachment:364826a2-fe7e-4ac8-89cb-5d1217ae2d02.JPG)"
   ]
  },
  {
   "cell_type": "code",
   "execution_count": 17,
   "id": "1ac46409",
   "metadata": {
    "execution": {
     "iopub.execute_input": "2021-11-27T09:21:10.558424Z",
     "iopub.status.busy": "2021-11-27T09:21:10.557702Z",
     "iopub.status.idle": "2021-11-27T09:21:10.560978Z",
     "shell.execute_reply": "2021-11-27T09:21:10.560343Z",
     "shell.execute_reply.started": "2021-11-27T09:12:56.029358Z"
    },
    "papermill": {
     "duration": 0.057583,
     "end_time": "2021-11-27T09:21:10.561130",
     "exception": false,
     "start_time": "2021-11-27T09:21:10.503547",
     "status": "completed"
    },
    "tags": []
   },
   "outputs": [],
   "source": [
    "class sample_generator(keras.utils.Sequence):\n",
    "    def __init__(self, x_set, y_set, batch_size, length):\n",
    "        self.x, self.y = x_set, y_set\n",
    "        self.batch_size = batch_size\n",
    "        self.length = length\n",
    "        self.size = len(x_set)\n",
    "    def __len__(self): return int(np.ceil(len(self.x) / float(self.batch_size)))\n",
    "    def __getitem__(self, idx):\n",
    "        batch_x=[]\n",
    "        batch_y=[]\n",
    "        for i in range(self.batch_size):\n",
    "            start_ind = self.batch_size*idx + i\n",
    "            end_ind = start_ind + self.length \n",
    "            if end_ind <= self.size:\n",
    "                batch_x.append(self.x[start_ind : end_ind])\n",
    "                batch_y.append(self.y[end_ind -1])\n",
    "        return np.array(batch_x), np.array(batch_y)"
   ]
  },
  {
   "cell_type": "code",
   "execution_count": 18,
   "id": "64dd13db",
   "metadata": {
    "execution": {
     "iopub.execute_input": "2021-11-27T09:21:10.659370Z",
     "iopub.status.busy": "2021-11-27T09:21:10.658696Z",
     "iopub.status.idle": "2021-11-27T09:21:10.660986Z",
     "shell.execute_reply": "2021-11-27T09:21:10.660344Z",
     "shell.execute_reply.started": "2021-11-27T09:12:56.037344Z"
    },
    "papermill": {
     "duration": 0.054013,
     "end_time": "2021-11-27T09:21:10.661126",
     "exception": false,
     "start_time": "2021-11-27T09:21:10.607113",
     "status": "completed"
    },
    "tags": []
   },
   "outputs": [],
   "source": [
    "X_train, X_test = train[:-len(train)//PCT_VALIDATION], train[-len(train)//PCT_VALIDATION:]\n",
    "y_train, y_test = targets[:-len(train)//PCT_VALIDATION], targets[-len(train)//PCT_VALIDATION:]"
   ]
  },
  {
   "cell_type": "code",
   "execution_count": 19,
   "id": "f50ff9a1",
   "metadata": {
    "execution": {
     "iopub.execute_input": "2021-11-27T09:21:10.759938Z",
     "iopub.status.busy": "2021-11-27T09:21:10.759214Z",
     "iopub.status.idle": "2021-11-27T09:21:10.792778Z",
     "shell.execute_reply": "2021-11-27T09:21:10.792178Z",
     "shell.execute_reply.started": "2021-11-27T09:12:56.051197Z"
    },
    "papermill": {
     "duration": 0.086032,
     "end_time": "2021-11-27T09:21:10.792929",
     "exception": false,
     "start_time": "2021-11-27T09:21:10.706897",
     "status": "completed"
    },
    "tags": []
   },
   "outputs": [
    {
     "name": "stdout",
     "output_type": "stream",
     "text": [
      "Sample shape: (1024, 15, 14, 45)\n",
      "Target shape: (1024, 14)\n"
     ]
    }
   ],
   "source": [
    "train_generator = sample_generator(X_train, y_train, length = WINDOW_SIZE, batch_size = BATCH_SIZE)\n",
    "val_generator = sample_generator(X_test, y_test, length = WINDOW_SIZE, batch_size = BATCH_SIZE)\n",
    "print(f'Sample shape: {train_generator[0][0].shape}')\n",
    "print(f'Target shape: {train_generator[0][1].shape}')"
   ]
  },
  {
   "cell_type": "markdown",
   "id": "b77d4171",
   "metadata": {
    "papermill": {
     "duration": 0.04677,
     "end_time": "2021-11-27T09:21:10.887087",
     "exception": false,
     "start_time": "2021-11-27T09:21:10.840317",
     "status": "completed"
    },
    "tags": []
   },
   "source": [
    "# <span class=\"title-section w3-xxlarge\" id=\"training\">Training 🏋️</span>\n",
    "<hr>\n",
    "\n",
    "Our model will be trained for the number of FOLDS and EPOCHS you chose in the configuration above. Each fold the model with lowest validation loss will be saved and used to predict OOF and test. Adjust the variable `VERBOSE`. The variable `VERBOSE=1 or 2` will display the training and validation loss for each epoch as text. "
   ]
  },
  {
   "cell_type": "code",
   "execution_count": 20,
   "id": "31c20d8a",
   "metadata": {
    "_kg_hide-input": true,
    "_kg_hide-output": true,
    "execution": {
     "iopub.execute_input": "2021-11-27T09:21:10.991403Z",
     "iopub.status.busy": "2021-11-27T09:21:10.984868Z",
     "iopub.status.idle": "2021-11-27T09:21:11.074291Z",
     "shell.execute_reply": "2021-11-27T09:21:11.074831Z",
     "shell.execute_reply.started": "2021-11-27T09:12:56.099522Z"
    },
    "jupyter": {
     "source_hidden": true
    },
    "papermill": {
     "duration": 0.140809,
     "end_time": "2021-11-27T09:21:11.075031",
     "exception": false,
     "start_time": "2021-11-27T09:21:10.934222",
     "status": "completed"
    },
    "tags": []
   },
   "outputs": [],
   "source": [
    "import math\n",
    "import tensorflow as tf\n",
    "from keras.models import Model\n",
    "from keras import backend as K\n",
    "from tensorflow.keras.losses import MSE\n",
    "from keras.layers import Dense, Activation, Dropout, Layer, LayerNormalization, Conv1D, Input, Concatenate, Permute, Add, GlobalAvgPool1D\n",
    "\n",
    "# ----- Positional Encoding -----\n",
    "\n",
    "\n",
    "class FixedPositionalEncoding(Layer):\n",
    "    def __init__(self, d_model, dropout = 0.1, max_len = 1024, scale_factor = 1.0, batch_size = BATCH_SIZE):\n",
    "        super(FixedPositionalEncoding, self).__init__()\n",
    "        self.dropout = Dropout(dropout)\n",
    "        self.batch_size = batch_size\n",
    "        self.pe = np.zeros((max_len, d_model))\n",
    "        position = np.expand_dims(np.arange(0, max_len, dtype = np.float32), 1)\n",
    "        div_term = np.exp(np.arange(0, d_model, 2)) * (-np.log(10000.0) / d_model)\n",
    "        self.pe[:, 0::2] = tf.sin(position * div_term)\n",
    "        self.pe[:, 1::2] = tf.cos(position * div_term)\n",
    "        self.pe = scale_factor * np.expand_dims(self.pe, 1)\n",
    "    def call(self, x):\n",
    "        x = x + self.pe\n",
    "        return self.dropout(x)\n",
    "\n",
    "class LearnablePositionalEncoding(Layer):\n",
    "    def __init__(self, d_model, dropout = 0.1, max_len = 1024):\n",
    "        super(LearnablePositionalEncoding, self).__init__()\n",
    "        self.dropout = Dropout(dropout)\n",
    "        self.pe = tf.Variable((max_len, 1, d_model))\n",
    "        self.pe = nn.init.uniform_(self.pe, -0.02, 0.02)\n",
    "\n",
    "    def call(self, inputs, *args, **kwargs):\n",
    "        x = inputs + self.pe[:inputs.size(0), :]\n",
    "        return self.dropout(x)\n",
    "\n",
    "# ----- Positional Encoding -----\n",
    "\n",
    "\n",
    "# ----- Model Implementation -----\n",
    "\n",
    "class MultiHeadAttention(tf.keras.layers.Layer):\n",
    "    def __init__(self, d_model, num_heads):\n",
    "        super(MultiHeadAttention, self).__init__()\n",
    "        self.d_model = d_model\n",
    "        self.num_heads = num_heads\n",
    "        self.depth = d_model // self.num_heads\n",
    "        self.wq = tf.keras.layers.Dense(d_model, kernel_initializer='glorot_uniform', use_bias=False)\n",
    "        self.wk = tf.keras.layers.Dense(d_model, kernel_initializer='glorot_uniform', use_bias=False)\n",
    "        self.wv = tf.keras.layers.Dense(d_model, kernel_initializer='glorot_uniform', use_bias=False)\n",
    "        self.ff = tf.keras.layers.Dense(d_model, kernel_initializer='glorot_uniform', use_bias=False)\n",
    "\n",
    "    def split_heads(self, x, batch_size):\n",
    "        x = tf.reshape(x, (batch_size, -1, self.num_heads, self.depth))\n",
    "        return tf.transpose(x, perm=[0, 2, 1, 3])\n",
    "\n",
    "    def call(self, inputs, *args, **kwargs):\n",
    "        q, k, v, mask = inputs\n",
    "        batch_size = tf.shape(q)[0]\n",
    "        q = self.wq(q)\n",
    "        k = self.wk(k)\n",
    "        v = self.wv(v)\n",
    "        q = self.split_heads(q, batch_size)\n",
    "        k = self.split_heads(k, batch_size)\n",
    "        v = self.split_heads(v, batch_size)\n",
    "        scaled_attention, attention_weights = scaled_dot_product_attention(q, k, v, mask)\n",
    "        scaled_attention = tf.transpose(scaled_attention, perm=[0, 2, 1, 3])\n",
    "        concat_attention = tf.reshape(scaled_attention, (batch_size, -1, self.d_model))\n",
    "        output = self.ff(concat_attention)\n",
    "        return output, attention_weights\n",
    "\n",
    "def scaled_dot_product_attention(q, k, v, mask):\n",
    "    matmul_qk = tf.matmul(q, k, transpose_b=True)\n",
    "    dk = tf.cast(tf.shape(k)[-1], tf.float32)\n",
    "    scaled_attention_logits = matmul_qk / tf.math.sqrt(dk)\n",
    "    if mask is not None: scaled_attention_logits += (mask * -1e9)\n",
    "    attention_weights = tf.nn.softmax(scaled_attention_logits, axis=-1)\n",
    "    output = tf.matmul(attention_weights, v)\n",
    "    return output, attention_weights\n",
    "\n",
    "class PointwiseFeedforward(tf.keras.layers.Layer):\n",
    "    def __init__(self, d_model):\n",
    "        super(PointwiseFeedforward, self).__init__()\n",
    "        self.ff1 = tf.keras.layers.Dense(d_model, kernel_initializer='glorot_uniform')\n",
    "        self. ff2 = tf.keras.layers.Dense(d_model, kernel_initializer='glorot_uniform')\n",
    "\n",
    "    def call(self, x):\n",
    "        x = self.ff1(x)\n",
    "        x = tf.nn.leaky_relu(x)\n",
    "        x = self.ff2(x)\n",
    "        return x\n",
    "\n",
    "class TransformerLayer(tf.keras.layers.Layer):\n",
    "    def __init__(self, d_model, num_heads):\n",
    "        super(TransformerLayer, self).__init__()\n",
    "        self.mha = MultiHeadAttention(d_model, num_heads)\n",
    "        self.ffn = PointwiseFeedforward(d_model)\n",
    "        self.layernorm1 = tf.keras.layers.LayerNormalization(epsilon=1e-6)\n",
    "        self.layernorm2 = tf.keras.layers.LayerNormalization(epsilon=1e-6)\n",
    "\n",
    "    def call(self, x, y, mask):\n",
    "        attn_output, _ = self.mha(x, y, y, mask)\n",
    "        out1 = self.layernorm1(x + attn_output)\n",
    "        ffn_output = self.ffn(out1)\n",
    "        out2 = self.layernorm2(out1 + ffn_output)\n",
    "        return out2\n",
    "\n",
    "class SingleAttention(Layer):\n",
    "    def __init__(self, d_k, d_v):\n",
    "        super(SingleAttention, self).__init__()\n",
    "        self.d_k = d_k\n",
    "        self.d_v = d_v\n",
    "\n",
    "    def build(self, input_shape):\n",
    "        self.query = Dense(self.d_k, input_shape = input_shape, kernel_initializer = 'glorot_uniform', bias_initializer = 'glorot_uniform')\n",
    "        self.key   = Dense(self.d_k, input_shape = input_shape, kernel_initializer = 'glorot_uniform', bias_initializer = 'glorot_uniform')\n",
    "        self.value = Dense(self.d_v, input_shape = input_shape, kernel_initializer = 'glorot_uniform', bias_initializer = 'glorot_uniform')\n",
    "\n",
    "    def call(self, inputs):\n",
    "        q = self.query(inputs[0])\n",
    "        k = self.key(inputs[1])\n",
    "        v = self.value(inputs[2])\n",
    "        attn_weights = tf.matmul(q, k, transpose_b = True)\n",
    "        attn_weights = tf.map_fn(lambda x: x / np.sqrt(self.d_k), attn_weights)\n",
    "        attn_weights = tf.nn.softmax(attn_weights, axis = -1)\n",
    "        attn_out = tf.matmul(attn_weights, v)\n",
    "        return attn_out\n",
    "\n",
    "class MultiAttention(Layer):\n",
    "    def __init__(self, d_k, d_v, n_heads):\n",
    "        super(MultiAttention, self).__init__()\n",
    "        self.d_k = d_k\n",
    "        self.d_v = d_v\n",
    "        self.n_heads = n_heads\n",
    "        self.attn_heads = list()\n",
    "\n",
    "    def build(self, input_shape):\n",
    "        for n in range(self.n_heads):\n",
    "            self.attn_heads.append(SingleAttention(self.d_k, self.d_v))\n",
    "        self.linear = Dense(input_shape[0][-1], kernel_initializer = 'glorot_uniform', bias_initializer = 'glorot_uniform')\n",
    "\n",
    "    def call(self, inputs):\n",
    "        attn = [self.attn_heads[i](inputs) for i in range(self.n_heads)]\n",
    "        concat_attn = Concatenate(axis = 2)(attn)\n",
    "        multi_linear = self.linear(concat_attn)\n",
    "        return multi_linear\n",
    "\n",
    "class TransformerEncoder(Layer):\n",
    "    def __init__(self, d_k, n_heads, ff_dim, dropout = 0.1, **kwargs):\n",
    "        super(TransformerEncoder, self).__init__()\n",
    "        self.d_k = d_k\n",
    "        self.ff_dim = ff_dim\n",
    "        self.n_heads = n_heads\n",
    "        self.attn_heads = list()\n",
    "        self.dropout_rate = dropout\n",
    "\n",
    "    def build(self, input_shape):\n",
    "        self.attn_multi = MultiAttention(self.d_k, self.d_k, self.n_heads)\n",
    "        self.attn_dropout = Dropout(self.dropout_rate)\n",
    "        self.attn_normalize = LayerNormalization(epsilon = 1e-6)\n",
    "        self.ff_conv1D_1 = Conv1D(filters = self.ff_dim, kernel_size = 1, activation = 'relu', padding = 'same')\n",
    "        self.ff_conv1D_2 = Conv1D(filters = input_shape[-1], kernel_size = 1, padding = 'same')\n",
    "        self.ff_dropout = Dropout(self.dropout_rate)\n",
    "        self.ff_normalize = LayerNormalization(epsilon = 1e-6)\n",
    "        self.addition = Add()\n",
    "        self.addition_2 = Add()\n",
    "\n",
    "    def call(self, inputs):\n",
    "        attn_layer = self.attn_multi([inputs, inputs, inputs])\n",
    "        attn_layer = self.attn_dropout(attn_layer)\n",
    "        attn_layer = self.attn_normalize(self.addition_2([inputs, attn_layer]))\n",
    "        ff_layer = self.ff_conv1D_1(attn_layer)\n",
    "        ff_layer = self.ff_conv1D_2(ff_layer)\n",
    "        ff_layer = self.ff_dropout(ff_layer)\n",
    "        ff_layer = self.ff_normalize(self.addition([inputs, ff_layer]))\n",
    "        return ff_layer\n",
    "\n",
    "    def get_config(self):\n",
    "        config = super().get_config().copy()\n",
    "        config.update({'d_k': self.d_k, 'd_v': self.d_v, 'n_heads': self.n_heads, 'ff_dim': self.ff_dim, 'attn_heads': self.attn_heads, 'dropout_rate': self.dropout_rate})\n",
    "        return config\n",
    "\n",
    "def batch_generator(batch_size):\n",
    "    while True:\n",
    "        x_train, y_train = train_features, targets\n",
    "        for i in range(0, len(x_train), batch_size):\n",
    "            x_batch = x_train[i:i + batch_size]\n",
    "            y_batch = y_train[i:i + batch_size]\n",
    "            for idx in range(x_batch.shape[0]):\n",
    "                mask = noise_mask(x_batch[0], masking_ratio, mean_mask_length, 'separate', 'geometric', None)\n",
    "                x_batch[idx][np.where(mask)] = -1.0\n",
    "                y_batch[idx][np.where(np.sum(mask, axis = -1))] = -1.0\n",
    "            yield (x_batch, y_batch)\n",
    "\n",
    "class TSTransformer(Model):\n",
    "    def __init__(self, feat_dim, max_len, d_model, n_heads, num_layers, dim_feedforward, dropout = 0.1, pos_encoding = 'fixed', activation = 'gelu', norm = 'BatchNorm', freeze = False):\n",
    "        super(TSTransformer, self).__init__()\n",
    "        self.max_len     = max_len\n",
    "        self.d_model     = d_model\n",
    "        self.n_heads     = n_heads\n",
    "        self.project_inp = Dense(d_model)\n",
    "        self.pos_enc     = FixedPositionalEncoding(d_model, dropout = dropout * (1.0 - freeze), max_len = max_len)\n",
    "        self.encoder_layers = [TransformerEncoder(d_model, self.n_heads, dim_feedforward, dropout * (1.0 - freeze), activation = activation) for i in range(num_layers)]\n",
    "        self.output_layer = Dense(feat_dim)\n",
    "        self.act          = Activation('relu')\n",
    "        self.dropout1     = Dropout(dropout)\n",
    "        self.feat_dim     = feat_dim\n",
    "\n",
    "    def call(self, X):\n",
    "        inp = K.permute_dimensions(X, (1, 0, 2))\n",
    "        inp = self.project_inp(inp) * math.sqrt(self.d_model)\n",
    "        inp = self.pos_enc(inp)\n",
    "        x = inp\n",
    "        for lay in self.encoder_layers: x = lay(x)\n",
    "        output = self.act(x)\n",
    "        output = K.permute_dimensions(output, (1, 0, 2))\n",
    "        output = self.dropout1(output)\n",
    "        output = self.output_layer(output)\n",
    "        return output\n",
    "\n",
    "# ----- Model Implementation -----\n",
    "\n",
    "\n",
    "# ----- Masking & Noise Injection -----\n",
    "\n",
    "# Reference: https://github.com/gzerveas/mvts_transformer\n",
    "def noise_mask(X, masking_ratio, lm = 3, mode = 'separate', distribution = 'geometric', exclude_feats = None):\n",
    "    if exclude_feats is not None: exclude_feats = set(exclude_feats)\n",
    "    if distribution == 'geometric':\n",
    "        if mode == 'separate':\n",
    "            mask = np.ones(X.shape, dtype = bool)\n",
    "            for m in range(X.shape[1]):\n",
    "                if exclude_feats is None or m not in exclude_feats: mask[:, m] = geom_noise_mask_single(X.shape[0], lm, masking_ratio)  # time dimension\n",
    "        else: mask = np.tile(np.expand_dims(geom_noise_mask_single(X.shape[0], lm, masking_ratio), 1), X.shape[1])\n",
    "    else:\n",
    "        if mode == 'separate': mask = np.random.choice(np.array([True, False]), size = X.shape, replace = True, p = (1 - masking_ratio, masking_ratio))\n",
    "        else: mask = np.tile(np.random.choice(np.array([True, False]), size = (X.shape[0], 1), replace = True, p = (1 - masking_ratio, masking_ratio)), X.shape[1])\n",
    "    return mask\n",
    "\n",
    "def geom_noise_mask_single(L, lm, masking_ratio):\n",
    "    keep_mask = np.ones(L, dtype = bool)\n",
    "    p_m = 1 / lm\n",
    "    p_u = p_m * masking_ratio / (1 - masking_ratio)\n",
    "    p = [p_m, p_u]\n",
    "    state = int(np.random.rand() > masking_ratio)\n",
    "    for i in range(L):\n",
    "        keep_mask[i] = state\n",
    "        if np.random.rand() < p[state]: state = 1 - state\n",
    "    return keep_mask\n",
    "\n",
    "def padding_mask(lengths, max_len = None):\n",
    "    batch_size = lengths.numel()\n",
    "    max_len = max_len or lengths.max_val()\n",
    "    return (tf.range(0, max_len, device = lengths.device).type_as(lengths).repeat(batch_size, 1).lt(tf.expand_dims(lengths, 1)))\n",
    "\n",
    "def collate_unsuperv(data, max_len = None, mask_compensation = False):\n",
    "    batch_size = len(data)\n",
    "    features, masks, u_out = zip(*data)\n",
    "    lengths = [X.shape[0] for X in features]\n",
    "    if max_len is None:\n",
    "        max_len = max(lengths)\n",
    "    X = tf.zeros(batch_size, max_len, features[0].shape[-1])\n",
    "    target_masks = tf.zeros_like(X, dtype = tf.bool)\n",
    "    for i in range(batch_size):\n",
    "        end = min(lengths[i], max_len)\n",
    "        X[i, :end, :] = features[i][:end, :]\n",
    "        target_masks[i, :end, :] = masks[i][:end, :]\n",
    "    targets = X.clone()\n",
    "    X = X * target_masks\n",
    "    if mask_compensation: X = compensate_masking(X, target_masks)\n",
    "    padding_masks = tf.zeros(batch_size, max_len, dtype = tf.bool)\n",
    "    for i in range(batch_size): padding_masks[i, :] = tf.where(u_out[i] == 0, 1, 0)\n",
    "    target_masks = ~target_masks\n",
    "    return X, targets, target_masks, padding_masks\n",
    "\n",
    "def masked_mse(y_true, y_pred):\n",
    "    is_mask = K.equal(tf.cast(y_true, tf.float32), tf.cast(-1.0, tf.float32))\n",
    "    is_mask = K.cast(is_mask, dtype = K.floatx())\n",
    "    is_mask = 1 - is_mask\n",
    "    y_true = tf.cast(y_true, tf.float32) * tf.cast(is_mask, tf.float32)\n",
    "    y_pred = tf.cast(y_pred, tf.float32) * tf.cast(is_mask, tf.float32)\n",
    "    return MSE(y_true, y_pred)\n",
    "\n",
    "def get_transformer_model(feat_dim, max_len, d_model, n_heads, num_layers, dim_feedforward, dropout = 0.1, pos_encoding = 'fixed', activation = 'gelu', norm = 'BatchNorm', freeze = False):\n",
    "    input_layer = Input((breath_steps, train_features.shape[-1]))\n",
    "    inp = input_layer\n",
    "    inp = Dense(d_model)(inp) * math.sqrt(d_model)\n",
    "    x = inp\n",
    "    for idx, lay in enumerate(range(num_layers)):\n",
    "        x = TransformerEncoder(d_model, n_heads, dim_feedforward, dropout * (1.0 - freeze), activation = activation)(x)\n",
    "    output = Activation('relu')(x)\n",
    "    output = Dropout(dropout)(output)\n",
    "    output = Dense(feat_dim)(output)\n",
    "    output = Permute([2, 1])(output)\n",
    "    output = GlobalAvgPool1D()(output)\n",
    "    return Model(inputs = input_layer, outputs = output)\n",
    "\n",
    "# ----- Masking & Noise Injection -----"
   ]
  },
  {
   "cell_type": "code",
   "execution_count": 21,
   "id": "d3d189c5",
   "metadata": {
    "execution": {
     "iopub.execute_input": "2021-11-27T09:21:11.188489Z",
     "iopub.status.busy": "2021-11-27T09:21:11.187358Z",
     "iopub.status.idle": "2021-11-27T09:21:21.710276Z",
     "shell.execute_reply": "2021-11-27T09:21:21.709689Z",
     "shell.execute_reply.started": "2021-11-27T09:12:56.165848Z"
    },
    "papermill": {
     "duration": 10.589236,
     "end_time": "2021-11-27T09:21:21.710445",
     "exception": false,
     "start_time": "2021-11-27T09:21:11.121209",
     "status": "completed"
    },
    "tags": []
   },
   "outputs": [
    {
     "name": "stderr",
     "output_type": "stream",
     "text": [
      "\n",
      "User settings:\n",
      "\n",
      "   KMP_AFFINITY=granularity=fine,verbose,compact,1,0\n",
      "   KMP_BLOCKTIME=0\n",
      "   KMP_DUPLICATE_LIB_OK=True\n",
      "   KMP_INIT_AT_FORK=FALSE\n",
      "   KMP_SETTINGS=1\n",
      "   KMP_WARNINGS=0\n",
      "\n",
      "Effective settings:\n",
      "\n",
      "   KMP_ABORT_DELAY=0\n",
      "   KMP_ADAPTIVE_LOCK_PROPS='1,1024'\n",
      "   KMP_ALIGN_ALLOC=64\n",
      "   KMP_ALL_THREADPRIVATE=128\n",
      "   KMP_ATOMIC_MODE=2\n",
      "   KMP_BLOCKTIME=0\n",
      "   KMP_CPUINFO_FILE: value is not defined\n",
      "   KMP_DETERMINISTIC_REDUCTION=false\n",
      "   KMP_DEVICE_THREAD_LIMIT=2147483647\n",
      "   KMP_DISP_NUM_BUFFERS=7\n",
      "   KMP_DUPLICATE_LIB_OK=true\n",
      "   KMP_ENABLE_TASK_THROTTLING=true\n",
      "   KMP_FORCE_REDUCTION: value is not defined\n",
      "   KMP_FOREIGN_THREADS_THREADPRIVATE=true\n",
      "   KMP_FORKJOIN_BARRIER='2,2'\n",
      "   KMP_FORKJOIN_BARRIER_PATTERN='hyper,hyper'\n",
      "   KMP_GTID_MODE=3\n",
      "   KMP_HANDLE_SIGNALS=false\n",
      "   KMP_HOT_TEAMS_MAX_LEVEL=1\n",
      "   KMP_HOT_TEAMS_MODE=0\n",
      "   KMP_INIT_AT_FORK=true\n",
      "   KMP_LIBRARY=throughput\n",
      "   KMP_LOCK_KIND=queuing\n",
      "   KMP_MALLOC_POOL_INCR=1M\n",
      "   KMP_NUM_LOCKS_IN_BLOCK=1\n",
      "   KMP_PLAIN_BARRIER='2,2'\n",
      "   KMP_PLAIN_BARRIER_PATTERN='hyper,hyper'\n",
      "   KMP_REDUCTION_BARRIER='1,1'\n",
      "   KMP_REDUCTION_BARRIER_PATTERN='hyper,hyper'\n",
      "   KMP_SCHEDULE='static,balanced;guided,iterative'\n",
      "   KMP_SETTINGS=true\n",
      "   KMP_SPIN_BACKOFF_PARAMS='4096,100'\n",
      "   KMP_STACKOFFSET=64\n",
      "   KMP_STACKPAD=0\n",
      "   KMP_STACKSIZE=8M\n",
      "   KMP_STORAGE_MAP=false\n",
      "   KMP_TASKING=2\n",
      "   KMP_TASKLOOP_MIN_TASKS=0\n",
      "   KMP_TASK_STEALING_CONSTRAINT=1\n",
      "   KMP_TEAMS_THREAD_LIMIT=4\n",
      "   KMP_TOPOLOGY_METHOD=all\n",
      "   KMP_USE_YIELD=1\n",
      "   KMP_VERSION=false\n",
      "   KMP_WARNINGS=false\n",
      "   OMP_AFFINITY_FORMAT='OMP: pid %P tid %i thread %n bound to OS proc set {%A}'\n",
      "   OMP_ALLOCATOR=omp_default_mem_alloc\n",
      "   OMP_CANCELLATION=false\n",
      "   OMP_DEFAULT_DEVICE=0\n",
      "   OMP_DISPLAY_AFFINITY=false\n",
      "   OMP_DISPLAY_ENV=false\n",
      "   OMP_DYNAMIC=false\n",
      "   OMP_MAX_ACTIVE_LEVELS=1\n",
      "   OMP_MAX_TASK_PRIORITY=0\n",
      "   OMP_NESTED: deprecated; max-active-levels-var=1\n",
      "   OMP_NUM_THREADS: value is not defined\n",
      "   OMP_PLACES: value is not defined\n",
      "   OMP_PROC_BIND='intel'\n",
      "   OMP_SCHEDULE='static'\n",
      "   OMP_STACKSIZE=8M\n",
      "   OMP_TARGET_OFFLOAD=DEFAULT\n",
      "   OMP_THREAD_LIMIT=2147483647\n",
      "   OMP_WAIT_POLICY=PASSIVE\n",
      "   KMP_AFFINITY='verbose,warnings,respect,granularity=fine,compact,1,0'\n",
      "\n",
      "2021-11-27 09:21:11.303769: I tensorflow/core/common_runtime/process_util.cc:146] Creating new thread pool with default inter op setting: 2. Tune using inter_op_parallelism_threads for best performance.\n"
     ]
    }
   ],
   "source": [
    "def MaxCorrelation(y_true,y_pred): return -tf.math.abs(tfp.stats.correlation(y_pred,y_true, sample_axis=None, event_axis=None))\n",
    "def Correlation(y_true,y_pred): return tf.math.abs(tfp.stats.correlation(y_pred,y_true, sample_axis=None, event_axis=None))\n",
    "\n",
    "def masked_mse(y_true, y_pred):\n",
    "    mask = tf.math.not_equal(y_true, 0.)\n",
    "    y_true_masked = tf.boolean_mask(y_true, mask)\n",
    "    y_pred_masked = tf.boolean_mask(y_pred, mask)\n",
    "    return tf.keras.losses.mean_squared_error(y_true = y_true_masked, y_pred = y_pred_masked)\n",
    "\n",
    "def masked_mae(y_true, y_pred):\n",
    "    mask = tf.math.not_equal(y_true, 0.)\n",
    "    y_true_masked = tf.boolean_mask(y_true, mask)\n",
    "    y_pred_masked = tf.boolean_mask(y_pred, mask)\n",
    "    return tf.keras.losses.mean_absolute_error(y_true = y_true_masked, y_pred = y_pred_masked)\n",
    "\n",
    "def masked_cosine(y_true, y_pred):\n",
    "    mask = tf.math.not_equal(y_true, 0.)\n",
    "    y_true_masked = tf.boolean_mask(y_true, mask)\n",
    "    y_pred_masked = tf.boolean_mask(y_pred, mask)\n",
    "    return tf.keras.losses.cosine_similarity(y_true_masked, y_pred_masked)\n",
    "\n",
    "def get_squence_model(x):\n",
    "    n_heads = 8\n",
    "    d_model = 128\n",
    "    dropout = 0.1\n",
    "    freeze = False\n",
    "    num_layers = 3\n",
    "    activation = 'gelu'\n",
    "    dim_feedforward = 256\n",
    "    \n",
    "    x = Dense(d_model)(x) * math.sqrt(d_model)\n",
    "    x = TransformerEncoder(d_model, n_heads, dim_feedforward, dropout * (1.0 - freeze), activation = activation)(x)\n",
    "    \n",
    "    return x\n",
    "\n",
    "def get_model(n_assets = 14):\n",
    "    x_input = keras.Input(shape=(train_generator[0][0].shape[1], n_assets, train_generator[0][0].shape[-1]))\n",
    "    branch_outputs = []\n",
    "    for i in range(n_assets):\n",
    "        a = layers.Lambda(lambda x: x[:,:, i])(x_input) # Slicing the ith asset:\n",
    "        a = layers.Masking(mask_value = 0., )(a)\n",
    "        a = get_squence_model(a)\n",
    "        a = layers.GlobalAvgPool1D()(a)\n",
    "        branch_outputs.append(a)\n",
    "    x = layers.Concatenate()(branch_outputs)\n",
    "    x = layers.Dense(units = 128)(x)\n",
    "    out = layers.Dense(units = n_assets)(x)\n",
    "    model = keras.Model(inputs=x_input, outputs=out)\n",
    "    model.compile(optimizer = tf.keras.optimizers.Adam(learning_rate=1e-3), loss = masked_cosine, metrics=[Correlation])\n",
    "    return model\n",
    "    \n",
    "model = get_model()"
   ]
  },
  {
   "cell_type": "code",
   "execution_count": 22,
   "id": "0dac1932",
   "metadata": {
    "execution": {
     "iopub.execute_input": "2021-11-27T09:21:21.815282Z",
     "iopub.status.busy": "2021-11-27T09:21:21.814119Z",
     "iopub.status.idle": "2021-11-27T09:21:25.300742Z",
     "shell.execute_reply": "2021-11-27T09:21:25.301283Z",
     "shell.execute_reply.started": "2021-11-27T09:13:06.151073Z"
    },
    "papermill": {
     "duration": 3.54242,
     "end_time": "2021-11-27T09:21:25.301455",
     "exception": false,
     "start_time": "2021-11-27T09:21:21.759035",
     "status": "completed"
    },
    "tags": []
   },
   "outputs": [
    {
     "data": {
      "image/png": "[encoded data removed]",
      "text/plain": [
       "<IPython.core.display.Image object>"
      ]
     },
     "execution_count": 22,
     "metadata": {},
     "output_type": "execute_result"
    }
   ],
   "source": [
    "tf.keras.utils.plot_model(get_model(n_assets=3), show_shapes=True)"
   ]
  },
  {
   "cell_type": "code",
   "execution_count": 23,
   "id": "95df5269",
   "metadata": {
    "execution": {
     "iopub.execute_input": "2021-11-27T09:21:25.429745Z",
     "iopub.status.busy": "2021-11-27T09:21:25.428711Z",
     "iopub.status.idle": "2021-11-27T13:55:37.505265Z",
     "shell.execute_reply": "2021-11-27T13:55:37.504696Z"
    },
    "papermill": {
     "duration": 16452.152533,
     "end_time": "2021-11-27T13:55:37.505415",
     "exception": false,
     "start_time": "2021-11-27T09:21:25.352882",
     "status": "completed"
    },
    "tags": []
   },
   "outputs": [
    {
     "name": "stdout",
     "output_type": "stream",
     "text": [
      "Index(['Count', 'Open', 'High', 'Low', 'Close', 'Volume', 'VWAP', 'spread',\n",
      "       'mean_trade', 'log_price_change', 'upper_Shadow', 'lower_Shadow',\n",
      "       'high_div_low', 'trade', 'gtrade', 'shadow1', 'shadow3', 'shadow5',\n",
      "       'diff1', 'mean1', 'mean2', 'mean3', 'mean4', 'mean5', 'UPS', 'LOS',\n",
      "       'RNG', 'MOV', 'CLS', 'LOGVOL', 'LOGCNT', 'Close/Open', 'Close-Open',\n",
      "       'High-Low', 'High/Low', 'Mean', 'High/Mean', 'Low/Mean', 'Volume/Count',\n",
      "       'high2mean', 'low2mean', 'high2median', 'low2median', 'volume2count',\n",
      "       'asset_order'],\n",
      "      dtype='object')\n",
      "\n",
      "Epoch 00001: LearningRateScheduler setting learning rate to tf.Tensor(0.001, shape=(), dtype=float32).\n"
     ]
    },
    {
     "name": "stderr",
     "output_type": "stream",
     "text": [
      "2021-11-27 09:21:25.560196: I tensorflow/compiler/mlir/mlir_graph_optimization_pass.cc:185] None of the MLIR Optimization Passes are enabled (registered 2)\n"
     ]
    },
    {
     "name": "stdout",
     "output_type": "stream",
     "text": [
      "814/814 [==============================] - 16046s 20s/step - loss: -0.0028 - Correlation: 0.0214 - val_loss: -0.0031 - val_Correlation: 0.0226\n",
      "Asset:    Corr. coef.\n",
      "---------------------\n",
      "Cardano: -0.0288\n",
      "Bitcoin Cash: -0.0069\n",
      "Binance Coin: 0.0093\n",
      "Bitcoin: 0.0085\n",
      "Dogecoin: -0.0097\n",
      "EOS.IO: -0.0154\n",
      "Ethereum Classic: 0.0008\n",
      "Ethereum: -0.0025\n",
      "IOTA: -0.0018\n",
      "Litecoin: -0.0111\n",
      "Maker: 0.0076\n",
      "TRON: -0.0069\n",
      "Stellar: -0.0045\n",
      "Monero: 0.0003\n"
     ]
    },
    {
     "data": {
      "image/png": "[encoded data removed]",
      "text/plain": [
       "<Figure size 1152x576 with 2 Axes>"
      ]
     },
     "metadata": {
      "needs_background": "light"
     },
     "output_type": "display_data"
    }
   ],
   "source": [
    "print(features)\n",
    "\n",
    "tf.random.set_seed(0)\n",
    "estop = keras.callbacks.EarlyStopping(monitor = 'val_loss', patience = 7, verbose = 0, mode = 'min',restore_best_weights = True)\n",
    "scheduler = keras.optimizers.schedules.ExponentialDecay(1e-3, (0.5 * len(X_train) / BATCH_SIZE), 1e-3)\n",
    "lr = keras.callbacks.LearningRateScheduler(scheduler, verbose = 1)\n",
    "history = model.fit(train_generator, validation_data = (val_generator), epochs = EPOCHS, callbacks = [lr, estop])\n",
    "\n",
    "fig, ax = plt.subplots(1, 2, figsize=(16, 8))\n",
    "histories = pd.DataFrame(history.history)\n",
    "epochs = list(range(1,len(histories)+1))\n",
    "loss = histories['loss']\n",
    "val_loss = histories['val_loss']\n",
    "Correlation = histories['Correlation']\n",
    "val_Correlation = histories['val_Correlation']\n",
    "ax[0].plot(epochs, loss, label = 'Train Loss')\n",
    "ax[0].plot(epochs, val_loss, label = 'Val Loss')\n",
    "ax[0].set_title('Losses')\n",
    "ax[0].set_xlabel('Epoch')\n",
    "ax[0].legend(loc='upper right')\n",
    "ax[1].plot(epochs, Correlation, label = 'Train Correlation')\n",
    "ax[1].plot(epochs, val_Correlation, label = 'Val Correlation')\n",
    "ax[1].set_title('Correlations')\n",
    "ax[1].set_xlabel('Epoch')\n",
    "ax[1].legend(loc='upper right')\n",
    "fig.show()\n",
    "gc.collect()\n",
    "\n",
    "# The correlation coefficients by asset for the validation data\n",
    "predictions = model.predict(val_generator)\n",
    "\n",
    "print('Asset:    Corr. coef.')\n",
    "print('---------------------')\n",
    "for i in range(N_ASSETS):\n",
    "    # drop first 14 values in the y_test, since they are absent in val_generator labels\n",
    "    y_true = np.squeeze(y_test[WINDOW_SIZE - 1:, i])\n",
    "    y_pred = np.squeeze(predictions[:, i])\n",
    "    real_target_ind = np.argwhere(y_true!=0)\n",
    "    asset_id = list(assets_order.keys())[i]\n",
    "    asset_name = assets[assets.Asset_ID == asset_id]['Asset_Name'].item()\n",
    "    print(f\"{asset_name}: {np.corrcoef(y_pred[real_target_ind].flatten(), y_true[real_target_ind].flatten())[0,1]:.4f}\")"
   ]
  },
  {
   "cell_type": "code",
   "execution_count": 24,
   "id": "f770b2e6",
   "metadata": {
    "execution": {
     "iopub.execute_input": "2021-11-27T13:55:38.117855Z",
     "iopub.status.busy": "2021-11-27T13:55:38.117157Z",
     "iopub.status.idle": "2021-11-27T13:55:40.032984Z",
     "shell.execute_reply": "2021-11-27T13:55:40.033939Z"
    },
    "jupyter": {
     "outputs_hidden": false
    },
    "papermill": {
     "duration": 2.224154,
     "end_time": "2021-11-27T13:55:40.034179",
     "exception": false,
     "start_time": "2021-11-27T13:55:37.810025",
     "status": "completed"
    },
    "pycharm": {
     "name": "#%%\n"
    },
    "tags": []
   },
   "outputs": [],
   "source": [
    "# Submission\n",
    "# placeholder for first 15 samples\n",
    "sup = dt.fread('../input/cryptocurrency-extra-data-binance-coin/orig_supplemental_train.jay').to_pandas()[:WINDOW_SIZE * (N_ASSETS)]\n",
    "placeholder = get_features(sup)\n",
    "placeholder['asset_order'] = placeholder.Asset_ID.map(assets_order)\n",
    "test_sample = np.array(placeholder[features])\n",
    "test_sample = test_sample.reshape(-1, (N_ASSETS), test_sample.shape[-1])\n",
    "test_sample = np.expand_dims(test_sample, axis=0)"
   ]
  },
  {
   "cell_type": "code",
   "execution_count": 25,
   "id": "a727e826",
   "metadata": {
    "execution": {
     "iopub.execute_input": "2021-11-27T13:55:40.647321Z",
     "iopub.status.busy": "2021-11-27T13:55:40.646589Z",
     "iopub.status.idle": "2021-11-27T13:55:40.662586Z",
     "shell.execute_reply": "2021-11-27T13:55:40.663174Z"
    },
    "papermill": {
     "duration": 0.324994,
     "end_time": "2021-11-27T13:55:40.663406",
     "exception": false,
     "start_time": "2021-11-27T13:55:40.338412",
     "status": "completed"
    },
    "tags": []
   },
   "outputs": [],
   "source": [
    "# for test gap filling\n",
    "example = dt.fread('../input/cryptocurrency-extra-data-binance-coin/orig_example_test.jay').to_pandas()[:WINDOW_SIZE - 1]\n",
    "example['asset_order'] = example.Asset_ID.map(assets_order) \n",
    "example = example[['Asset_ID','asset_order']]"
   ]
  },
  {
   "cell_type": "markdown",
   "id": "b33c9b0e",
   "metadata": {
    "papermill": {
     "duration": 0.306398,
     "end_time": "2021-11-27T13:55:41.283413",
     "exception": false,
     "start_time": "2021-11-27T13:55:40.977015",
     "status": "completed"
    },
    "tags": []
   },
   "source": [
    "# <span class=\"title-section w3-xxlarge\" id=\"submit\">Submit To Kaggle 🇰</span>\n",
    "<hr>"
   ]
  },
  {
   "cell_type": "code",
   "execution_count": 26,
   "id": "c3802f20",
   "metadata": {
    "execution": {
     "iopub.execute_input": "2021-11-27T13:55:41.917783Z",
     "iopub.status.busy": "2021-11-27T13:55:41.917025Z",
     "iopub.status.idle": "2021-11-27T13:56:08.009603Z",
     "shell.execute_reply": "2021-11-27T13:56:08.008790Z"
    },
    "papermill": {
     "duration": 26.419661,
     "end_time": "2021-11-27T13:56:08.009778",
     "exception": false,
     "start_time": "2021-11-27T13:55:41.590117",
     "status": "completed"
    },
    "tags": []
   },
   "outputs": [
    {
     "name": "stdout",
     "output_type": "stream",
     "text": [
      "This version of the API is not optimized and should not be used to estimate the runtime of your code on the hidden test set.\n"
     ]
    }
   ],
   "source": [
    "env = gresearch_crypto.make_env()\n",
    "iter_test = env.iter_test()\n",
    "\n",
    "for (test_df, sample_prediction_df) in iter_test:\n",
    "    test_df = get_features(test_df)\n",
    "    test_data = test_df.merge(example, how='outer', on='Asset_ID').sort_values('asset_order')\n",
    "    test = np.array(test_data[features].fillna(0))\n",
    "    test = test.reshape(-1, 1, N_ASSETS, test.shape[-1])\n",
    "    test_sample = np.hstack([test_sample, test])[:,-1 * WINDOW_SIZE:]\n",
    "    y_pred = model.predict(test_sample).squeeze().reshape(-1, 1).squeeze()\n",
    "    test_data['Target'] = y_pred\n",
    "    for _, row in test_df.iterrows():\n",
    "        try: sample_prediction_df.loc[sample_prediction_df['row_id'] == row['row_id'], 'Target'] = test_data.loc[test_data['row_id'] == row['row_id'], 'Target'].item()\n",
    "        except: sample_prediction_df.loc[sample_prediction_df['row_id'] == row['row_id'], 'Target'] = 0\n",
    "    env.predict(sample_prediction_df)"
   ]
  },
  {
   "cell_type": "markdown",
   "id": "a4197cb9",
   "metadata": {
    "papermill": {
     "duration": 0.304355,
     "end_time": "2021-11-27T13:56:08.617037",
     "exception": false,
     "start_time": "2021-11-27T13:56:08.312682",
     "status": "completed"
    },
    "tags": []
   },
   "source": [
    "# <span class=\"title-section w3-xxlarge\">References</span>\n",
    "\n",
    "<span id=\"f1\">1.</span> [Initial baseline notebook](https://www.kaggle.com/julian3833)<br>\n",
    "<span id=\"f2\">2.</span> [Competition tutorial](https://www.kaggle.com/cstein06/tutorial-to-the-g-research-crypto-competition)<br>\n",
    "<span id=\"f3\">3.</span> [Competition Overview](https://www.kaggle.com/c/g-research-crypto-forecasting/overview)</span><br>\n",
    "<span id=\"f4\">4.</span> [My Initial Ideas for this competition](https://www.kaggle.com/c/g-research-crypto-forecasting/discussion/284903)</span><br>\n",
    "<span id=\"f5\">5.</span> [My post notebook about cross validation](https://www.kaggle.com/yamqwe/let-s-talk-validation-grouptimeseriessplit)</span><br>\n",
    "<span id=\"f5\">6.</span> [Chris original notebook from SIIM ISIC](https://www.kaggle.com/cdeotte/triple-stratified-kfold-with-tfrecords)</span><br>\n",
    "\n",
    "<span class=\"title-section w3-large w3-tag\">WORK IN PROGRESS! 🚧</span>"
   ]
  }
 ],
 "metadata": {
  "kernelspec": {
   "display_name": "Python 3 (ipykernel)",
   "language": "python",
   "name": "python3"
  },
  "language_info": {
   "codemirror_mode": {
    "name": "ipython",
    "version": 3
   },
   "file_extension": ".py",
   "mimetype": "text/x-python",
   "name": "python",
   "nbconvert_exporter": "python",
   "pygments_lexer": "ipython3",
   "version": "3.9.7"
  },
  "latex_envs": {
   "LaTeX_envs_menu_present": true,
   "autoclose": false,
   "autocomplete": true,
   "bibliofile": "biblio.bib",
   "cite_by": "apalike",
   "current_citInitial": 1,
   "eqLabelWithNumbers": true,
   "eqNumInitial": 1,
   "hotkeys": {
    "equation": "Ctrl-E",
    "itemize": "Ctrl-I"
   },
   "labels_anchors": false,
   "latex_user_defs": false,
   "report_style_numbering": false,
   "user_envs_cfg": false
  },
  "papermill": {
   "default_parameters": {},
   "duration": 16803.122488,
   "end_time": "2021-11-27T13:56:12.269605",
   "environment_variables": {},
   "exception": null,
   "input_path": "__notebook__.ipynb",
   "output_path": "__notebook__.ipynb",
   "parameters": {},
   "start_time": "2021-11-27T09:16:09.147117",
   "version": "2.3.3"
  },
  "toc": {
   "base_numbering": 1,
   "nav_menu": {},
   "number_sections": true,
   "sideBar": true,
   "skip_h1_title": false,
   "title_cell": "Table of Contents",
   "title_sidebar": "Contents",
   "toc_cell": false,
   "toc_position": {},
   "toc_section_display": true,
   "toc_window_display": false
  },
  "varInspector": {
   "cols": {
    "lenName": 16,
    "lenType": 16,
    "lenVar": 40
   },
   "kernels_config": {
    "python": {
     "delete_cmd_postfix": "",
     "delete_cmd_prefix": "del ",
     "library": "var_list.py",
     "varRefreshCmd": "print(var_dic_list())"
    },
    "r": {
     "delete_cmd_postfix": ") ",
     "delete_cmd_prefix": "rm(",
     "library": "var_list.r",
     "varRefreshCmd": "cat(var_dic_list()) "
    }
   },
   "types_to_exclude": [
    "module",
    "function",
    "builtin_function_or_method",
    "instance",
    "_Feature"
   ],
   "window_display": false
  }
 },
 "nbformat": 4,
 "nbformat_minor": 5
}
