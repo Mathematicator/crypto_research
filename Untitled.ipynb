{
 "cells": [
  {
   "cell_type": "code",
   "execution_count": 28,
   "id": "0d77473b",
   "metadata": {
    "ExecuteTime": {
     "end_time": "2022-03-07T18:52:17.563224Z",
     "start_time": "2022-03-07T18:52:17.558224Z"
    }
   },
   "outputs": [],
   "source": [
    "f = open(\"demofile.txt\", \"r\")\n",
    "text =f.read()"
   ]
  },
  {
   "cell_type": "code",
   "execution_count": 29,
   "id": "a2e00567",
   "metadata": {
    "ExecuteTime": {
     "end_time": "2022-03-07T18:52:17.690284Z",
     "start_time": "2022-03-07T18:52:17.686284Z"
    }
   },
   "outputs": [
    {
     "data": {
      "text/plain": [
       "'\\t\\t\\\\begin{tabular}{>{}l>{}p{13cm}} \\t\\t\\t\\n\\t\\t\\t\\\\faJenkins\\\\textsc{ DevSecOps Agile Scrum:} \\n            & \\\\footnotesize{\\\\cvtag{MLO\\n            ps}}\\\\footnotesize{\\\\cvtag{TFS}}\\\\footnotesize{\\\\cvtag{JIRA}}\\\\footnotesize{\\\\cvtag{CI/CD}}\\\\footnotesize{\\\\cvtag{Sprint report}} \\\\\\\\\\t\\t\\n\\t\\t\\n\\t\\t\\t\\\\faCalendarCheck\\\\textsc{ Project management:} \\n            & \\\\footnotesize{\\\\cvtag{MSPROJECT}}\\\\footnotesize{\\\\cvtag{MLops}}\\\\footnotesize{\\\\cvtag{GANT}}\\\\footnotesize{\\\\cvtag{PERT}}\\\\\\\\\\n            \\n            \\t\\\\faChalkboardTeacher\\\\textsc{ Soft Management Skills:} \\n            & \\\\footnotesize{\\\\cvtag{Clear Communication}}\\\\footnotesize{\\\\cvtag{Self control}}\\\\footnotesize{\\\\cvtag{MSPROJECT}}\\\\footnotesize{\\\\cvtag{Conflict resolution}}\\\\footnotesize{\\\\cvtag{Positive attitude}}\\\\footnotesize{\\\\cvtag{Listening skills}}\\\\footnotesize{\\\\cvtag{Collaboration}}\\\\footnotesize{\\\\cvtag{Decision-making}}\\\\\\\\\\n            \\n\\t\\t\\n\\t\\t\\\\end{tabular}\\t'"
      ]
     },
     "execution_count": 29,
     "metadata": {},
     "output_type": "execute_result"
    }
   ],
   "source": [
    "text"
   ]
  },
  {
   "cell_type": "code",
   "execution_count": 30,
   "id": "ec66bebc",
   "metadata": {
    "ExecuteTime": {
     "end_time": "2022-03-07T18:52:17.830560Z",
     "start_time": "2022-03-07T18:52:17.824558Z"
    }
   },
   "outputs": [],
   "source": [
    "import regex as re\n",
    "\n",
    "# found = re.sub(r' \\{(.*?)\\}',r' \\footnotesize{cvtag{\\1}}', text)\n",
    "found = re.sub(r'cvtag{(.*?)}',r'cvtag{\\textsc{\\1}}', text)"
   ]
  },
  {
   "cell_type": "code",
   "execution_count": 31,
   "id": "b3dc9e6f",
   "metadata": {
    "ExecuteTime": {
     "end_time": "2022-03-07T18:52:17.984888Z",
     "start_time": "2022-03-07T18:52:17.970764Z"
    }
   },
   "outputs": [],
   "source": [
    "with open('readme.txt', 'w') as f:\n",
    "    f.write(found)"
   ]
  },
  {
   "cell_type": "code",
   "execution_count": 22,
   "id": "ba1e3c34",
   "metadata": {
    "ExecuteTime": {
     "end_time": "2022-03-07T18:47:49.210730Z",
     "start_time": "2022-03-07T18:47:49.192728Z"
    }
   },
   "outputs": [
    {
     "ename": "AttributeError",
     "evalue": "'str' object has no attribute 'group'",
     "output_type": "error",
     "traceback": [
      "\u001b[1;31m---------------------------------------------------------------------------\u001b[0m",
      "\u001b[1;31mAttributeError\u001b[0m                            Traceback (most recent call last)",
      "\u001b[1;32m~\\AppData\\Local\\Temp/ipykernel_26192/1929099225.py\u001b[0m in \u001b[0;36m<module>\u001b[1;34m\u001b[0m\n\u001b[1;32m----> 1\u001b[1;33m \u001b[1;33m[\u001b[0m\u001b[0mx\u001b[0m\u001b[1;33m.\u001b[0m\u001b[0mgroup\u001b[0m\u001b[1;33m(\u001b[0m\u001b[1;33m)\u001b[0m \u001b[1;32mfor\u001b[0m \u001b[0mx\u001b[0m \u001b[1;32min\u001b[0m \u001b[0mfound\u001b[0m\u001b[1;33m]\u001b[0m\u001b[1;33m\u001b[0m\u001b[1;33m\u001b[0m\u001b[0m\n\u001b[0m",
      "\u001b[1;32m~\\AppData\\Local\\Temp/ipykernel_26192/1929099225.py\u001b[0m in \u001b[0;36m<listcomp>\u001b[1;34m(.0)\u001b[0m\n\u001b[1;32m----> 1\u001b[1;33m \u001b[1;33m[\u001b[0m\u001b[0mx\u001b[0m\u001b[1;33m.\u001b[0m\u001b[0mgroup\u001b[0m\u001b[1;33m(\u001b[0m\u001b[1;33m)\u001b[0m \u001b[1;32mfor\u001b[0m \u001b[0mx\u001b[0m \u001b[1;32min\u001b[0m \u001b[0mfound\u001b[0m\u001b[1;33m]\u001b[0m\u001b[1;33m\u001b[0m\u001b[1;33m\u001b[0m\u001b[0m\n\u001b[0m",
      "\u001b[1;31mAttributeError\u001b[0m: 'str' object has no attribute 'group'"
     ]
    }
   ],
   "source": [
    "[x.group() for x in found]"
   ]
  },
  {
   "cell_type": "code",
   "execution_count": null,
   "id": "10aecf11",
   "metadata": {},
   "outputs": [],
   "source": []
  }
 ],
 "metadata": {
  "kernelspec": {
   "display_name": "Python 3 (ipykernel)",
   "language": "python",
   "name": "python3"
  },
  "language_info": {
   "codemirror_mode": {
    "name": "ipython",
    "version": 3
   },
   "file_extension": ".py",
   "mimetype": "text/x-python",
   "name": "python",
   "nbconvert_exporter": "python",
   "pygments_lexer": "ipython3",
   "version": "3.9.7"
  },
  "latex_envs": {
   "LaTeX_envs_menu_present": true,
   "autoclose": false,
   "autocomplete": true,
   "bibliofile": "biblio.bib",
   "cite_by": "apalike",
   "current_citInitial": 1,
   "eqLabelWithNumbers": true,
   "eqNumInitial": 1,
   "hotkeys": {
    "equation": "Ctrl-E",
    "itemize": "Ctrl-I"
   },
   "labels_anchors": false,
   "latex_user_defs": false,
   "report_style_numbering": false,
   "user_envs_cfg": false
  },
  "toc": {
   "base_numbering": 1,
   "nav_menu": {},
   "number_sections": true,
   "sideBar": true,
   "skip_h1_title": false,
   "title_cell": "Table of Contents",
   "title_sidebar": "Contents",
   "toc_cell": false,
   "toc_position": {},
   "toc_section_display": true,
   "toc_window_display": false
  },
  "varInspector": {
   "cols": {
    "lenName": 16,
    "lenType": 16,
    "lenVar": 40
   },
   "kernels_config": {
    "python": {
     "delete_cmd_postfix": "",
     "delete_cmd_prefix": "del ",
     "library": "var_list.py",
     "varRefreshCmd": "print(var_dic_list())"
    },
    "r": {
     "delete_cmd_postfix": ") ",
     "delete_cmd_prefix": "rm(",
     "library": "var_list.r",
     "varRefreshCmd": "cat(var_dic_list()) "
    }
   },
   "types_to_exclude": [
    "module",
    "function",
    "builtin_function_or_method",
    "instance",
    "_Feature"
   ],
   "window_display": false
  }
 },
 "nbformat": 4,
 "nbformat_minor": 5
}
